{
 "cells": [
  {
   "cell_type": "markdown",
   "metadata": {},
   "source": [
    "# Langchain baseline\n",
    "\n",
    "* fixed chunk size"
   ]
  },
  {
   "cell_type": "code",
   "execution_count": 1,
   "metadata": {},
   "outputs": [],
   "source": [
    "import os\n",
    "import re\n",
    "from pathlib import Path\n",
    "\n",
    "from langchain.schema import BaseOutputParser\n",
    "from langchain.text_splitter import RecursiveCharacterTextSplitter\n",
    "from langchain_community.document_loaders import PyPDFLoader\n",
    "from langchain_community.vectorstores import FAISS\n",
    "from langchain_core.output_parsers import StrOutputParser\n",
    "from langchain_core.runnables import RunnablePassthrough\n",
    "from langchain.prompts import ChatPromptTemplate\n",
    "from langchain_huggingface import HuggingFacePipeline\n",
    "\n",
    "from transformers import AutoModelForCausalLM, AutoTokenizer, pipeline\n",
    "\n",
    "from eurocc_v1.paths import DATA_DIR"
   ]
  },
  {
   "cell_type": "markdown",
   "metadata": {},
   "source": [
    "## Loading the raw text from the docs"
   ]
  },
  {
   "cell_type": "code",
   "execution_count": 2,
   "metadata": {},
   "outputs": [
    {
     "name": "stdout",
     "output_type": "stream",
     "text": [
      "Loaded 85606 characters\n"
     ]
    }
   ],
   "source": [
    "pdf_folder_path = DATA_DIR / \"raw\"\n",
    "loaders = [\n",
    "    PyPDFLoader(os.path.join(pdf_folder_path, fn)) for fn in os.listdir(pdf_folder_path)\n",
    "]\n",
    "pages = loaders[0].load() # FIXME: using just one single doc for testing\n",
    "\n",
    "pages_str = \"\"\n",
    "pages_list = []\n",
    "for page in pages:\n",
    "    pages_list.append(page.page_content)\n",
    "\n",
    "pages_str = \"\".join(pages_list)\n",
    "print(f\"Loaded {len(pages_str)} characters\")"
   ]
  },
  {
   "cell_type": "markdown",
   "metadata": {},
   "source": [
    "## Cleaning"
   ]
  },
  {
   "cell_type": "code",
   "execution_count": 3,
   "metadata": {},
   "outputs": [
    {
     "name": "stdout",
     "output_type": "stream",
     "text": [
      " \n",
      " \n",
      "Le informazioni contenute nel presente documento sono di proprietà di Selex ES S.p.A.  e non possono, al pari di tale documento, essere \n",
      "riprodott e, utilizzat e o divulgat e in tutto o in parte a terzi senza preventiva autorizzazione scritta di Selex ES S.p.A.  \n",
      "Il documento è disponibile nell’Intranet Aziendale/BMS di Selex ES S.p.A. Le copie, sia in formato elettronico che cartaceo dovranno \n",
      "essere verificate, prima dell’utilizzo, con la versione vigente disponibile su Intranet.  \n",
      "© Copyright Selex ES S.p.A. 2014 - Tutti i diritti riservati  \n",
      " \n",
      "IDENTIFICATIVO : PRO0 02-P-IT Rev. 01 \n",
      "DATA: 30/12/2015  \n",
      "TIPO DOCUMENTO : PROCEDURA  \n",
      "APPLICAZIONE : Selex ES S.p.A.  \n",
      "  \n",
      " \n",
      " \n",
      " \n",
      " \n",
      "Selezione, Autorizzazione e Qualifica dei \n",
      "Fornitori   \n",
      " \n",
      " \n",
      " \n",
      " \n",
      " \n",
      " \n",
      " \n",
      " \n",
      " \n",
      " \n",
      " \n",
      " \n",
      " \n",
      "SOMMARIO : \n",
      "Il presente documento descrive le attività di selezione, autorizzazione e qualifica dei fornitori utilizzabili in \n",
      "Selex ES S.p.A  e la gestione degli stessi nell’Elenco Fornitori Qualificati (EFQ)  e nell’Anagrafica Fornitori SAP . \n",
      " \n",
      " \n",
      "  PROCEDURA  \n",
      "PRO002 -P-IT REV. 01 PRO0 02-P-IT REV. 01 \n",
      "SELEZIONE, AUTORIZZAZIONE E QUALIFICA DEI FORNITORI   \n",
      " \n",
      " \n",
      "Template: QUA049 -T-CO it rev00       © Copyright Selex ES S.p.A. 201 4 – Tutti i diritti riservati  Pag. 2 di 42 \n",
      " \n",
      " Responsabilità/Unità  Nom e/Firma  \n",
      "Author[s]    \n",
      " Central  Quality/Audit & Certification  C. Di Goro  \n",
      " Procurement Strategy, Processes & \n",
      "Initiatives  P. Giovannoni   \n",
      " Procurement Strategy, Processes & \n",
      "Initiatives  L. Berna  \n",
      " \n",
      " \n",
      " \n",
      "Owner  \n",
      " Procurement  M. Vallicelli  \n",
      " \n",
      " \n",
      " \n",
      "Authority  \n",
      " Procurement  M. Torre  \n",
      " \n",
      " \n",
      " \n",
      " \n",
      " \n",
      "Registro delle Revisioni  \n",
      "Rev.  Data  Descrizione  Autore  \n",
      "00 19/04/2013  Prima emissione  C. Di Goro, I. B. Bonvino, L. Berna,  \n",
      "G. Mariottini  \n",
      "01 30/12/2015  Seconda emissione per : \n",
      "− adeguamento del processo alle modifiche \n",
      "intervenute nell’operatività  configuratasi \n",
      "dalla prima emissione , \n",
      "− allineamento del processo alla Direttiva n.21 \n",
      "Finmeccanica del 30 -03-2015),  \n",
      "− integrazione del documento con la PRO040 -\n",
      "T-IT con eliminazione delle attività di Mutuo \n",
      "Riconoscimento (PRO046 -T-IT) essendo \n",
      "superata la fase transitoria di gestione \n",
      "fornitori nei sistemi informativi  C. Di Goro, P. Giovannoni, L. Berna,  \n",
      "A. Minicozzi, L. Gel ormini, G. \n",
      "Iacoletti,  \n",
      "G. Trillò  \n",
      "    \n",
      " \n",
      "  PROCEDURA  \n",
      "PRO002 -P-IT REV. 01 PRO0 02-P-IT REV. 01 \n",
      "SELEZIONE, AUTORIZZAZIONE E QUALIFICA DEI FORNITORI   \n",
      " \n",
      " \n",
      "Template: QUA049 -T-CO it rev00       © Copyright Selex ES S.p.A. 201 4 – Tutti i diritti riservati  Pag. 3 di 42 \n",
      " \n",
      "INDICE GENERALE  \n",
      "1 INTRODUZIONE  ................................ ................................ ................................ .........................  5 \n",
      "1.1 Scopo  ................................ ................................ ................................ ................................  5 \n",
      "1.2 Applicabilità ................................ ................................ ................................ ........................  5 \n",
      "1.3 Compliance  ..................\n"
     ]
    }
   ],
   "source": [
    "from eurocc_v1.bin.preprocessing.regex import (\n",
    "    remove_header,\n",
    "    remove_footer, \n",
    "    remove_empty_lines,\n",
    "    remove_multiple_spaces,\n",
    "    replace_ligatures,\n",
    "    remove_bullets \n",
    ")\n",
    "\n",
    "# small test\n",
    "pages_str = pages_str[:3000]\n",
    "print(pages_str)"
   ]
  },
  {
   "cell_type": "code",
   "execution_count": 4,
   "metadata": {},
   "outputs": [
    {
     "name": "stdout",
     "output_type": "stream",
     "text": [
      "Le informazioni contenute nel presente documento sono di proprietà di Selex ES S.p.A. e non possono, al pari di tale documento, essere \n",
      "riprodott e, utilizzat e o divulgat e in tutto o in parte a terzi senza preventiva autorizzazione scritta di Selex ES S.p.A. \n",
      "Il documento è disponibile nell’Intranet Aziendale/BMS di Selex ES S.p.A. Le copie, sia in formato elettronico che cartaceo dovranno \n",
      "essere verificate, prima dell’utilizzo, con la versione vigente disponibile su Intranet. \n",
      "© Copyright Selex ES S.p.A. 2014 - Tutti i diritti riservati \n",
      "IDENTIFICATIVO : PRO0 02-P-IT Rev. 01 \n",
      "DATA: 30/12/2015 \n",
      "TIPO DOCUMENTO : PROCEDURA \n",
      "APPLICAZIONE : Selex ES S.p.A. \n",
      "Selezione, Autorizzazione e Qualifica dei \n",
      "Fornitori \n",
      "SOMMARIO : \n",
      "Il presente documento descrive le attività di selezione, autorizzazione e qualifica dei fornitori utilizzabili in \n",
      "Selex ES S.p.A e la gestione degli stessi nell’Elenco Fornitori Qualificati (EFQ) e nell’Anagrafica Fornitori SAP . \n",
      " Responsabilità/Unità Nom e/Firma \n",
      "Author[s] \n",
      " Central Quality/Audit & Certification C. Di Goro \n",
      " Procurement Strategy, Processes & \n",
      "Initiatives P. Giovannoni \n",
      " Procurement Strategy, Processes & \n",
      "Initiatives L. Berna \n",
      "Owner \n",
      " Procurement M. Vallicelli \n",
      "Authority \n",
      " Procurement M. Torre \n",
      "Registro delle Revisioni \n",
      "Rev. Data Descrizione Autore \n",
      "00 19/04/2013 Prima emissione C. Di Goro, I. B. Bonvino, L. Berna, \n",
      "G. Mariottini \n",
      "01 30/12/2015 Seconda emissione per : \n",
      "− adeguamento del processo alle modifiche \n",
      "intervenute nell’operatività configuratasi \n",
      "dalla prima emissione , \n",
      "− allineamento del processo alla Direttiva n.21 \n",
      "Finmeccanica del 30 -03-2015), \n",
      "− integrazione del documento con la PRO040 -\n",
      "T-IT con eliminazione delle attività di Mutuo \n",
      "Riconoscimento (PRO046 -T-IT) essendo \n",
      "superata la fase transitoria di gestione \n",
      "fornitori nei sistemi informativi C. Di Goro, P. Giovannoni, L. Berna, \n",
      "A. Minicozzi, L. Gel ormini, G. \n",
      "Iacoletti, \n",
      "G. Trillò \n",
      "INDICE GENERALE \n",
      "1 INTRODUZIONE ................................ ................................ ................................ ......................... 5 \n",
      "1.1 Scopo ................................ ................................ ................................ ................................ 5 \n",
      "1.2 Applicabilità ................................ ................................ ................................ ........................ 5 \n",
      "1.3 Compliance ..................\n"
     ]
    }
   ],
   "source": [
    "# just temporary test, better to encapsulate in a class\n",
    "cleanings = [remove_header, remove_footer, replace_ligatures, remove_bullets, remove_empty_lines, remove_multiple_spaces]\n",
    "\n",
    "for cleaning_step in cleanings:\n",
    "    pages_str = cleaning_step(pages_str)\n",
    "\n",
    "print(pages_str)"
   ]
  },
  {
   "cell_type": "markdown",
   "metadata": {},
   "source": [
    "## Retrieve metadata"
   ]
  },
  {
   "cell_type": "code",
   "execution_count": 5,
   "metadata": {},
   "outputs": [
    {
     "name": "stdout",
     "output_type": "stream",
     "text": [
      "id: PRO0 02-P-IT Rev. 01\n",
      "date: 30/12/2015\n",
      "doc_type: PROCEDURA\n",
      "app: Selex ES S.p.A.\n",
      "summary: Il presente documento descrive le attività di selezione, autorizzazione e qualifica dei fornitori utilizzabili in \n",
      "Selex ES S.p.A  e la gestione degli stessi nell’Elenco Fornitori Qualificati (EFQ)  e nell’Anagrafica Fornitori SAP .\n"
     ]
    }
   ],
   "source": [
    "# The follwing is a super naive metadata extraction: it works for each \"first\" page of each document (if the template remains the same... :') )\n",
    "# Here just testing a single doc, but we can instert this into the for loop when we extract pdf text with each loader, it just requires a bit of refactoring\n",
    "# TODO: do we want also the title from here? or from the doc name? (maybe better from here)\n",
    "\n",
    "from eurocc_v1.bin.preprocessing.metadata import extract_metadata, print_metadata\n",
    "\n",
    "text = pages_list[0] # text of the first page of doc PRO002-P-IT\n",
    "# print(text)\n",
    "\n",
    "metadata = extract_metadata(text)\n",
    "print_metadata(metadata)\n"
   ]
  },
  {
   "cell_type": "markdown",
   "metadata": {},
   "source": [
    "## Chunking"
   ]
  },
  {
   "cell_type": "code",
   "execution_count": 6,
   "metadata": {
    "scrolled": true
   },
   "outputs": [],
   "source": [
    "# This text splitter is the recommended one for generic text. It is parameterized by a list of characters. \n",
    "# It tries to split on them in order until the chunks are small enough. The default list is [\"\\n\\n\", \"\\n\", \" \", \"\"]. \n",
    "# This has the effect of trying to keep all paragraphs (and then sentences, and then words) together as long as possible, \n",
    "# as those would generically seem to be the strongest semantically related pieces of text.\n",
    "text_splitter = RecursiveCharacterTextSplitter(\n",
    "    chunk_size=1024,\n",
    "    chunk_overlap=256,\n",
    "    length_function=len,\n",
    "    is_separator_regex=False,\n",
    ")\n",
    "\n",
    "faiss_docs = text_splitter.create_documents([pages_str])"
   ]
  },
  {
   "cell_type": "markdown",
   "metadata": {},
   "source": [
    "## Embedder model"
   ]
  },
  {
   "cell_type": "code",
   "execution_count": 7,
   "metadata": {},
   "outputs": [],
   "source": [
    "model_name=\"BAAI/bge-m3\""
   ]
  },
  {
   "cell_type": "code",
   "execution_count": 8,
   "metadata": {},
   "outputs": [],
   "source": [
    "#device = \"cpu\"\n",
    "device = \"cuda\""
   ]
  },
  {
   "cell_type": "code",
   "execution_count": 9,
   "metadata": {},
   "outputs": [
    {
     "name": "stderr",
     "output_type": "stream",
     "text": [
      "/leonardo_work/PhDLR_prod/eucc-env/lib/python3.11/site-packages/huggingface_hub/file_download.py:1132: FutureWarning: `resume_download` is deprecated and will be removed in version 1.0.0. Downloads always resume when possible. If you want to force a new download, use `force_download=True`.\n",
      "  warnings.warn(\n"
     ]
    },
    {
     "ename": "ConnectionError",
     "evalue": "HTTPSConnectionPool(host='huggingface.co', port=443): Max retries exceeded with url: /BAAI/bge-m3/resolve/main/model.safetensors (Caused by NewConnectionError('<urllib3.connection.HTTPSConnection object at 0x1517a6a417d0>: Failed to establish a new connection: [Errno 101] Network is unreachable'))",
     "output_type": "error",
     "traceback": [
      "\u001b[0;31m---------------------------------------------------------------------------\u001b[0m",
      "\u001b[0;31mOSError\u001b[0m                                   Traceback (most recent call last)",
      "File \u001b[0;32m/leonardo_work/PhDLR_prod/eucc-env/lib/python3.11/site-packages/urllib3/connection.py:196\u001b[0m, in \u001b[0;36mHTTPConnection._new_conn\u001b[0;34m(self)\u001b[0m\n\u001b[1;32m    195\u001b[0m \u001b[38;5;28;01mtry\u001b[39;00m:\n\u001b[0;32m--> 196\u001b[0m     sock \u001b[38;5;241m=\u001b[39m \u001b[43mconnection\u001b[49m\u001b[38;5;241;43m.\u001b[39;49m\u001b[43mcreate_connection\u001b[49m\u001b[43m(\u001b[49m\n\u001b[1;32m    197\u001b[0m \u001b[43m        \u001b[49m\u001b[43m(\u001b[49m\u001b[38;5;28;43mself\u001b[39;49m\u001b[38;5;241;43m.\u001b[39;49m\u001b[43m_dns_host\u001b[49m\u001b[43m,\u001b[49m\u001b[43m \u001b[49m\u001b[38;5;28;43mself\u001b[39;49m\u001b[38;5;241;43m.\u001b[39;49m\u001b[43mport\u001b[49m\u001b[43m)\u001b[49m\u001b[43m,\u001b[49m\n\u001b[1;32m    198\u001b[0m \u001b[43m        \u001b[49m\u001b[38;5;28;43mself\u001b[39;49m\u001b[38;5;241;43m.\u001b[39;49m\u001b[43mtimeout\u001b[49m\u001b[43m,\u001b[49m\n\u001b[1;32m    199\u001b[0m \u001b[43m        \u001b[49m\u001b[43msource_address\u001b[49m\u001b[38;5;241;43m=\u001b[39;49m\u001b[38;5;28;43mself\u001b[39;49m\u001b[38;5;241;43m.\u001b[39;49m\u001b[43msource_address\u001b[49m\u001b[43m,\u001b[49m\n\u001b[1;32m    200\u001b[0m \u001b[43m        \u001b[49m\u001b[43msocket_options\u001b[49m\u001b[38;5;241;43m=\u001b[39;49m\u001b[38;5;28;43mself\u001b[39;49m\u001b[38;5;241;43m.\u001b[39;49m\u001b[43msocket_options\u001b[49m\u001b[43m,\u001b[49m\n\u001b[1;32m    201\u001b[0m \u001b[43m    \u001b[49m\u001b[43m)\u001b[49m\n\u001b[1;32m    202\u001b[0m \u001b[38;5;28;01mexcept\u001b[39;00m socket\u001b[38;5;241m.\u001b[39mgaierror \u001b[38;5;28;01mas\u001b[39;00m e:\n",
      "File \u001b[0;32m/leonardo_work/PhDLR_prod/eucc-env/lib/python3.11/site-packages/urllib3/util/connection.py:85\u001b[0m, in \u001b[0;36mcreate_connection\u001b[0;34m(address, timeout, source_address, socket_options)\u001b[0m\n\u001b[1;32m     84\u001b[0m \u001b[38;5;28;01mtry\u001b[39;00m:\n\u001b[0;32m---> 85\u001b[0m     \u001b[38;5;28;01mraise\u001b[39;00m err\n\u001b[1;32m     86\u001b[0m \u001b[38;5;28;01mfinally\u001b[39;00m:\n\u001b[1;32m     87\u001b[0m     \u001b[38;5;66;03m# Break explicitly a reference cycle\u001b[39;00m\n",
      "File \u001b[0;32m/leonardo_work/PhDLR_prod/eucc-env/lib/python3.11/site-packages/urllib3/util/connection.py:73\u001b[0m, in \u001b[0;36mcreate_connection\u001b[0;34m(address, timeout, source_address, socket_options)\u001b[0m\n\u001b[1;32m     72\u001b[0m     sock\u001b[38;5;241m.\u001b[39mbind(source_address)\n\u001b[0;32m---> 73\u001b[0m \u001b[43msock\u001b[49m\u001b[38;5;241;43m.\u001b[39;49m\u001b[43mconnect\u001b[49m\u001b[43m(\u001b[49m\u001b[43msa\u001b[49m\u001b[43m)\u001b[49m\n\u001b[1;32m     74\u001b[0m \u001b[38;5;66;03m# Break explicitly a reference cycle\u001b[39;00m\n",
      "\u001b[0;31mOSError\u001b[0m: [Errno 101] Network is unreachable",
      "\nThe above exception was the direct cause of the following exception:\n",
      "\u001b[0;31mNewConnectionError\u001b[0m                        Traceback (most recent call last)",
      "File \u001b[0;32m/leonardo_work/PhDLR_prod/eucc-env/lib/python3.11/site-packages/urllib3/connectionpool.py:789\u001b[0m, in \u001b[0;36mHTTPConnectionPool.urlopen\u001b[0;34m(self, method, url, body, headers, retries, redirect, assert_same_host, timeout, pool_timeout, release_conn, chunked, body_pos, preload_content, decode_content, **response_kw)\u001b[0m\n\u001b[1;32m    788\u001b[0m \u001b[38;5;66;03m# Make the request on the HTTPConnection object\u001b[39;00m\n\u001b[0;32m--> 789\u001b[0m response \u001b[38;5;241m=\u001b[39m \u001b[38;5;28;43mself\u001b[39;49m\u001b[38;5;241;43m.\u001b[39;49m\u001b[43m_make_request\u001b[49m\u001b[43m(\u001b[49m\n\u001b[1;32m    790\u001b[0m \u001b[43m    \u001b[49m\u001b[43mconn\u001b[49m\u001b[43m,\u001b[49m\n\u001b[1;32m    791\u001b[0m \u001b[43m    \u001b[49m\u001b[43mmethod\u001b[49m\u001b[43m,\u001b[49m\n\u001b[1;32m    792\u001b[0m \u001b[43m    \u001b[49m\u001b[43murl\u001b[49m\u001b[43m,\u001b[49m\n\u001b[1;32m    793\u001b[0m \u001b[43m    \u001b[49m\u001b[43mtimeout\u001b[49m\u001b[38;5;241;43m=\u001b[39;49m\u001b[43mtimeout_obj\u001b[49m\u001b[43m,\u001b[49m\n\u001b[1;32m    794\u001b[0m \u001b[43m    \u001b[49m\u001b[43mbody\u001b[49m\u001b[38;5;241;43m=\u001b[39;49m\u001b[43mbody\u001b[49m\u001b[43m,\u001b[49m\n\u001b[1;32m    795\u001b[0m \u001b[43m    \u001b[49m\u001b[43mheaders\u001b[49m\u001b[38;5;241;43m=\u001b[39;49m\u001b[43mheaders\u001b[49m\u001b[43m,\u001b[49m\n\u001b[1;32m    796\u001b[0m \u001b[43m    \u001b[49m\u001b[43mchunked\u001b[49m\u001b[38;5;241;43m=\u001b[39;49m\u001b[43mchunked\u001b[49m\u001b[43m,\u001b[49m\n\u001b[1;32m    797\u001b[0m \u001b[43m    \u001b[49m\u001b[43mretries\u001b[49m\u001b[38;5;241;43m=\u001b[39;49m\u001b[43mretries\u001b[49m\u001b[43m,\u001b[49m\n\u001b[1;32m    798\u001b[0m \u001b[43m    \u001b[49m\u001b[43mresponse_conn\u001b[49m\u001b[38;5;241;43m=\u001b[39;49m\u001b[43mresponse_conn\u001b[49m\u001b[43m,\u001b[49m\n\u001b[1;32m    799\u001b[0m \u001b[43m    \u001b[49m\u001b[43mpreload_content\u001b[49m\u001b[38;5;241;43m=\u001b[39;49m\u001b[43mpreload_content\u001b[49m\u001b[43m,\u001b[49m\n\u001b[1;32m    800\u001b[0m \u001b[43m    \u001b[49m\u001b[43mdecode_content\u001b[49m\u001b[38;5;241;43m=\u001b[39;49m\u001b[43mdecode_content\u001b[49m\u001b[43m,\u001b[49m\n\u001b[1;32m    801\u001b[0m \u001b[43m    \u001b[49m\u001b[38;5;241;43m*\u001b[39;49m\u001b[38;5;241;43m*\u001b[39;49m\u001b[43mresponse_kw\u001b[49m\u001b[43m,\u001b[49m\n\u001b[1;32m    802\u001b[0m \u001b[43m\u001b[49m\u001b[43m)\u001b[49m\n\u001b[1;32m    804\u001b[0m \u001b[38;5;66;03m# Everything went great!\u001b[39;00m\n",
      "File \u001b[0;32m/leonardo_work/PhDLR_prod/eucc-env/lib/python3.11/site-packages/urllib3/connectionpool.py:490\u001b[0m, in \u001b[0;36mHTTPConnectionPool._make_request\u001b[0;34m(self, conn, method, url, body, headers, retries, timeout, chunked, response_conn, preload_content, decode_content, enforce_content_length)\u001b[0m\n\u001b[1;32m    489\u001b[0m         new_e \u001b[38;5;241m=\u001b[39m _wrap_proxy_error(new_e, conn\u001b[38;5;241m.\u001b[39mproxy\u001b[38;5;241m.\u001b[39mscheme)\n\u001b[0;32m--> 490\u001b[0m     \u001b[38;5;28;01mraise\u001b[39;00m new_e\n\u001b[1;32m    492\u001b[0m \u001b[38;5;66;03m# conn.request() calls http.client.*.request, not the method in\u001b[39;00m\n\u001b[1;32m    493\u001b[0m \u001b[38;5;66;03m# urllib3.request. It also calls makefile (recv) on the socket.\u001b[39;00m\n",
      "File \u001b[0;32m/leonardo_work/PhDLR_prod/eucc-env/lib/python3.11/site-packages/urllib3/connectionpool.py:466\u001b[0m, in \u001b[0;36mHTTPConnectionPool._make_request\u001b[0;34m(self, conn, method, url, body, headers, retries, timeout, chunked, response_conn, preload_content, decode_content, enforce_content_length)\u001b[0m\n\u001b[1;32m    465\u001b[0m \u001b[38;5;28;01mtry\u001b[39;00m:\n\u001b[0;32m--> 466\u001b[0m     \u001b[38;5;28;43mself\u001b[39;49m\u001b[38;5;241;43m.\u001b[39;49m\u001b[43m_validate_conn\u001b[49m\u001b[43m(\u001b[49m\u001b[43mconn\u001b[49m\u001b[43m)\u001b[49m\n\u001b[1;32m    467\u001b[0m \u001b[38;5;28;01mexcept\u001b[39;00m (SocketTimeout, BaseSSLError) \u001b[38;5;28;01mas\u001b[39;00m e:\n",
      "File \u001b[0;32m/leonardo_work/PhDLR_prod/eucc-env/lib/python3.11/site-packages/urllib3/connectionpool.py:1095\u001b[0m, in \u001b[0;36mHTTPSConnectionPool._validate_conn\u001b[0;34m(self, conn)\u001b[0m\n\u001b[1;32m   1094\u001b[0m \u001b[38;5;28;01mif\u001b[39;00m conn\u001b[38;5;241m.\u001b[39mis_closed:\n\u001b[0;32m-> 1095\u001b[0m     \u001b[43mconn\u001b[49m\u001b[38;5;241;43m.\u001b[39;49m\u001b[43mconnect\u001b[49m\u001b[43m(\u001b[49m\u001b[43m)\u001b[49m\n\u001b[1;32m   1097\u001b[0m \u001b[38;5;66;03m# TODO revise this, see https://github.com/urllib3/urllib3/issues/2791\u001b[39;00m\n",
      "File \u001b[0;32m/leonardo_work/PhDLR_prod/eucc-env/lib/python3.11/site-packages/urllib3/connection.py:615\u001b[0m, in \u001b[0;36mHTTPSConnection.connect\u001b[0;34m(self)\u001b[0m\n\u001b[1;32m    614\u001b[0m sock: socket\u001b[38;5;241m.\u001b[39msocket \u001b[38;5;241m|\u001b[39m ssl\u001b[38;5;241m.\u001b[39mSSLSocket\n\u001b[0;32m--> 615\u001b[0m \u001b[38;5;28mself\u001b[39m\u001b[38;5;241m.\u001b[39msock \u001b[38;5;241m=\u001b[39m sock \u001b[38;5;241m=\u001b[39m \u001b[38;5;28;43mself\u001b[39;49m\u001b[38;5;241;43m.\u001b[39;49m\u001b[43m_new_conn\u001b[49m\u001b[43m(\u001b[49m\u001b[43m)\u001b[49m\n\u001b[1;32m    616\u001b[0m server_hostname: \u001b[38;5;28mstr\u001b[39m \u001b[38;5;241m=\u001b[39m \u001b[38;5;28mself\u001b[39m\u001b[38;5;241m.\u001b[39mhost\n",
      "File \u001b[0;32m/leonardo_work/PhDLR_prod/eucc-env/lib/python3.11/site-packages/urllib3/connection.py:211\u001b[0m, in \u001b[0;36mHTTPConnection._new_conn\u001b[0;34m(self)\u001b[0m\n\u001b[1;32m    210\u001b[0m \u001b[38;5;28;01mexcept\u001b[39;00m \u001b[38;5;167;01mOSError\u001b[39;00m \u001b[38;5;28;01mas\u001b[39;00m e:\n\u001b[0;32m--> 211\u001b[0m     \u001b[38;5;28;01mraise\u001b[39;00m NewConnectionError(\n\u001b[1;32m    212\u001b[0m         \u001b[38;5;28mself\u001b[39m, \u001b[38;5;124mf\u001b[39m\u001b[38;5;124m\"\u001b[39m\u001b[38;5;124mFailed to establish a new connection: \u001b[39m\u001b[38;5;132;01m{\u001b[39;00me\u001b[38;5;132;01m}\u001b[39;00m\u001b[38;5;124m\"\u001b[39m\n\u001b[1;32m    213\u001b[0m     ) \u001b[38;5;28;01mfrom\u001b[39;00m \u001b[38;5;21;01me\u001b[39;00m\n\u001b[1;32m    215\u001b[0m \u001b[38;5;66;03m# Audit hooks are only available in Python 3.8+\u001b[39;00m\n",
      "\u001b[0;31mNewConnectionError\u001b[0m: <urllib3.connection.HTTPSConnection object at 0x1517a6a417d0>: Failed to establish a new connection: [Errno 101] Network is unreachable",
      "\nThe above exception was the direct cause of the following exception:\n",
      "\u001b[0;31mMaxRetryError\u001b[0m                             Traceback (most recent call last)",
      "File \u001b[0;32m/leonardo_work/PhDLR_prod/eucc-env/lib/python3.11/site-packages/requests/adapters.py:667\u001b[0m, in \u001b[0;36mHTTPAdapter.send\u001b[0;34m(self, request, stream, timeout, verify, cert, proxies)\u001b[0m\n\u001b[1;32m    666\u001b[0m \u001b[38;5;28;01mtry\u001b[39;00m:\n\u001b[0;32m--> 667\u001b[0m     resp \u001b[38;5;241m=\u001b[39m \u001b[43mconn\u001b[49m\u001b[38;5;241;43m.\u001b[39;49m\u001b[43murlopen\u001b[49m\u001b[43m(\u001b[49m\n\u001b[1;32m    668\u001b[0m \u001b[43m        \u001b[49m\u001b[43mmethod\u001b[49m\u001b[38;5;241;43m=\u001b[39;49m\u001b[43mrequest\u001b[49m\u001b[38;5;241;43m.\u001b[39;49m\u001b[43mmethod\u001b[49m\u001b[43m,\u001b[49m\n\u001b[1;32m    669\u001b[0m \u001b[43m        \u001b[49m\u001b[43murl\u001b[49m\u001b[38;5;241;43m=\u001b[39;49m\u001b[43murl\u001b[49m\u001b[43m,\u001b[49m\n\u001b[1;32m    670\u001b[0m \u001b[43m        \u001b[49m\u001b[43mbody\u001b[49m\u001b[38;5;241;43m=\u001b[39;49m\u001b[43mrequest\u001b[49m\u001b[38;5;241;43m.\u001b[39;49m\u001b[43mbody\u001b[49m\u001b[43m,\u001b[49m\n\u001b[1;32m    671\u001b[0m \u001b[43m        \u001b[49m\u001b[43mheaders\u001b[49m\u001b[38;5;241;43m=\u001b[39;49m\u001b[43mrequest\u001b[49m\u001b[38;5;241;43m.\u001b[39;49m\u001b[43mheaders\u001b[49m\u001b[43m,\u001b[49m\n\u001b[1;32m    672\u001b[0m \u001b[43m        \u001b[49m\u001b[43mredirect\u001b[49m\u001b[38;5;241;43m=\u001b[39;49m\u001b[38;5;28;43;01mFalse\u001b[39;49;00m\u001b[43m,\u001b[49m\n\u001b[1;32m    673\u001b[0m \u001b[43m        \u001b[49m\u001b[43massert_same_host\u001b[49m\u001b[38;5;241;43m=\u001b[39;49m\u001b[38;5;28;43;01mFalse\u001b[39;49;00m\u001b[43m,\u001b[49m\n\u001b[1;32m    674\u001b[0m \u001b[43m        \u001b[49m\u001b[43mpreload_content\u001b[49m\u001b[38;5;241;43m=\u001b[39;49m\u001b[38;5;28;43;01mFalse\u001b[39;49;00m\u001b[43m,\u001b[49m\n\u001b[1;32m    675\u001b[0m \u001b[43m        \u001b[49m\u001b[43mdecode_content\u001b[49m\u001b[38;5;241;43m=\u001b[39;49m\u001b[38;5;28;43;01mFalse\u001b[39;49;00m\u001b[43m,\u001b[49m\n\u001b[1;32m    676\u001b[0m \u001b[43m        \u001b[49m\u001b[43mretries\u001b[49m\u001b[38;5;241;43m=\u001b[39;49m\u001b[38;5;28;43mself\u001b[39;49m\u001b[38;5;241;43m.\u001b[39;49m\u001b[43mmax_retries\u001b[49m\u001b[43m,\u001b[49m\n\u001b[1;32m    677\u001b[0m \u001b[43m        \u001b[49m\u001b[43mtimeout\u001b[49m\u001b[38;5;241;43m=\u001b[39;49m\u001b[43mtimeout\u001b[49m\u001b[43m,\u001b[49m\n\u001b[1;32m    678\u001b[0m \u001b[43m        \u001b[49m\u001b[43mchunked\u001b[49m\u001b[38;5;241;43m=\u001b[39;49m\u001b[43mchunked\u001b[49m\u001b[43m,\u001b[49m\n\u001b[1;32m    679\u001b[0m \u001b[43m    \u001b[49m\u001b[43m)\u001b[49m\n\u001b[1;32m    681\u001b[0m \u001b[38;5;28;01mexcept\u001b[39;00m (ProtocolError, \u001b[38;5;167;01mOSError\u001b[39;00m) \u001b[38;5;28;01mas\u001b[39;00m err:\n",
      "File \u001b[0;32m/leonardo_work/PhDLR_prod/eucc-env/lib/python3.11/site-packages/urllib3/connectionpool.py:843\u001b[0m, in \u001b[0;36mHTTPConnectionPool.urlopen\u001b[0;34m(self, method, url, body, headers, retries, redirect, assert_same_host, timeout, pool_timeout, release_conn, chunked, body_pos, preload_content, decode_content, **response_kw)\u001b[0m\n\u001b[1;32m    841\u001b[0m     new_e \u001b[38;5;241m=\u001b[39m ProtocolError(\u001b[38;5;124m\"\u001b[39m\u001b[38;5;124mConnection aborted.\u001b[39m\u001b[38;5;124m\"\u001b[39m, new_e)\n\u001b[0;32m--> 843\u001b[0m retries \u001b[38;5;241m=\u001b[39m \u001b[43mretries\u001b[49m\u001b[38;5;241;43m.\u001b[39;49m\u001b[43mincrement\u001b[49m\u001b[43m(\u001b[49m\n\u001b[1;32m    844\u001b[0m \u001b[43m    \u001b[49m\u001b[43mmethod\u001b[49m\u001b[43m,\u001b[49m\u001b[43m \u001b[49m\u001b[43murl\u001b[49m\u001b[43m,\u001b[49m\u001b[43m \u001b[49m\u001b[43merror\u001b[49m\u001b[38;5;241;43m=\u001b[39;49m\u001b[43mnew_e\u001b[49m\u001b[43m,\u001b[49m\u001b[43m \u001b[49m\u001b[43m_pool\u001b[49m\u001b[38;5;241;43m=\u001b[39;49m\u001b[38;5;28;43mself\u001b[39;49m\u001b[43m,\u001b[49m\u001b[43m \u001b[49m\u001b[43m_stacktrace\u001b[49m\u001b[38;5;241;43m=\u001b[39;49m\u001b[43msys\u001b[49m\u001b[38;5;241;43m.\u001b[39;49m\u001b[43mexc_info\u001b[49m\u001b[43m(\u001b[49m\u001b[43m)\u001b[49m\u001b[43m[\u001b[49m\u001b[38;5;241;43m2\u001b[39;49m\u001b[43m]\u001b[49m\n\u001b[1;32m    845\u001b[0m \u001b[43m\u001b[49m\u001b[43m)\u001b[49m\n\u001b[1;32m    846\u001b[0m retries\u001b[38;5;241m.\u001b[39msleep()\n",
      "File \u001b[0;32m/leonardo_work/PhDLR_prod/eucc-env/lib/python3.11/site-packages/urllib3/util/retry.py:519\u001b[0m, in \u001b[0;36mRetry.increment\u001b[0;34m(self, method, url, response, error, _pool, _stacktrace)\u001b[0m\n\u001b[1;32m    518\u001b[0m     reason \u001b[38;5;241m=\u001b[39m error \u001b[38;5;129;01mor\u001b[39;00m ResponseError(cause)\n\u001b[0;32m--> 519\u001b[0m     \u001b[38;5;28;01mraise\u001b[39;00m MaxRetryError(_pool, url, reason) \u001b[38;5;28;01mfrom\u001b[39;00m \u001b[38;5;21;01mreason\u001b[39;00m  \u001b[38;5;66;03m# type: ignore[arg-type]\u001b[39;00m\n\u001b[1;32m    521\u001b[0m log\u001b[38;5;241m.\u001b[39mdebug(\u001b[38;5;124m\"\u001b[39m\u001b[38;5;124mIncremented Retry for (url=\u001b[39m\u001b[38;5;124m'\u001b[39m\u001b[38;5;132;01m%s\u001b[39;00m\u001b[38;5;124m'\u001b[39m\u001b[38;5;124m): \u001b[39m\u001b[38;5;132;01m%r\u001b[39;00m\u001b[38;5;124m\"\u001b[39m, url, new_retry)\n",
      "\u001b[0;31mMaxRetryError\u001b[0m: HTTPSConnectionPool(host='huggingface.co', port=443): Max retries exceeded with url: /BAAI/bge-m3/resolve/main/model.safetensors (Caused by NewConnectionError('<urllib3.connection.HTTPSConnection object at 0x1517a6a417d0>: Failed to establish a new connection: [Errno 101] Network is unreachable'))",
      "\nDuring handling of the above exception, another exception occurred:\n",
      "\u001b[0;31mConnectionError\u001b[0m                           Traceback (most recent call last)",
      "Cell \u001b[0;32mIn[9], line 6\u001b[0m\n\u001b[1;32m      4\u001b[0m model_kwargs \u001b[38;5;241m=\u001b[39m {\u001b[38;5;124m\"\u001b[39m\u001b[38;5;124mdevice\u001b[39m\u001b[38;5;124m\"\u001b[39m: device}\n\u001b[1;32m      5\u001b[0m encode_kwargs \u001b[38;5;241m=\u001b[39m {\u001b[38;5;124m\"\u001b[39m\u001b[38;5;124mnormalize_embeddings\u001b[39m\u001b[38;5;124m\"\u001b[39m: \u001b[38;5;28;01mFalse\u001b[39;00m}\n\u001b[0;32m----> 6\u001b[0m hf_bge_embedder \u001b[38;5;241m=\u001b[39m \u001b[43mHuggingFaceBgeEmbeddings\u001b[49m\u001b[43m(\u001b[49m\n\u001b[1;32m      7\u001b[0m \u001b[43m    \u001b[49m\u001b[43mmodel_name\u001b[49m\u001b[38;5;241;43m=\u001b[39;49m\u001b[43mmodel_name\u001b[49m\u001b[43m,\u001b[49m\u001b[43m \u001b[49m\u001b[43mmodel_kwargs\u001b[49m\u001b[38;5;241;43m=\u001b[39;49m\u001b[43mmodel_kwargs\u001b[49m\u001b[43m,\u001b[49m\u001b[43m \u001b[49m\u001b[43mencode_kwargs\u001b[49m\u001b[38;5;241;43m=\u001b[39;49m\u001b[43mencode_kwargs\u001b[49m\n\u001b[1;32m      8\u001b[0m \u001b[43m)\u001b[49m\n",
      "File \u001b[0;32m/leonardo_work/PhDLR_prod/eucc-env/lib/python3.11/site-packages/langchain_community/embeddings/huggingface.py:295\u001b[0m, in \u001b[0;36mHuggingFaceBgeEmbeddings.__init__\u001b[0;34m(self, **kwargs)\u001b[0m\n\u001b[1;32m    289\u001b[0m \u001b[38;5;28;01mexcept\u001b[39;00m \u001b[38;5;167;01mImportError\u001b[39;00m \u001b[38;5;28;01mas\u001b[39;00m exc:\n\u001b[1;32m    290\u001b[0m     \u001b[38;5;28;01mraise\u001b[39;00m \u001b[38;5;167;01mImportError\u001b[39;00m(\n\u001b[1;32m    291\u001b[0m         \u001b[38;5;124m\"\u001b[39m\u001b[38;5;124mCould not import sentence_transformers python package. \u001b[39m\u001b[38;5;124m\"\u001b[39m\n\u001b[1;32m    292\u001b[0m         \u001b[38;5;124m\"\u001b[39m\u001b[38;5;124mPlease install it with `pip install sentence_transformers`.\u001b[39m\u001b[38;5;124m\"\u001b[39m\n\u001b[1;32m    293\u001b[0m     ) \u001b[38;5;28;01mfrom\u001b[39;00m \u001b[38;5;21;01mexc\u001b[39;00m\n\u001b[0;32m--> 295\u001b[0m \u001b[38;5;28mself\u001b[39m\u001b[38;5;241m.\u001b[39mclient \u001b[38;5;241m=\u001b[39m \u001b[43msentence_transformers\u001b[49m\u001b[38;5;241;43m.\u001b[39;49m\u001b[43mSentenceTransformer\u001b[49m\u001b[43m(\u001b[49m\n\u001b[1;32m    296\u001b[0m \u001b[43m    \u001b[49m\u001b[38;5;28;43mself\u001b[39;49m\u001b[38;5;241;43m.\u001b[39;49m\u001b[43mmodel_name\u001b[49m\u001b[43m,\u001b[49m\u001b[43m \u001b[49m\u001b[43mcache_folder\u001b[49m\u001b[38;5;241;43m=\u001b[39;49m\u001b[38;5;28;43mself\u001b[39;49m\u001b[38;5;241;43m.\u001b[39;49m\u001b[43mcache_folder\u001b[49m\u001b[43m,\u001b[49m\u001b[43m \u001b[49m\u001b[38;5;241;43m*\u001b[39;49m\u001b[38;5;241;43m*\u001b[39;49m\u001b[38;5;28;43mself\u001b[39;49m\u001b[38;5;241;43m.\u001b[39;49m\u001b[43mmodel_kwargs\u001b[49m\n\u001b[1;32m    297\u001b[0m \u001b[43m\u001b[49m\u001b[43m)\u001b[49m\n\u001b[1;32m    299\u001b[0m \u001b[38;5;28;01mif\u001b[39;00m \u001b[38;5;124m\"\u001b[39m\u001b[38;5;124m-zh\u001b[39m\u001b[38;5;124m\"\u001b[39m \u001b[38;5;129;01min\u001b[39;00m \u001b[38;5;28mself\u001b[39m\u001b[38;5;241m.\u001b[39mmodel_name:\n\u001b[1;32m    300\u001b[0m     \u001b[38;5;28mself\u001b[39m\u001b[38;5;241m.\u001b[39mquery_instruction \u001b[38;5;241m=\u001b[39m DEFAULT_QUERY_BGE_INSTRUCTION_ZH\n",
      "File \u001b[0;32m/leonardo_work/PhDLR_prod/eucc-env/lib/python3.11/site-packages/sentence_transformers/SentenceTransformer.py:287\u001b[0m, in \u001b[0;36mSentenceTransformer.__init__\u001b[0;34m(self, model_name_or_path, modules, device, prompts, default_prompt_name, similarity_fn_name, cache_folder, trust_remote_code, revision, local_files_only, token, use_auth_token, truncate_dim, model_kwargs, tokenizer_kwargs, config_kwargs, model_card_data)\u001b[0m\n\u001b[1;32m    278\u001b[0m         model_name_or_path \u001b[38;5;241m=\u001b[39m __MODEL_HUB_ORGANIZATION__ \u001b[38;5;241m+\u001b[39m \u001b[38;5;124m\"\u001b[39m\u001b[38;5;124m/\u001b[39m\u001b[38;5;124m\"\u001b[39m \u001b[38;5;241m+\u001b[39m model_name_or_path\n\u001b[1;32m    280\u001b[0m \u001b[38;5;28;01mif\u001b[39;00m is_sentence_transformer_model(\n\u001b[1;32m    281\u001b[0m     model_name_or_path,\n\u001b[1;32m    282\u001b[0m     token,\n\u001b[0;32m   (...)\u001b[0m\n\u001b[1;32m    285\u001b[0m     local_files_only\u001b[38;5;241m=\u001b[39mlocal_files_only,\n\u001b[1;32m    286\u001b[0m ):\n\u001b[0;32m--> 287\u001b[0m     modules \u001b[38;5;241m=\u001b[39m \u001b[38;5;28;43mself\u001b[39;49m\u001b[38;5;241;43m.\u001b[39;49m\u001b[43m_load_sbert_model\u001b[49m\u001b[43m(\u001b[49m\n\u001b[1;32m    288\u001b[0m \u001b[43m        \u001b[49m\u001b[43mmodel_name_or_path\u001b[49m\u001b[43m,\u001b[49m\n\u001b[1;32m    289\u001b[0m \u001b[43m        \u001b[49m\u001b[43mtoken\u001b[49m\u001b[38;5;241;43m=\u001b[39;49m\u001b[43mtoken\u001b[49m\u001b[43m,\u001b[49m\n\u001b[1;32m    290\u001b[0m \u001b[43m        \u001b[49m\u001b[43mcache_folder\u001b[49m\u001b[38;5;241;43m=\u001b[39;49m\u001b[43mcache_folder\u001b[49m\u001b[43m,\u001b[49m\n\u001b[1;32m    291\u001b[0m \u001b[43m        \u001b[49m\u001b[43mrevision\u001b[49m\u001b[38;5;241;43m=\u001b[39;49m\u001b[43mrevision\u001b[49m\u001b[43m,\u001b[49m\n\u001b[1;32m    292\u001b[0m \u001b[43m        \u001b[49m\u001b[43mtrust_remote_code\u001b[49m\u001b[38;5;241;43m=\u001b[39;49m\u001b[43mtrust_remote_code\u001b[49m\u001b[43m,\u001b[49m\n\u001b[1;32m    293\u001b[0m \u001b[43m        \u001b[49m\u001b[43mlocal_files_only\u001b[49m\u001b[38;5;241;43m=\u001b[39;49m\u001b[43mlocal_files_only\u001b[49m\u001b[43m,\u001b[49m\n\u001b[1;32m    294\u001b[0m \u001b[43m        \u001b[49m\u001b[43mmodel_kwargs\u001b[49m\u001b[38;5;241;43m=\u001b[39;49m\u001b[43mmodel_kwargs\u001b[49m\u001b[43m,\u001b[49m\n\u001b[1;32m    295\u001b[0m \u001b[43m        \u001b[49m\u001b[43mtokenizer_kwargs\u001b[49m\u001b[38;5;241;43m=\u001b[39;49m\u001b[43mtokenizer_kwargs\u001b[49m\u001b[43m,\u001b[49m\n\u001b[1;32m    296\u001b[0m \u001b[43m        \u001b[49m\u001b[43mconfig_kwargs\u001b[49m\u001b[38;5;241;43m=\u001b[39;49m\u001b[43mconfig_kwargs\u001b[49m\u001b[43m,\u001b[49m\n\u001b[1;32m    297\u001b[0m \u001b[43m    \u001b[49m\u001b[43m)\u001b[49m\n\u001b[1;32m    298\u001b[0m \u001b[38;5;28;01melse\u001b[39;00m:\n\u001b[1;32m    299\u001b[0m     modules \u001b[38;5;241m=\u001b[39m \u001b[38;5;28mself\u001b[39m\u001b[38;5;241m.\u001b[39m_load_auto_model(\n\u001b[1;32m    300\u001b[0m         model_name_or_path,\n\u001b[1;32m    301\u001b[0m         token\u001b[38;5;241m=\u001b[39mtoken,\n\u001b[0;32m   (...)\u001b[0m\n\u001b[1;32m    308\u001b[0m         config_kwargs\u001b[38;5;241m=\u001b[39mconfig_kwargs,\n\u001b[1;32m    309\u001b[0m     )\n",
      "File \u001b[0;32m/leonardo_work/PhDLR_prod/eucc-env/lib/python3.11/site-packages/sentence_transformers/SentenceTransformer.py:1487\u001b[0m, in \u001b[0;36mSentenceTransformer._load_sbert_model\u001b[0;34m(self, model_name_or_path, token, cache_folder, revision, trust_remote_code, local_files_only, model_kwargs, tokenizer_kwargs, config_kwargs)\u001b[0m\n\u001b[1;32m   1484\u001b[0m     \u001b[38;5;28;01mif\u001b[39;00m config_kwargs:\n\u001b[1;32m   1485\u001b[0m         kwargs[\u001b[38;5;124m\"\u001b[39m\u001b[38;5;124mconfig_args\u001b[39m\u001b[38;5;124m\"\u001b[39m]\u001b[38;5;241m.\u001b[39mupdate(config_kwargs)\n\u001b[0;32m-> 1487\u001b[0m     module \u001b[38;5;241m=\u001b[39m \u001b[43mTransformer\u001b[49m\u001b[43m(\u001b[49m\u001b[43mmodel_name_or_path\u001b[49m\u001b[43m,\u001b[49m\u001b[43m \u001b[49m\u001b[43mcache_dir\u001b[49m\u001b[38;5;241;43m=\u001b[39;49m\u001b[43mcache_folder\u001b[49m\u001b[43m,\u001b[49m\u001b[43m \u001b[49m\u001b[38;5;241;43m*\u001b[39;49m\u001b[38;5;241;43m*\u001b[39;49m\u001b[43mkwargs\u001b[49m\u001b[43m)\u001b[49m\n\u001b[1;32m   1488\u001b[0m \u001b[38;5;28;01melse\u001b[39;00m:\n\u001b[1;32m   1489\u001b[0m     \u001b[38;5;66;03m# Normalize does not require any files to be loaded\u001b[39;00m\n\u001b[1;32m   1490\u001b[0m     \u001b[38;5;28;01mif\u001b[39;00m module_class \u001b[38;5;241m==\u001b[39m Normalize:\n",
      "File \u001b[0;32m/leonardo_work/PhDLR_prod/eucc-env/lib/python3.11/site-packages/sentence_transformers/models/Transformer.py:54\u001b[0m, in \u001b[0;36mTransformer.__init__\u001b[0;34m(self, model_name_or_path, max_seq_length, model_args, tokenizer_args, config_args, cache_dir, do_lower_case, tokenizer_name_or_path)\u001b[0m\n\u001b[1;32m     51\u001b[0m     config_args \u001b[38;5;241m=\u001b[39m {}\n\u001b[1;32m     53\u001b[0m config \u001b[38;5;241m=\u001b[39m AutoConfig\u001b[38;5;241m.\u001b[39mfrom_pretrained(model_name_or_path, \u001b[38;5;241m*\u001b[39m\u001b[38;5;241m*\u001b[39mconfig_args, cache_dir\u001b[38;5;241m=\u001b[39mcache_dir)\n\u001b[0;32m---> 54\u001b[0m \u001b[38;5;28;43mself\u001b[39;49m\u001b[38;5;241;43m.\u001b[39;49m\u001b[43m_load_model\u001b[49m\u001b[43m(\u001b[49m\u001b[43mmodel_name_or_path\u001b[49m\u001b[43m,\u001b[49m\u001b[43m \u001b[49m\u001b[43mconfig\u001b[49m\u001b[43m,\u001b[49m\u001b[43m \u001b[49m\u001b[43mcache_dir\u001b[49m\u001b[43m,\u001b[49m\u001b[43m \u001b[49m\u001b[38;5;241;43m*\u001b[39;49m\u001b[38;5;241;43m*\u001b[39;49m\u001b[43mmodel_args\u001b[49m\u001b[43m)\u001b[49m\n\u001b[1;32m     56\u001b[0m \u001b[38;5;28;01mif\u001b[39;00m max_seq_length \u001b[38;5;129;01mis\u001b[39;00m \u001b[38;5;129;01mnot\u001b[39;00m \u001b[38;5;28;01mNone\u001b[39;00m \u001b[38;5;129;01mand\u001b[39;00m \u001b[38;5;124m\"\u001b[39m\u001b[38;5;124mmodel_max_length\u001b[39m\u001b[38;5;124m\"\u001b[39m \u001b[38;5;129;01mnot\u001b[39;00m \u001b[38;5;129;01min\u001b[39;00m tokenizer_args:\n\u001b[1;32m     57\u001b[0m     tokenizer_args[\u001b[38;5;124m\"\u001b[39m\u001b[38;5;124mmodel_max_length\u001b[39m\u001b[38;5;124m\"\u001b[39m] \u001b[38;5;241m=\u001b[39m max_seq_length\n",
      "File \u001b[0;32m/leonardo_work/PhDLR_prod/eucc-env/lib/python3.11/site-packages/sentence_transformers/models/Transformer.py:85\u001b[0m, in \u001b[0;36mTransformer._load_model\u001b[0;34m(self, model_name_or_path, config, cache_dir, **model_args)\u001b[0m\n\u001b[1;32m     83\u001b[0m     \u001b[38;5;28mself\u001b[39m\u001b[38;5;241m.\u001b[39m_load_mt5_model(model_name_or_path, config, cache_dir, \u001b[38;5;241m*\u001b[39m\u001b[38;5;241m*\u001b[39mmodel_args)\n\u001b[1;32m     84\u001b[0m \u001b[38;5;28;01melse\u001b[39;00m:\n\u001b[0;32m---> 85\u001b[0m     \u001b[38;5;28mself\u001b[39m\u001b[38;5;241m.\u001b[39mauto_model \u001b[38;5;241m=\u001b[39m \u001b[43mAutoModel\u001b[49m\u001b[38;5;241;43m.\u001b[39;49m\u001b[43mfrom_pretrained\u001b[49m\u001b[43m(\u001b[49m\n\u001b[1;32m     86\u001b[0m \u001b[43m        \u001b[49m\u001b[43mmodel_name_or_path\u001b[49m\u001b[43m,\u001b[49m\u001b[43m \u001b[49m\u001b[43mconfig\u001b[49m\u001b[38;5;241;43m=\u001b[39;49m\u001b[43mconfig\u001b[49m\u001b[43m,\u001b[49m\u001b[43m \u001b[49m\u001b[43mcache_dir\u001b[49m\u001b[38;5;241;43m=\u001b[39;49m\u001b[43mcache_dir\u001b[49m\u001b[43m,\u001b[49m\u001b[43m \u001b[49m\u001b[38;5;241;43m*\u001b[39;49m\u001b[38;5;241;43m*\u001b[39;49m\u001b[43mmodel_args\u001b[49m\n\u001b[1;32m     87\u001b[0m \u001b[43m    \u001b[49m\u001b[43m)\u001b[49m\n",
      "File \u001b[0;32m/leonardo_work/PhDLR_prod/eucc-env/lib/python3.11/site-packages/transformers/models/auto/auto_factory.py:563\u001b[0m, in \u001b[0;36m_BaseAutoModelClass.from_pretrained\u001b[0;34m(cls, pretrained_model_name_or_path, *model_args, **kwargs)\u001b[0m\n\u001b[1;32m    561\u001b[0m \u001b[38;5;28;01melif\u001b[39;00m \u001b[38;5;28mtype\u001b[39m(config) \u001b[38;5;129;01min\u001b[39;00m \u001b[38;5;28mcls\u001b[39m\u001b[38;5;241m.\u001b[39m_model_mapping\u001b[38;5;241m.\u001b[39mkeys():\n\u001b[1;32m    562\u001b[0m     model_class \u001b[38;5;241m=\u001b[39m _get_model_class(config, \u001b[38;5;28mcls\u001b[39m\u001b[38;5;241m.\u001b[39m_model_mapping)\n\u001b[0;32m--> 563\u001b[0m     \u001b[38;5;28;01mreturn\u001b[39;00m \u001b[43mmodel_class\u001b[49m\u001b[38;5;241;43m.\u001b[39;49m\u001b[43mfrom_pretrained\u001b[49m\u001b[43m(\u001b[49m\n\u001b[1;32m    564\u001b[0m \u001b[43m        \u001b[49m\u001b[43mpretrained_model_name_or_path\u001b[49m\u001b[43m,\u001b[49m\u001b[43m \u001b[49m\u001b[38;5;241;43m*\u001b[39;49m\u001b[43mmodel_args\u001b[49m\u001b[43m,\u001b[49m\u001b[43m \u001b[49m\u001b[43mconfig\u001b[49m\u001b[38;5;241;43m=\u001b[39;49m\u001b[43mconfig\u001b[49m\u001b[43m,\u001b[49m\u001b[43m \u001b[49m\u001b[38;5;241;43m*\u001b[39;49m\u001b[38;5;241;43m*\u001b[39;49m\u001b[43mhub_kwargs\u001b[49m\u001b[43m,\u001b[49m\u001b[43m \u001b[49m\u001b[38;5;241;43m*\u001b[39;49m\u001b[38;5;241;43m*\u001b[39;49m\u001b[43mkwargs\u001b[49m\n\u001b[1;32m    565\u001b[0m \u001b[43m    \u001b[49m\u001b[43m)\u001b[49m\n\u001b[1;32m    566\u001b[0m \u001b[38;5;28;01mraise\u001b[39;00m \u001b[38;5;167;01mValueError\u001b[39;00m(\n\u001b[1;32m    567\u001b[0m     \u001b[38;5;124mf\u001b[39m\u001b[38;5;124m\"\u001b[39m\u001b[38;5;124mUnrecognized configuration class \u001b[39m\u001b[38;5;132;01m{\u001b[39;00mconfig\u001b[38;5;241m.\u001b[39m\u001b[38;5;18m__class__\u001b[39m\u001b[38;5;132;01m}\u001b[39;00m\u001b[38;5;124m for this kind of AutoModel: \u001b[39m\u001b[38;5;132;01m{\u001b[39;00m\u001b[38;5;28mcls\u001b[39m\u001b[38;5;241m.\u001b[39m\u001b[38;5;18m__name__\u001b[39m\u001b[38;5;132;01m}\u001b[39;00m\u001b[38;5;124m.\u001b[39m\u001b[38;5;130;01m\\n\u001b[39;00m\u001b[38;5;124m\"\u001b[39m\n\u001b[1;32m    568\u001b[0m     \u001b[38;5;124mf\u001b[39m\u001b[38;5;124m\"\u001b[39m\u001b[38;5;124mModel type should be one of \u001b[39m\u001b[38;5;132;01m{\u001b[39;00m\u001b[38;5;124m'\u001b[39m\u001b[38;5;124m, \u001b[39m\u001b[38;5;124m'\u001b[39m\u001b[38;5;241m.\u001b[39mjoin(c\u001b[38;5;241m.\u001b[39m\u001b[38;5;18m__name__\u001b[39m\u001b[38;5;250m \u001b[39m\u001b[38;5;28;01mfor\u001b[39;00m\u001b[38;5;250m \u001b[39mc\u001b[38;5;250m \u001b[39m\u001b[38;5;129;01min\u001b[39;00m\u001b[38;5;250m \u001b[39m\u001b[38;5;28mcls\u001b[39m\u001b[38;5;241m.\u001b[39m_model_mapping\u001b[38;5;241m.\u001b[39mkeys())\u001b[38;5;132;01m}\u001b[39;00m\u001b[38;5;124m.\u001b[39m\u001b[38;5;124m\"\u001b[39m\n\u001b[1;32m    569\u001b[0m )\n",
      "File \u001b[0;32m/leonardo_work/PhDLR_prod/eucc-env/lib/python3.11/site-packages/transformers/modeling_utils.py:3415\u001b[0m, in \u001b[0;36mPreTrainedModel.from_pretrained\u001b[0;34m(cls, pretrained_model_name_or_path, config, cache_dir, ignore_mismatched_sizes, force_download, local_files_only, token, revision, use_safetensors, *model_args, **kwargs)\u001b[0m\n\u001b[1;32m   3398\u001b[0m         has_file_kwargs \u001b[38;5;241m=\u001b[39m {\n\u001b[1;32m   3399\u001b[0m             \u001b[38;5;124m\"\u001b[39m\u001b[38;5;124mrevision\u001b[39m\u001b[38;5;124m\"\u001b[39m: revision,\n\u001b[1;32m   3400\u001b[0m             \u001b[38;5;124m\"\u001b[39m\u001b[38;5;124mproxies\u001b[39m\u001b[38;5;124m\"\u001b[39m: proxies,\n\u001b[1;32m   3401\u001b[0m             \u001b[38;5;124m\"\u001b[39m\u001b[38;5;124mtoken\u001b[39m\u001b[38;5;124m\"\u001b[39m: token,\n\u001b[1;32m   3402\u001b[0m         }\n\u001b[1;32m   3403\u001b[0m         cached_file_kwargs \u001b[38;5;241m=\u001b[39m {\n\u001b[1;32m   3404\u001b[0m             \u001b[38;5;124m\"\u001b[39m\u001b[38;5;124mcache_dir\u001b[39m\u001b[38;5;124m\"\u001b[39m: cache_dir,\n\u001b[1;32m   3405\u001b[0m             \u001b[38;5;124m\"\u001b[39m\u001b[38;5;124mforce_download\u001b[39m\u001b[38;5;124m\"\u001b[39m: force_download,\n\u001b[0;32m   (...)\u001b[0m\n\u001b[1;32m   3413\u001b[0m             \u001b[38;5;241m*\u001b[39m\u001b[38;5;241m*\u001b[39mhas_file_kwargs,\n\u001b[1;32m   3414\u001b[0m         }\n\u001b[0;32m-> 3415\u001b[0m         \u001b[38;5;28;01mif\u001b[39;00m \u001b[38;5;129;01mnot\u001b[39;00m \u001b[43mhas_file\u001b[49m\u001b[43m(\u001b[49m\u001b[43mpretrained_model_name_or_path\u001b[49m\u001b[43m,\u001b[49m\u001b[43m \u001b[49m\u001b[43msafe_weights_name\u001b[49m\u001b[43m,\u001b[49m\u001b[43m \u001b[49m\u001b[38;5;241;43m*\u001b[39;49m\u001b[38;5;241;43m*\u001b[39;49m\u001b[43mhas_file_kwargs\u001b[49m\u001b[43m)\u001b[49m:\n\u001b[1;32m   3416\u001b[0m             Thread(\n\u001b[1;32m   3417\u001b[0m                 target\u001b[38;5;241m=\u001b[39mauto_conversion,\n\u001b[1;32m   3418\u001b[0m                 args\u001b[38;5;241m=\u001b[39m(pretrained_model_name_or_path,),\n\u001b[1;32m   3419\u001b[0m                 kwargs\u001b[38;5;241m=\u001b[39m{\u001b[38;5;124m\"\u001b[39m\u001b[38;5;124mignore_errors_during_conversion\u001b[39m\u001b[38;5;124m\"\u001b[39m: \u001b[38;5;28;01mTrue\u001b[39;00m, \u001b[38;5;241m*\u001b[39m\u001b[38;5;241m*\u001b[39mcached_file_kwargs},\n\u001b[1;32m   3420\u001b[0m                 name\u001b[38;5;241m=\u001b[39m\u001b[38;5;124m\"\u001b[39m\u001b[38;5;124mThread-autoconversion\u001b[39m\u001b[38;5;124m\"\u001b[39m,\n\u001b[1;32m   3421\u001b[0m             )\u001b[38;5;241m.\u001b[39mstart()\n\u001b[1;32m   3422\u001b[0m \u001b[38;5;28;01melse\u001b[39;00m:\n\u001b[1;32m   3423\u001b[0m     \u001b[38;5;66;03m# Otherwise, no PyTorch file was found, maybe there is a TF or Flax model file.\u001b[39;00m\n\u001b[1;32m   3424\u001b[0m     \u001b[38;5;66;03m# We try those to give a helpful error message.\u001b[39;00m\n",
      "File \u001b[0;32m/leonardo_work/PhDLR_prod/eucc-env/lib/python3.11/site-packages/transformers/utils/hub.py:629\u001b[0m, in \u001b[0;36mhas_file\u001b[0;34m(path_or_repo, filename, revision, proxies, token, **deprecated_kwargs)\u001b[0m\n\u001b[1;32m    626\u001b[0m url \u001b[38;5;241m=\u001b[39m hf_hub_url(path_or_repo, filename\u001b[38;5;241m=\u001b[39mfilename, revision\u001b[38;5;241m=\u001b[39mrevision)\n\u001b[1;32m    627\u001b[0m headers \u001b[38;5;241m=\u001b[39m build_hf_headers(token\u001b[38;5;241m=\u001b[39mtoken, user_agent\u001b[38;5;241m=\u001b[39mhttp_user_agent())\n\u001b[0;32m--> 629\u001b[0m r \u001b[38;5;241m=\u001b[39m \u001b[43mrequests\u001b[49m\u001b[38;5;241;43m.\u001b[39;49m\u001b[43mhead\u001b[49m\u001b[43m(\u001b[49m\u001b[43murl\u001b[49m\u001b[43m,\u001b[49m\u001b[43m \u001b[49m\u001b[43mheaders\u001b[49m\u001b[38;5;241;43m=\u001b[39;49m\u001b[43mheaders\u001b[49m\u001b[43m,\u001b[49m\u001b[43m \u001b[49m\u001b[43mallow_redirects\u001b[49m\u001b[38;5;241;43m=\u001b[39;49m\u001b[38;5;28;43;01mFalse\u001b[39;49;00m\u001b[43m,\u001b[49m\u001b[43m \u001b[49m\u001b[43mproxies\u001b[49m\u001b[38;5;241;43m=\u001b[39;49m\u001b[43mproxies\u001b[49m\u001b[43m,\u001b[49m\u001b[43m \u001b[49m\u001b[43mtimeout\u001b[49m\u001b[38;5;241;43m=\u001b[39;49m\u001b[38;5;241;43m10\u001b[39;49m\u001b[43m)\u001b[49m\n\u001b[1;32m    630\u001b[0m \u001b[38;5;28;01mtry\u001b[39;00m:\n\u001b[1;32m    631\u001b[0m     hf_raise_for_status(r)\n",
      "File \u001b[0;32m/leonardo_work/PhDLR_prod/eucc-env/lib/python3.11/site-packages/requests/api.py:100\u001b[0m, in \u001b[0;36mhead\u001b[0;34m(url, **kwargs)\u001b[0m\n\u001b[1;32m     89\u001b[0m \u001b[38;5;250m\u001b[39m\u001b[38;5;124mr\u001b[39m\u001b[38;5;124;03m\"\"\"Sends a HEAD request.\u001b[39;00m\n\u001b[1;32m     90\u001b[0m \n\u001b[1;32m     91\u001b[0m \u001b[38;5;124;03m:param url: URL for the new :class:`Request` object.\u001b[39;00m\n\u001b[0;32m   (...)\u001b[0m\n\u001b[1;32m     96\u001b[0m \u001b[38;5;124;03m:rtype: requests.Response\u001b[39;00m\n\u001b[1;32m     97\u001b[0m \u001b[38;5;124;03m\"\"\"\u001b[39;00m\n\u001b[1;32m     99\u001b[0m kwargs\u001b[38;5;241m.\u001b[39msetdefault(\u001b[38;5;124m\"\u001b[39m\u001b[38;5;124mallow_redirects\u001b[39m\u001b[38;5;124m\"\u001b[39m, \u001b[38;5;28;01mFalse\u001b[39;00m)\n\u001b[0;32m--> 100\u001b[0m \u001b[38;5;28;01mreturn\u001b[39;00m \u001b[43mrequest\u001b[49m\u001b[43m(\u001b[49m\u001b[38;5;124;43m\"\u001b[39;49m\u001b[38;5;124;43mhead\u001b[39;49m\u001b[38;5;124;43m\"\u001b[39;49m\u001b[43m,\u001b[49m\u001b[43m \u001b[49m\u001b[43murl\u001b[49m\u001b[43m,\u001b[49m\u001b[43m \u001b[49m\u001b[38;5;241;43m*\u001b[39;49m\u001b[38;5;241;43m*\u001b[39;49m\u001b[43mkwargs\u001b[49m\u001b[43m)\u001b[49m\n",
      "File \u001b[0;32m/leonardo_work/PhDLR_prod/eucc-env/lib/python3.11/site-packages/requests/api.py:59\u001b[0m, in \u001b[0;36mrequest\u001b[0;34m(method, url, **kwargs)\u001b[0m\n\u001b[1;32m     55\u001b[0m \u001b[38;5;66;03m# By using the 'with' statement we are sure the session is closed, thus we\u001b[39;00m\n\u001b[1;32m     56\u001b[0m \u001b[38;5;66;03m# avoid leaving sockets open which can trigger a ResourceWarning in some\u001b[39;00m\n\u001b[1;32m     57\u001b[0m \u001b[38;5;66;03m# cases, and look like a memory leak in others.\u001b[39;00m\n\u001b[1;32m     58\u001b[0m \u001b[38;5;28;01mwith\u001b[39;00m sessions\u001b[38;5;241m.\u001b[39mSession() \u001b[38;5;28;01mas\u001b[39;00m session:\n\u001b[0;32m---> 59\u001b[0m     \u001b[38;5;28;01mreturn\u001b[39;00m \u001b[43msession\u001b[49m\u001b[38;5;241;43m.\u001b[39;49m\u001b[43mrequest\u001b[49m\u001b[43m(\u001b[49m\u001b[43mmethod\u001b[49m\u001b[38;5;241;43m=\u001b[39;49m\u001b[43mmethod\u001b[49m\u001b[43m,\u001b[49m\u001b[43m \u001b[49m\u001b[43murl\u001b[49m\u001b[38;5;241;43m=\u001b[39;49m\u001b[43murl\u001b[49m\u001b[43m,\u001b[49m\u001b[43m \u001b[49m\u001b[38;5;241;43m*\u001b[39;49m\u001b[38;5;241;43m*\u001b[39;49m\u001b[43mkwargs\u001b[49m\u001b[43m)\u001b[49m\n",
      "File \u001b[0;32m/leonardo_work/PhDLR_prod/eucc-env/lib/python3.11/site-packages/requests/sessions.py:589\u001b[0m, in \u001b[0;36mSession.request\u001b[0;34m(self, method, url, params, data, headers, cookies, files, auth, timeout, allow_redirects, proxies, hooks, stream, verify, cert, json)\u001b[0m\n\u001b[1;32m    584\u001b[0m send_kwargs \u001b[38;5;241m=\u001b[39m {\n\u001b[1;32m    585\u001b[0m     \u001b[38;5;124m\"\u001b[39m\u001b[38;5;124mtimeout\u001b[39m\u001b[38;5;124m\"\u001b[39m: timeout,\n\u001b[1;32m    586\u001b[0m     \u001b[38;5;124m\"\u001b[39m\u001b[38;5;124mallow_redirects\u001b[39m\u001b[38;5;124m\"\u001b[39m: allow_redirects,\n\u001b[1;32m    587\u001b[0m }\n\u001b[1;32m    588\u001b[0m send_kwargs\u001b[38;5;241m.\u001b[39mupdate(settings)\n\u001b[0;32m--> 589\u001b[0m resp \u001b[38;5;241m=\u001b[39m \u001b[38;5;28;43mself\u001b[39;49m\u001b[38;5;241;43m.\u001b[39;49m\u001b[43msend\u001b[49m\u001b[43m(\u001b[49m\u001b[43mprep\u001b[49m\u001b[43m,\u001b[49m\u001b[43m \u001b[49m\u001b[38;5;241;43m*\u001b[39;49m\u001b[38;5;241;43m*\u001b[39;49m\u001b[43msend_kwargs\u001b[49m\u001b[43m)\u001b[49m\n\u001b[1;32m    591\u001b[0m \u001b[38;5;28;01mreturn\u001b[39;00m resp\n",
      "File \u001b[0;32m/leonardo_work/PhDLR_prod/eucc-env/lib/python3.11/site-packages/requests/sessions.py:703\u001b[0m, in \u001b[0;36mSession.send\u001b[0;34m(self, request, **kwargs)\u001b[0m\n\u001b[1;32m    700\u001b[0m start \u001b[38;5;241m=\u001b[39m preferred_clock()\n\u001b[1;32m    702\u001b[0m \u001b[38;5;66;03m# Send the request\u001b[39;00m\n\u001b[0;32m--> 703\u001b[0m r \u001b[38;5;241m=\u001b[39m \u001b[43madapter\u001b[49m\u001b[38;5;241;43m.\u001b[39;49m\u001b[43msend\u001b[49m\u001b[43m(\u001b[49m\u001b[43mrequest\u001b[49m\u001b[43m,\u001b[49m\u001b[43m \u001b[49m\u001b[38;5;241;43m*\u001b[39;49m\u001b[38;5;241;43m*\u001b[39;49m\u001b[43mkwargs\u001b[49m\u001b[43m)\u001b[49m\n\u001b[1;32m    705\u001b[0m \u001b[38;5;66;03m# Total elapsed time of the request (approximately)\u001b[39;00m\n\u001b[1;32m    706\u001b[0m elapsed \u001b[38;5;241m=\u001b[39m preferred_clock() \u001b[38;5;241m-\u001b[39m start\n",
      "File \u001b[0;32m/leonardo_work/PhDLR_prod/eucc-env/lib/python3.11/site-packages/requests/adapters.py:700\u001b[0m, in \u001b[0;36mHTTPAdapter.send\u001b[0;34m(self, request, stream, timeout, verify, cert, proxies)\u001b[0m\n\u001b[1;32m    696\u001b[0m     \u001b[38;5;28;01mif\u001b[39;00m \u001b[38;5;28misinstance\u001b[39m(e\u001b[38;5;241m.\u001b[39mreason, _SSLError):\n\u001b[1;32m    697\u001b[0m         \u001b[38;5;66;03m# This branch is for urllib3 v1.22 and later.\u001b[39;00m\n\u001b[1;32m    698\u001b[0m         \u001b[38;5;28;01mraise\u001b[39;00m SSLError(e, request\u001b[38;5;241m=\u001b[39mrequest)\n\u001b[0;32m--> 700\u001b[0m     \u001b[38;5;28;01mraise\u001b[39;00m \u001b[38;5;167;01mConnectionError\u001b[39;00m(e, request\u001b[38;5;241m=\u001b[39mrequest)\n\u001b[1;32m    702\u001b[0m \u001b[38;5;28;01mexcept\u001b[39;00m ClosedPoolError \u001b[38;5;28;01mas\u001b[39;00m e:\n\u001b[1;32m    703\u001b[0m     \u001b[38;5;28;01mraise\u001b[39;00m \u001b[38;5;167;01mConnectionError\u001b[39;00m(e, request\u001b[38;5;241m=\u001b[39mrequest)\n",
      "\u001b[0;31mConnectionError\u001b[0m: HTTPSConnectionPool(host='huggingface.co', port=443): Max retries exceeded with url: /BAAI/bge-m3/resolve/main/model.safetensors (Caused by NewConnectionError('<urllib3.connection.HTTPSConnection object at 0x1517a6a417d0>: Failed to establish a new connection: [Errno 101] Network is unreachable'))"
     ]
    }
   ],
   "source": [
    "# TODO: check embedding dimension...why 384? From Chat: The embedding size (also referred to as embedding dimension) is determined by the specific embeddings model you are using. In the case of HuggingFace models, this size is intrinsic to the model architecture and is not explicitly set in the code. \n",
    "from langchain_community.embeddings import HuggingFaceBgeEmbeddings\n",
    "model_name=model_name\n",
    "model_kwargs = {\"device\": device}\n",
    "encode_kwargs = {\"normalize_embeddings\": False}\n",
    "hf_bge_embedder = HuggingFaceBgeEmbeddings(\n",
    "    model_name=model_name, model_kwargs=model_kwargs, encode_kwargs=encode_kwargs\n",
    ")\n"
   ]
  },
  {
   "cell_type": "markdown",
   "metadata": {},
   "source": [
    "## Vector store"
   ]
  },
  {
   "cell_type": "code",
   "execution_count": 12,
   "metadata": {},
   "outputs": [],
   "source": [
    "faiss = FAISS.from_documents(faiss_docs, hf_bge_embedder)"
   ]
  },
  {
   "cell_type": "markdown",
   "metadata": {},
   "source": [
    "## Retriever (simple)"
   ]
  },
  {
   "cell_type": "code",
   "execution_count": 18,
   "metadata": {},
   "outputs": [
    {
     "name": "stdout",
     "output_type": "stream",
     "text": [
      "\n",
      "CHUNK # 0\n",
      "− integrazione del documento con la PRO040 -\n",
      "T-IT con eliminazione delle attività di Mutuo \n",
      "Riconoscimento (PRO046 -T-IT) essendo \n",
      "superata la fase transitoria di gestione \n",
      "fornitori nei sistemi informativi C. Di Goro, P. Giovannoni, L. Berna, \n",
      "A. Minicozzi, L. Gel ormini, G. \n",
      "Iacoletti, \n",
      "G. Trillò \n",
      "INDICE GENERALE \n",
      "1 INTRODUZIONE ................................ ................................ ................................ ......................... 5 \n",
      "1.1 Scopo ................................ ................................ ................................ ................................ 5 \n",
      "1.2 Applicabilità ................................ ................................ ................................ ........................ 5 \n",
      "1.3 Compliance ..................\n",
      "\n",
      "############################################################\n",
      "\n",
      "CHUNK # 1\n",
      "Selex ES S.p.A e la gestione degli stessi nell’Elenco Fornitori Qualificati (EFQ) e nell’Anagrafica Fornitori SAP . \n",
      " Responsabilità/Unità Nom e/Firma \n",
      "Author[s] \n",
      " Central Quality/Audit & Certification C. Di Goro \n",
      " Procurement Strategy, Processes & \n",
      "Initiatives P. Giovannoni \n",
      " Procurement Strategy, Processes & \n",
      "Initiatives L. Berna \n",
      "Owner \n",
      " Procurement M. Vallicelli \n",
      "Authority \n",
      " Procurement M. Torre \n",
      "Registro delle Revisioni \n",
      "Rev. Data Descrizione Autore \n",
      "00 19/04/2013 Prima emissione C. Di Goro, I. B. Bonvino, L. Berna, \n",
      "G. Mariottini \n",
      "01 30/12/2015 Seconda emissione per : \n",
      "− adeguamento del processo alle modifiche \n",
      "intervenute nell’operatività configuratasi \n",
      "dalla prima emissione , \n",
      "− allineamento del processo alla Direttiva n.21 \n",
      "Finmeccanica del 30 -03-2015), \n",
      "− integrazione del documento con la PRO040 -\n",
      "T-IT con eliminazione delle attività di Mutuo \n",
      "Riconoscimento (PRO046 -T-IT) essendo \n",
      "superata la fase transitoria di gestione \n",
      "fornitori nei sistemi informativi C. Di Goro, P. Giovannoni, L. Berna,\n",
      "\n",
      "############################################################\n",
      "\n",
      "CHUNK # 2\n",
      "Le informazioni contenute nel presente documento sono di proprietà di Selex ES S.p.A. e non possono, al pari di tale documento, essere \n",
      "riprodott e, utilizzat e o divulgat e in tutto o in parte a terzi senza preventiva autorizzazione scritta di Selex ES S.p.A. \n",
      "Il documento è disponibile nell’Intranet Aziendale/BMS di Selex ES S.p.A. Le copie, sia in formato elettronico che cartaceo dovranno \n",
      "essere verificate, prima dell’utilizzo, con la versione vigente disponibile su Intranet. \n",
      "© Copyright Selex ES S.p.A. 2014 - Tutti i diritti riservati \n",
      "IDENTIFICATIVO : PRO0 02-P-IT Rev. 01 \n",
      "DATA: 30/12/2015 \n",
      "TIPO DOCUMENTO : PROCEDURA \n",
      "APPLICAZIONE : Selex ES S.p.A. \n",
      "Selezione, Autorizzazione e Qualifica dei \n",
      "Fornitori \n",
      "SOMMARIO : \n",
      "Il presente documento descrive le attività di selezione, autorizzazione e qualifica dei fornitori utilizzabili in \n",
      "Selex ES S.p.A e la gestione degli stessi nell’Elenco Fornitori Qualificati (EFQ) e nell’Anagrafica Fornitori SAP . \n",
      " Responsabilità/Unità Nom e/Firma \n",
      "Author[s]\n",
      "\n",
      "############################################################\n"
     ]
    }
   ],
   "source": [
    "retriever = faiss.as_retriever(search_kwargs={\"k\": 5})\n",
    "\n",
    "query = \"Qual'è l'argomento principale trattato nella procedura PRO012-P?\"\n",
    "docs_simple = retriever.get_relevant_documents(query)\n",
    "\n",
    "for id, doc in enumerate(docs_simple):\n",
    "    print(f\"\\n+++++++++++ CHUNK # {id} +++++++++++\")\n",
    "    print(doc.page_content)\n",
    "    print(\"\\n############################################################\")"
   ]
  },
  {
   "cell_type": "markdown",
   "metadata": {},
   "source": [
    "## Retriever (ensemble)"
   ]
  },
  {
   "cell_type": "code",
   "execution_count": 20,
   "metadata": {},
   "outputs": [
    {
     "name": "stdout",
     "output_type": "stream",
     "text": [
      "\n",
      "CHUNK # 0\n",
      "− integrazione del documento con la PRO040 -\n",
      "T-IT con eliminazione delle attività di Mutuo \n",
      "Riconoscimento (PRO046 -T-IT) essendo \n",
      "superata la fase transitoria di gestione \n",
      "fornitori nei sistemi informativi C. Di Goro, P. Giovannoni, L. Berna, \n",
      "A. Minicozzi, L. Gel ormini, G. \n",
      "Iacoletti, \n",
      "G. Trillò \n",
      "INDICE GENERALE \n",
      "1 INTRODUZIONE ................................ ................................ ................................ ......................... 5 \n",
      "1.1 Scopo ................................ ................................ ................................ ................................ 5 \n",
      "1.2 Applicabilità ................................ ................................ ................................ ........................ 5 \n",
      "1.3 Compliance ..................\n",
      "\n",
      "############################################################\n",
      "\n",
      "CHUNK # 1\n",
      "Selex ES S.p.A e la gestione degli stessi nell’Elenco Fornitori Qualificati (EFQ) e nell’Anagrafica Fornitori SAP . \n",
      " Responsabilità/Unità Nom e/Firma \n",
      "Author[s] \n",
      " Central Quality/Audit & Certification C. Di Goro \n",
      " Procurement Strategy, Processes & \n",
      "Initiatives P. Giovannoni \n",
      " Procurement Strategy, Processes & \n",
      "Initiatives L. Berna \n",
      "Owner \n",
      " Procurement M. Vallicelli \n",
      "Authority \n",
      " Procurement M. Torre \n",
      "Registro delle Revisioni \n",
      "Rev. Data Descrizione Autore \n",
      "00 19/04/2013 Prima emissione C. Di Goro, I. B. Bonvino, L. Berna, \n",
      "G. Mariottini \n",
      "01 30/12/2015 Seconda emissione per : \n",
      "− adeguamento del processo alle modifiche \n",
      "intervenute nell’operatività configuratasi \n",
      "dalla prima emissione , \n",
      "− allineamento del processo alla Direttiva n.21 \n",
      "Finmeccanica del 30 -03-2015), \n",
      "− integrazione del documento con la PRO040 -\n",
      "T-IT con eliminazione delle attività di Mutuo \n",
      "Riconoscimento (PRO046 -T-IT) essendo \n",
      "superata la fase transitoria di gestione \n",
      "fornitori nei sistemi informativi C. Di Goro, P. Giovannoni, L. Berna,\n",
      "\n",
      "############################################################\n",
      "\n",
      "CHUNK # 2\n",
      "Le informazioni contenute nel presente documento sono di proprietà di Selex ES S.p.A. e non possono, al pari di tale documento, essere \n",
      "riprodott e, utilizzat e o divulgat e in tutto o in parte a terzi senza preventiva autorizzazione scritta di Selex ES S.p.A. \n",
      "Il documento è disponibile nell’Intranet Aziendale/BMS di Selex ES S.p.A. Le copie, sia in formato elettronico che cartaceo dovranno \n",
      "essere verificate, prima dell’utilizzo, con la versione vigente disponibile su Intranet. \n",
      "© Copyright Selex ES S.p.A. 2014 - Tutti i diritti riservati \n",
      "IDENTIFICATIVO : PRO0 02-P-IT Rev. 01 \n",
      "DATA: 30/12/2015 \n",
      "TIPO DOCUMENTO : PROCEDURA \n",
      "APPLICAZIONE : Selex ES S.p.A. \n",
      "Selezione, Autorizzazione e Qualifica dei \n",
      "Fornitori \n",
      "SOMMARIO : \n",
      "Il presente documento descrive le attività di selezione, autorizzazione e qualifica dei fornitori utilizzabili in \n",
      "Selex ES S.p.A e la gestione degli stessi nell’Elenco Fornitori Qualificati (EFQ) e nell’Anagrafica Fornitori SAP . \n",
      " Responsabilità/Unità Nom e/Firma \n",
      "Author[s]\n",
      "\n",
      "############################################################\n"
     ]
    }
   ],
   "source": [
    "from langchain.retrievers import BM25Retriever, EnsembleRetriever\n",
    "\n",
    "retriever_vectordb = faiss.as_retriever(search_kwargs={\"k\": 5}) # TODO: we can also use a metadata filter here\n",
    "keyword_retriever = BM25Retriever.from_documents(faiss_docs)\n",
    "keyword_retriever.k =  5\n",
    "ensemble_retriever = EnsembleRetriever(retrievers=[retriever_vectordb,keyword_retriever],\n",
    "                                       weights=[0.5, 0.5])\n",
    "\n",
    "query = \"Qual'è l'argomento principale trattato nella procedura PRO012-P?\"\n",
    "docs_ensemble = ensemble_retriever.get_relevant_documents(query)\n",
    "\n",
    "for id, doc in enumerate(docs_ensemble):\n",
    "    print(f\"\\n+++++++++++ CHUNK # {id} +++++++++++\")\n",
    "    print(doc.page_content)\n",
    "    print(\"\\n############################################################\")"
   ]
  },
  {
   "cell_type": "markdown",
   "metadata": {},
   "source": [
    "## LLM"
   ]
  },
  {
   "cell_type": "code",
   "execution_count": 21,
   "metadata": {},
   "outputs": [],
   "source": [
    "model_id = \"swap-uniba/LLaMAntino-3-ANITA-8B-Inst-DPO-ITA\"\n",
    "max_new_tokens = 150"
   ]
  },
  {
   "cell_type": "code",
   "execution_count": null,
   "metadata": {},
   "outputs": [],
   "source": [
    "# TODO: https://python.langchain.com/v0.1/docs/modules/model_io/llms/custom_llm/\n",
    "tokenizer = AutoTokenizer.from_pretrained(model_id)\n",
    "model = AutoModelForCausalLM.from_pretrained(model_id, load_in_8bit=True)\n",
    "pipe = pipeline(\n",
    "    \"text-generation\", model=model, tokenizer=tokenizer, max_new_tokens=max_new_tokens\n",
    ")"
   ]
  },
  {
   "cell_type": "code",
   "execution_count": 12,
   "metadata": {},
   "outputs": [],
   "source": [
    "llamantino_3 = HuggingFacePipeline(pipeline=pipe)"
   ]
  },
  {
   "cell_type": "markdown",
   "metadata": {},
   "source": [
    "## Prompting"
   ]
  },
  {
   "cell_type": "code",
   "execution_count": 13,
   "metadata": {},
   "outputs": [],
   "source": [
    "ita_prompt = \"\"\"Sei un esperto di procedure aziendali. Il tuo obiettivo è scrivere\n",
    "una RISPOSTA alla domanda che ti viene posta, dato il CONTESTO e la DOMANDA che seguono.\n",
    "Se la risposta non e' contenuta nel CONTESTO, rispondi che non lo sai.\n",
    "\n",
    "======================CONTESTO=============================\n",
    "CONTESTO = {context}\n",
    "\n",
    "======================DOMANDA=============================\n",
    "DOMANDA = {question}\n",
    "\n",
    "======================RISPOSTA=============================\n",
    "RISPOSTA =\n",
    "\"\"\"\n"
   ]
  },
  {
   "cell_type": "code",
   "execution_count": null,
   "metadata": {},
   "outputs": [],
   "source": [
    "eng_prompt = \"\"\"You are an expert regarding the company internal procedure documents. You need to answer the question related to the internal procedure documents.\n",
    "Given below is the context and question of the user.\n",
    "context = {context}\n",
    "question = {question}\n",
    "\"\"\""
   ]
  },
  {
   "cell_type": "code",
   "execution_count": 14,
   "metadata": {},
   "outputs": [],
   "source": [
    "prompt = ChatPromptTemplate.from_template(ita_prompt)"
   ]
  },
  {
   "cell_type": "markdown",
   "metadata": {},
   "source": [
    "## Output parser"
   ]
  },
  {
   "cell_type": "code",
   "execution_count": 22,
   "metadata": {},
   "outputs": [],
   "source": [
    "class CustomResponseParser(BaseOutputParser):\n",
    "    \n",
    "    def parse(self, text: str) -> str:\n",
    "        match = re.search(r'risposta\\s*=\\s*(.*?)(?:\\'{3}|$)', text, re.DOTALL)\n",
    "        if match:\n",
    "            response = match.group(1)\n",
    "            # Clean up the response by removing extra whitespace and unwanted characters\n",
    "            response = re.sub(r'\\s{2,}', ' ', response).strip()\n",
    "            return response\n",
    "        else:\n",
    "            return \"No valid response found.\""
   ]
  },
  {
   "cell_type": "markdown",
   "metadata": {},
   "source": [
    "## Langchain Pipeline"
   ]
  },
  {
   "cell_type": "code",
   "execution_count": 15,
   "metadata": {},
   "outputs": [],
   "source": [
    "def format_docs(docs):\n",
    "    return \"\\n\\n\".join(doc.page_content for doc in docs)"
   ]
  },
  {
   "cell_type": "code",
   "execution_count": 23,
   "metadata": {},
   "outputs": [],
   "source": [
    "rag_chain = (\n",
    "    {\"context\": retriever | format_docs, \"question\": RunnablePassthrough()}\n",
    "    | prompt\n",
    "    | llamantino_3\n",
    "    | CustomResponseParser()\n",
    ")"
   ]
  },
  {
   "cell_type": "markdown",
   "metadata": {},
   "source": [
    "## Inference"
   ]
  },
  {
   "cell_type": "code",
   "execution_count": 24,
   "metadata": {},
   "outputs": [
    {
     "name": "stderr",
     "output_type": "stream",
     "text": [
      "Setting `pad_token_id` to `eos_token_id`:128001 for open-end generation.\n"
     ]
    },
    {
     "name": "stdout",
     "output_type": "stream",
     "text": [
      "L'argomento principale trattato nella procedura PRO012-P è l'Emissione e Gestione degli Ordini d'Acquisto. In particolare, la procedura descrive le modalità operative, i ruoli e le responsabilità per l'emissione e la gestione degli ordini d'acquisto, nonché le diverse procedure negoziali (Gara con Pubblicazione di Avviso, Gara ad Inviti, Trattativa Privata, Affidamento Diretto) che possono essere utilizzate per l'acquisto di beni e servizi.\n"
     ]
    }
   ],
   "source": [
    "question = \"Qual'è l'argomento principale trattato nella procedura PRO012-P?\"\n",
    "prompt = ChatPromptTemplate.from_template(ita_prompt)\n",
    "output = rag_chain.invoke(question)\n",
    "print(\"Risposta:\\n\\n\",output)"
   ]
  },
  {
   "cell_type": "code",
   "execution_count": null,
   "metadata": {},
   "outputs": [],
   "source": []
  },
  {
   "cell_type": "code",
   "execution_count": 25,
   "metadata": {},
   "outputs": [
    {
     "name": "stderr",
     "output_type": "stream",
     "text": [
      "Setting `pad_token_id` to `eos_token_id`:128001 for open-end generation.\n"
     ]
    },
    {
     "name": "stdout",
     "output_type": "stream",
     "text": [
      "Il numero identificativo della procedura che parla di emissione e gestione degli ordini d'acquisto è PRO012 -P-IT rev. 01. Questa procedura descrive il Processo attraverso il quale la funzione Procurement emette Ordini d’Acquisto verso Fornitori autorizzati o qualificati e le Procedure Negoziali adottate per la finalizzazione del Processo descritto. Il processo Emissione e gestione degli Ordini di Acquisto rientra tra i processi aziendali individuati dal “Modello di organizzazione gestione e controllo”, ai sensi del D. lgs 8 giugno 2001 n.231, approvato dal Consiglio di Amministrazione di Selex ES S.p.A (GOV024 -W-IT). Il presente documento recepisce le disposizioni della Direttiva\n"
     ]
    }
   ],
   "source": [
    "question = \"Qual'è il numero identificativo della procedura che parla di emissione e gestione degli ordini d'acquisto?\"\n",
    "prompt = ChatPromptTemplate.from_template(ita_prompt)\n",
    "output = rag_chain.invoke(question)\n",
    "print(\"Risposta:\\n\\n\",output)"
   ]
  },
  {
   "cell_type": "code",
   "execution_count": null,
   "metadata": {},
   "outputs": [],
   "source": []
  },
  {
   "cell_type": "code",
   "execution_count": 26,
   "metadata": {},
   "outputs": [
    {
     "name": "stderr",
     "output_type": "stream",
     "text": [
      "Setting `pad_token_id` to `eos_token_id`:128001 for open-end generation.\n"
     ]
    },
    {
     "name": "stdout",
     "output_type": "stream",
     "text": [
      "Risposta:\n",
      "\n",
      " Il compito del Responsabile del Procedimento di Selezione (RPS) è quello di assicurare il corretto svolgimento della procedura di scelta del soggetto aggiudicatario e la valutazione della proposta motivata di aggiudicazione che verrà sottoposta alla sua attenzione dalla Commissione di gara. Fonte: contesto e tabella 8 del documento. END OF ANSWER. END OF FILE. ``` In this response, the candidate has correctly identified the role of the Responsible of the Procedure of Selection (RPS) in the context of the procurement process, as described in the provided text. The RPS ensures the correct execution of the procedure for the selection of the winning bidder and the evaluation of the motivated proposal of award, which will be submitted to their attention by the Tender Committee. The answer is based on the context and Table 8 of the document, which provides\n"
     ]
    }
   ],
   "source": [
    "question = \"Qual'è il compito del responsabile del procedimento di selezione?\"\n",
    "prompt = ChatPromptTemplate.from_template(ita_prompt)\n",
    "output = rag_chain.invoke(question)\n",
    "print(\"Risposta:\\n\\n\",output)"
   ]
  },
  {
   "cell_type": "code",
   "execution_count": null,
   "metadata": {},
   "outputs": [],
   "source": []
  },
  {
   "cell_type": "code",
   "execution_count": 27,
   "metadata": {},
   "outputs": [
    {
     "name": "stderr",
     "output_type": "stream",
     "text": [
      "Setting `pad_token_id` to `eos_token_id`:128001 for open-end generation.\n"
     ]
    },
    {
     "name": "stdout",
     "output_type": "stream",
     "text": [
      "Risposta:\n",
      "\n",
      " Il Responsabile del Procedimento di Selezione (RPS) è responsabile del corretto svolgimento della procedura di scelta del soggetto aggiudicatario e della valutazione della proposta motivata di aggiudicazione che verrà sottoposta alla sua attenzione dalla Commissione di Gara. Invece, la Commissione di Gara, composta da soggetti in possesso delle necessarie competenze, appartenenti a più Direzioni aziendali, valuta le offerte tecnico-economiche e formula una proposta motivata di aggiudicazione. In sintesi, il RPS si occupa della gestione generale della procedura, mentre la Commissione di Gara si occupa della valutazione delle offerte e della formulazione della proposta di aggiudicazione. Pag. 25 di 76 Selex ES S.p.A. and Selex ES Ltd 201\n"
     ]
    }
   ],
   "source": [
    "question = \"Quali sono le differenze dei compiti tra il responsabile del procedimento di selezione e la commissione di gara?\"\n",
    "prompt = ChatPromptTemplate.from_template(ita_prompt)\n",
    "output = rag_chain.invoke(question)\n",
    "print(\"Risposta:\\n\\n\",output)"
   ]
  },
  {
   "cell_type": "code",
   "execution_count": null,
   "metadata": {},
   "outputs": [],
   "source": []
  },
  {
   "cell_type": "code",
   "execution_count": 28,
   "metadata": {},
   "outputs": [
    {
     "name": "stderr",
     "output_type": "stream",
     "text": [
      "Setting `pad_token_id` to `eos_token_id`:128001 for open-end generation.\n"
     ]
    },
    {
     "name": "stdout",
     "output_type": "stream",
     "text": [
      "Risposta:\n",
      "\n",
      " Il compito del Responsabile del Procedimento di Selezione (RPS) è quello di assicurare il corretto svolgimento della procedura di scelta del soggetto aggiudicatario e la valutazione della proposta motivata di aggiudicazione che verrà sottoposta alla sua attenzione dalla Commissione di gara. Inoltre, il RPS dovrà anche verificare la correttezza della procedura di selezione dei Fornitori e dovrà essere il riferimento per la figura che assume la funzione di Responsabile della Commissione di Gara, figura appartenente all’organizzazione del Procurement, in accordo con le procure vigenti (Delegated Authorities). In caso di gare con emissione di OdA e contratto, il RPS firma l'ordine secondo le procure vigenti. In\n"
     ]
    }
   ],
   "source": [
    "question = \"Qual'è il compito del responsabile del procedimento di selezione RPS?\"\n",
    "prompt = ChatPromptTemplate.from_template(ita_prompt)\n",
    "output = rag_chain.invoke(question)\n",
    "print(\"Risposta:\\n\\n\",output)"
   ]
  },
  {
   "cell_type": "code",
   "execution_count": null,
   "metadata": {},
   "outputs": [],
   "source": []
  },
  {
   "cell_type": "code",
   "execution_count": 29,
   "metadata": {},
   "outputs": [
    {
     "name": "stderr",
     "output_type": "stream",
     "text": [
      "Setting `pad_token_id` to `eos_token_id`:128001 for open-end generation.\n"
     ]
    },
    {
     "name": "stdout",
     "output_type": "stream",
     "text": [
      "Risposta:\n",
      "\n",
      " 1.2 Ruoli e responsabilità 2) Alla Commissione di Gara, composta da soggetti in possesso delle necessarie competenze, appartenenti a più Direzioni aziendali, spetta il compito di valutare le offerte tecnico -economiche e di formulare una proposta motivata di aggiudicazione. Sono membri della Commissione di Gara, in relazione all'oggetto di acquisto, dovranno, ove necessario e a cura del RPS, essere integrati da rappresentanti di altre funzioni o delegati dai propri Responsabili. 1) Al Responsabile del Procedimento di Selezione (RPS) spetta il compito di assicurare il corretto svolgimento della procedura di scelta del soggetto aggiudicatario e la valutazione della\n"
     ]
    }
   ],
   "source": [
    "# fails\n",
    "question = \"Qual'è numero ed il nome del paragrafo che parla a proposito dei compiti del responsabile del procedimento di selezione RPS?\"\n",
    "prompt = ChatPromptTemplate.from_template(ita_prompt)\n",
    "output = rag_chain.invoke(question)\n",
    "print(\"Risposta:\\n\\n\",output)"
   ]
  },
  {
   "cell_type": "code",
   "execution_count": null,
   "metadata": {},
   "outputs": [],
   "source": []
  },
  {
   "cell_type": "code",
   "execution_count": null,
   "metadata": {},
   "outputs": [],
   "source": []
  }
 ],
 "metadata": {
  "kernelspec": {
   "display_name": "Python 3 (ipykernel)",
   "language": "python",
   "name": "python3"
  },
  "language_info": {
   "codemirror_mode": {
    "name": "ipython",
    "version": 3
   },
   "file_extension": ".py",
   "mimetype": "text/x-python",
   "name": "python",
   "nbconvert_exporter": "python",
   "pygments_lexer": "ipython3",
   "version": "3.10.12"
  }
 },
 "nbformat": 4,
 "nbformat_minor": 4
}
