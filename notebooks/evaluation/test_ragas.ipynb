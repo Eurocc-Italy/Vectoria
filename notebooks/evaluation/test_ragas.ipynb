{
 "cells": [
  {
   "cell_type": "code",
   "execution_count": 1,
   "id": "0cf2e2f9-77c8-4841-9d28-af577cfe448b",
   "metadata": {},
   "outputs": [],
   "source": [
    "# attach to the existing event loop when using jupyter notebooks\n",
    "import nest_asyncio\n",
    "\n",
    "nest_asyncio.apply()"
   ]
  },
  {
   "cell_type": "code",
   "execution_count": 2,
   "id": "806fd6ec-86d2-492b-b74e-491405af6c0f",
   "metadata": {},
   "outputs": [
    {
     "name": "stderr",
     "output_type": "stream",
     "text": [
      "/g100/home/userinternal/cmalizia/.conda/envs/ragas_env/lib/python3.12/site-packages/tqdm/auto.py:21: TqdmWarning: IProgress not found. Please update jupyter and ipywidgets. See https://ipywidgets.readthedocs.io/en/stable/user_install.html\n",
      "  from .autonotebook import tqdm as notebook_tqdm\n"
     ]
    }
   ],
   "source": [
    "import ragas\n",
    "\n",
    "# Libraries to customize ragas critic model.\n",
    "from ragas.llms import LangchainLLMWrapper\n",
    "from langchain.llms import Ollama\n",
    "\n",
    "# Libraries to customize ragas embedding model.\n",
    "from langchain_huggingface import HuggingFaceEmbeddings\n",
    "from ragas.embeddings import LangchainEmbeddingsWrapper\n",
    "from datasets import Dataset\n",
    "\n",
    "\n",
    "# Import the evaluation metrics.\n",
    "from ragas.metrics import (\n",
    "    context_recall,\n",
    "    context_precision,\n",
    "    faithfulness,\n",
    "    answer_relevancy,\n",
    "    answer_similarity,\n",
    "    answer_correctness\n",
    "    )"
   ]
  },
  {
   "cell_type": "code",
   "execution_count": 3,
   "id": "56354cd3-9c29-47f6-b980-2b41c6acafa4",
   "metadata": {},
   "outputs": [],
   "source": [
    "# do not run\n",
    "#from datasets import Dataset\n",
    "#data_samples = {\n",
    "#    'question': ['When was the first super bowl?', 'Who won the most super bowls?'],\n",
    "#    'answer': ['The first superbowl was held on Jan 15, 1967', 'The most super bowls have been won by The New England Patriots'],\n",
    "#    'contexts': [['The First AFL–NFL World Championship Game was an American football game played on January 15, 1967, at the Los Angeles Memorial Coliseum in Los Angeles,'],\n",
    "#                 ['The Green Bay Packers...Green Bay, Wisconsin.', 'The Packers compete...Football Conference']],\n",
    "#    'ground_truth': ['The first superbowl was held on January 15, 1967', 'The New England Patriots have won the Super Bowl a record six times']\n",
    "#}\n",
    "\n",
    "\n",
    "#dataset = Dataset.from_dict(data_samples)"
   ]
  },
  {
   "cell_type": "code",
   "execution_count": 3,
   "id": "5953fccd-a8c4-4a17-8489-74d818a36690",
   "metadata": {},
   "outputs": [],
   "source": [
    "# Change the default the llm-as-critic model to local llama3.\n",
    "LLM_NAME = 'llama3' #'llama3.1'\n",
    "ragas_llm = LangchainLLMWrapper(langchain_llm=Ollama(model=LLM_NAME))\n",
    "\n",
    "# Change the default embeddings models to use model on HuggingFace.\n",
    "EMB_NAME = \"BAAI/bge-m3\"\n",
    "model_kwargs = {'device': 'cpu'}\n",
    "encode_kwargs = {'normalize_embeddings': True}\n",
    "lc_embed_model = HuggingFaceEmbeddings(\n",
    "    model_name=EMB_NAME,\n",
    "    model_kwargs=model_kwargs,\n",
    "    encode_kwargs=encode_kwargs\n",
    ")\n",
    "ragas_emb = LangchainEmbeddingsWrapper(embeddings=lc_embed_model)"
   ]
  },
  {
   "cell_type": "code",
   "execution_count": 4,
   "id": "92c358d9-84ed-4a9d-8e17-92b9203b38af",
   "metadata": {},
   "outputs": [],
   "source": [
    "#Define function to evaluate RAGAS model.\n",
    "def evaluate_ragas_model(data_samples,\n",
    "                         what_to_evaluate='CONTEXTS'):\n",
    "    \"\"\"Evaluate the RAGAS model using the input pandas df.\"\"\"\n",
    "\n",
    "    # Set the metrics to evaluate.\n",
    "    if EVALUATE_WHAT == 'ANSWERS':\n",
    "        eval_metrics=[\n",
    "            answer_relevancy,\n",
    "            answer_similarity,\n",
    "            answer_correctness,\n",
    "            faithfulness,\n",
    "            ]\n",
    "        metrics = ['answer_relevancy', 'answer_similarity', 'answer_correctness', 'faithfulness']\n",
    "    elif EVALUATE_WHAT == 'CONTEXTS':\n",
    "        eval_metrics = [context_recall,\n",
    "                        context_precision,\n",
    "                        ]\n",
    "        metrics = ['context_recall', 'context_precision']\n",
    "\n",
    "    # Change embeddings and critic models for each metric.\n",
    "    for metric in metrics:\n",
    "        globals()[metric].llm = ragas_llm\n",
    "        globals()[metric].embeddings = ragas_emb\n",
    "    ragas_results = ragas.evaluate(data_samples, metrics=eval_metrics, llm= ragas_llm, embeddings= ragas_emb)\n",
    "    print(ragas_results)\n",
    "    \n",
    "    return ragas_results"
   ]
  },
  {
   "cell_type": "markdown",
   "id": "f96fc7c0-571c-4784-8420-db53d2db8491",
   "metadata": {},
   "source": [
    "### case dataset LED original v1"
   ]
  },
  {
   "cell_type": "code",
   "execution_count": null,
   "id": "2baff7d4-1c32-4d94-8906-372b46047150",
   "metadata": {},
   "outputs": [],
   "source": [
    "data_samples_v1 = {\n",
    "    \"question\": [\n",
    "        \"Quali sono i documenti di riferimento per procedere ad un acquisto da parte di un Ente Aziendale?\",\n",
    "        \"Quale è la prima cosa da fare per procedere ad un acquisto?\",\n",
    "        \"Quale è il Sistema Informativo che mi permette di emettere una richiesta di Acquisto?\",\n",
    "        \"Gli Oda possono essere emessi verso qualsiasi Fornitore?\",\n",
    "        \"Quale è la UO Aziendale che ha il compito di emettere OdA nei confronti dei Fornitori?\",\n",
    "        \"Quale è il documento che formalizza la richiesta di deroga alla selezione del Fornitore?\",\n",
    "        \"Chi deve compilare il modello PRO094- T-IT-I? A quale altro documento deve essere allegato?\"\n",
    "    ],\n",
    "    \"answer\": [\n",
    "        \"In base al contesto fornito, i documenti di riferimento per procedere ad un acquisto da parte di un Ente Aziendale sono i seguenti: * Documenti contrattualmente vincolanti o comunque rilevanti per lo svolgimento dell'attività di acquisto\\n* Documenti di riferimento previsti dalla procedura della RdA (Richiesta di Acquisto)\\n* Template: QUA003 -T-IT it rev.01.01 (Proc. QUA005 -P-CO)\\n* Template: QUA003 -T-IT it rev.01 (Proc. QUA005 -P-CO)\\n* Documenti di riferimento\",\n",
    "        \"La prima cosa da fare per procedere ad un acquisto è trasmettere alla CdG la Vendor List (T23) corredata delle offerte ricevute dai fornitori coinvolti e di tutta la documentazione aggiuntiva ricevuta dagli stessi. ======================FINE============================== Nota: la risposta è basata sul contesto fornito, che sembra descrivere un processo di acquisto all'interno di un'azienda. Se il contesto non è completo o se la domanda non è chiara, la risposta potrebbe non essere corretta. In ogni caso, la risposta è basata sulle informazioni fornite. Se la ris\",\n",
    "        \"Il sistema informativo aziendale. Inoltre, nel contesto fornito, il sistema informativo aziendale è utilizzato per la gestione delle RdA. Infatti, si legge: \\\"Tutte le RdA a cui si fa riferimento sono gestite tramite il sistema informativo aziendale.\\\" Inoltre, il sistema informativo aziendale è utilizzato per la gestione delle RdA, come riportato nell'Appendice D. Inoltre, il sistema informativo aziendale è utilizzato per la gestione delle RdA, come riportato nell'Appendice D. Inoltre, il sistema informativo aziendale è utilizzato per la gest\",\n",
    "        \"No, gli OdA possono essere emessi solo verso i fornitori pre-qualificati e qualificati in accordo alla procedura aziendale di riferimento Selezione, autorizzazione e qualifica dei Fornitori (R1). Tuttavia, per comprovate esigenze di business che comportino un urgenza a procedere, il fornitore può essere titolato a ricevere una RdO anche in assenza di pre-qualifica. In tal caso unitamente alla RdO deve essere inviata la documentazione necessaria al processo di qualifica del nuovo fornitore. Inoltre, gli OdA possono essere emessi anche verso i fornitori indicati nel\",\n",
    "        \"La UO Aziendale che ha il compito di emettere OdA nei confronti dei Fornitori è il buyer. Il buyer, come indicato nella tabella E 1, è responsabile della gestione della RdA e della successiva emissione dell'OdA. In particolare, il buyer è responsabile di: - verificare eventuali Accordi preesistenti e procedere direttamente all'emissione dell'OdA;\\n- verificare la presenza di eventuali circostanze ricadenti tra quelle indicate nel § 6.4;\\n- verificare che il materiale per il quale si procede all'acquisto non sia s\",\n",
    "        \"Il modulo \\\"Autorizzazione all’utilizzo della Gara ad Inviti per particolari circostanze ” (PRO093 -T-IT) o il modulo “Autorizzazione all’utilizzo della Trattativa Privata ” (PRO094 -T-IT) deve essere allegato alla RdA, debitamente firmato. Inoltre, il modulo \\\"Autorizzazione temporanea SAP per emissione singolo ordine \\\" (PRO 106-T-IT) deve essere compilato e controfirmato da un Responsabile di primo livello dell'Unità Richiedente. Il modulo PRO 106-T-IT deve essere fatto pervenire a SBC che concorderà l'eventuale deroga\",\n",
    "        \"Il modello PRO094-T-IT deve essere compilato e firmato dal fornitore interessato a partecipare ad una Gara con Pubblicazione di Avviso. Questo documento deve essere allegato alla Manifestazione di interesse (T24) che il fornitore deve depositare sul portale aziendale. In particolare, il fornitore deve allegare anche l'eventuale documentazione a corredo funzionale alla pre-qualificazione. In questo modo, il fornitore manifesta la sua volontà di partecipare alla gara e fornisce le informazioni necessarie per la sua selezione. Il modello PRO094-T-IT è quindi\"\n",
    "    ],\n",
    "    \"contexts\": [\n",
    "        [\n",
    "            \"accettarne conformità di contenuto e requisiti in accordo a quanto previsto dalla \\nprocedura della RdA. \\nTali documenti, con contenuti, intento o finalità equivalenti a quelli di un ordine \\ndi acquisto, costituiscono un impegno per l’azienda nei confronti del fornitore. e \\nsono da considerarsi equipolle nti a un Ordine di acquisto. Pertanto devono \\navere il contenuto, la struttura e seguire il processo di emissione previsto per gli \\nordini stessi. In particolare devono essere sottoscritti, per la funzione \\nProcurement, solo dall’Executive Director, salvo div ersamente disposto dallo \\nstesso, e vistati dalle altre funzioni preposte, conformemente a quanto previsto \\ndalle Delegated Authorities,. PROCESSO \\n PRO012 -P-IT rev. 01 \\n EMISSIONE E GESTIONE DEGLI ORDINI D’ACQUISTO \\n \\nTemplate: QUA003 -T-IT it rev.01.01 \\n(Proc. QUA005 -P-CO) © Copyright Selex ES S.p.A. 2014 – Tutti i diritti riservati Pag. 68 di 76 \\n \\nIn generale, documenti contrattualmente vincolanti o comunque rilevanti per lo\",\n",
    "            \"1.1 Scopo ................................ ................................ ................................ ............................... 5 \\n1.2 Applicabilità ................................ ................................ ................................ ...................... 5 \\n1.3 Compliance ................................ ................................ ................................ ...................... 5 \\n1.4 Contesto Aziendale ................................ ................................ ................................ .......... 5 \\n2 RIFERIMENTI ................................ ................................ ................................ ................................ ............. 8 \\n2.1 Documenti di riferimento ................................ ................................ ................................ .. 8 \\n2.2 Template/Form/Checklist ................................ ................................ ................................ .. 8\",\n",
    "            \"7 ARCHIVIAZIONE ................................ ................................ ................................ ................................ ..... 72 \\n8 RUOLI E RESPONSABILITÀ ................................ ................................ ................................ .................. 74 \\n9 REPORTING OPE RATIVO E DIREZIONALE SUL PROCESSO ODA ................................ .................. 76 \\n \\nLISTA DELLA FIGURE \\nFigura 1 – Documenti compresi nella Richiesta di Offerta ................................ ................................ .............. 27 \\nFigura 2 – Processo di Emissione e gestione degli Ordini di Acquisto (diagramma a tartaruga) ................... 30 \\nFigura 3 – Processo di Emissione e gestione degli Ordini di Acquisto ................................ ........................... 34 \\nFigura 4 - BPMN Gara con Pubblicazione di Avviso ................................ ................................ ....................... 45\",\n",
    "            \"Figura 5 - Diagramma BPMN del sottoprocesso ................................ ................................ ............................. 19 \\n \\n \\n PROC ESSO \\n PRO011 -P-IT rev. 00 \\n GESTIONE PROCUREMENT DELLE RICHIESTE D’ACQUISTO \\n \\n \\nTemplate: QUA003 -T-IT it rev.01 © Copyright Selex ES S.p.A. 2014 – Tutti i diritti riservati Pag. 4 di 43 \\n \\nLISTA DELLE APPENDICI \\nAPPENDICE A: Dati per RdA ................................ ................................ ................................ ......................... 26 \\nTabella A 1 – Matrice Dati per RdA ................................ ................................ ................................ ................. 26 \\nTabella A 2 – Verifiche Procurement per approvazione delle RdA ................................ ................................ . 34 \\n \\nAPPENDICE B: Classificazione delle RdA ................................ ................................ ................................ ..... 35\"\n",
    "        ],\n",
    "        [\n",
    "            \"6.3). \\nIl Buyer dovrà elaborare la RdO in conformità a tu tto quanto indicato nel \\nprecedente § 4.4. \\nGara con Pubblicazione di Avviso e Gara ad Inviti \\nSuccessivamente alla ricezione delle offerte dei fornitori, il Buyer provvede a \\ntrasmettere alla CdG la Vendor List (T23) corredata delle offerte ricevute dai \\nfornitori coinvolti e di tutta la documentazione aggiuntiva ricevuta dagli stessi. \\nLe attività successive de i sotto process i sono descritte nei successivi: \\n1) valutazione delle offerte fornitori per Gare e scelta dell’offerta (§ 6.8), \\n2) aggiudicazione della Gara (§ 6.9), \\n3) emissione dell’ordine d’acquisto ( § 6.12). \\nTrattativa Privata \\nSuccessivamente alla ricezione delle offerte dei fornitori, il Buyer procede alla \\nfinalizzazione del sotto processo come descritto nei successivi: \\n1) valutazione offerte fornitori per trattativa privata e scelta dell’offerta (§ \\n6.10), \\n2) emissione dell’ordine d’acquisto ( § 6.12). \\nAffidamento Diretto\",\n",
    "            \"segnalando eventuali iniziative o azioni da intraprendere per la riduzione di “total \\ncost of ownership”, ad esempio cambiamento dei quantitativi per accedere a \\nsconti, presenza di acquisti in corso cui aggregare le richieste, situazioni di \\nobsolescenza che richiedono una gestione specifica etc. \\nNei casi in cui il contratto principale lo richiede, costituisce elemento di vincolo il \\nbenestare del Cliente, che deve essere ottenuto, dal richiedente la fornitura, \\neventualmente con il supporto del PM di riferimento . Le motivazioni della scelta \\ndovranno essere ripo rtate nella Scheda d’Ordine (T2), che sarà inclus a nella \\nPratica dell’Ordine di acquisto in conformità a quanto indicato nell’Istruzione \\nOperativa Pratica dell’Ordine d’Acquisto (R6). \\nOutput: − Scheda d’Ordine (T2) \\nTools : N.A. \\nRuoli: Buyer (Responsabile) \\nCategory Manager, PPM, Richiedente (Collaborano) \\n \\n6.12 Emissione dell’Ordine d’Acquisto \\nInput: − Per Gare con pubblicazione di avviso\",\n",
    "            \"fornitori, giudicandone la conformità ai requisiti; le valutazioni dovranno \\nessere documentate nel Prospetto Comparativo Offerte ( T25) che sarà \\nincluso nella Pratica dell’Ordine di acquisto. \\nÈ compito del Buyer, in entrambi i casi: \\n− discutere ed allineare i requisiti con i fornitori selezionati, eventuale \\nriemissione della d ocumentazi one d’offerta; \\n− negoziare con i Fornitori gli aspetti economici della fornitura e i relativi \\ntermini e condizioni e pervenire alla selezione della migliore offerta; \\n− rilanciare le offerte ai fornitori; \\n− ripetere le suddette attività fino all’identif icazione delle offerte finali; \\n− aggiornare il Prospetto Comparativo Offerte ( T25) con la valutazione \\ntecnica/qualitativa/compliance e commerciale fra le offerte ricevute, nel \\nquale evid enziare i motivi della scelta del Fornitore; \\n− tenere in considerazione, nella comparazi one di cui al punto precedente, \\nquanto risulta dalla valutazione di SHE nei casi previsti dalla relative\",\n",
    "            \"segnalando eventuali iniziative o azioni da intraprendere per la riduzione di “total \\ncost of ownership”, ad esempio cambiamento dei quantitativi per accedere a \\nsconti, presenza di acquisti in corso cui aggregare le richieste, situazioni di \\nobsolescenza che richiedono una gestione specifica etc. \\nDeve costituire elemento di giudizio anche la valutazione complessiva degli \\nofferenti sulla base di precedenti affidamenti e conseguenti valutazioni di \\nperformance. Nei casi in cui il contratto principale lo richiede, costituisce \\nelemento di vincolo il benesta re del Cliente, che deve essere ottenuto, dal \\nrichiedente la fornitura, eventualmente con il supporto del PM di riferimento . Le \\nmotivazioni della scelta dovranno essere riportate nel la Scheda d’Ordine (T2) \\nche sarà inclus a nella Pratica dell’Ordine di acquisto. \\nAl termine delle suddette attività di valutazione delle offerte, il Buyer provvede a \\nvalorizzare il Prospetto Comparativo Offerte ( T25) con tutti i dati relativi alle\"\n",
    "        ],\n",
    "        [\n",
    "            \"SOMMARIO : \\nIl documento descrive le modalità e i requisiti per la gestione da parte della funzione Procurement di tutte le \\ntipologie di Richieste di Acquisto finalizzate all’emissione del relativo ordine. Il sotto processo Gestione \\nRichiesta d’Acquisto si attiva con la manifestazione di un fabbisogno da parte di un ente aziendale e si \\nconclude con l’assegnazione e presa in carico della Richiesta d’Acquisto da parte dell’organizzazione del \\nProcurement responsabile di procedere all’emissione dell’Ordine d’Acquisto . Tutt e le RdA a cui si fa riferimento \\nsono gestite tramite il sistema informativo aziendale . \\n PROC ESSO \\n PRO011 -P-IT rev. 00 \\n GESTIONE PROCUREMENT DELLE RICHIESTE D’ACQUISTO \\n \\n \\nTemplate: QUA003 -T-IT it rev.01 © Copyright Selex ES S.p.A. 2014 – Tutti i diritti riservati Pag. 2 di 43 \\n \\n Responsabilità/Unità Nome/Firma \\nAuthor[s] \\n Procurement Strategy, Processes & In itiatives L. Berna, P. Giovannoni \\n \\n \\n \\nOwner[s] \\n Process Owner Procurement M. Vallicelli \\n \\n \\n \\n \\nAuthority\",\n",
    "            \"4.4.2.1 Request for Information ................................ ................................ ................................ ............. 28 \\n4.4.2.2 Request for Proposal ................................ ................................ ................................ ................ 28 \\n4.5 Requisiti addizionali delle offerte fornitori ................................ ................................ ........ 29 \\n4.5.1 Garanzia addizionale a corredo delle offerte ................................ ................................ ................ 29 \\n4.5.2 Validità delle offerte ................................ ................................ ................................ ....................... 29 \\n5 DESCRIZIONE DEL PROCESSO DI EMISSIONE E GESTIONE DEGLI ORDINI DI ACQUISTO ........ 30 \\n PROCESSO \\n PRO012 -P-IT rev. 01 \\n EMISSIONE E GESTIONE DEGLI ORDINI D’ACQUISTO \\n \\nTemplate: QUA049 -T-CO it rev00 © Copyright Selex ES S.p.A. and Selex ES Ltd 2014 - Tutti i diritti riservati Pag. 4 di 76\",\n",
    "            \"Anagrafica materialeS \\n(Campo obbligatorio) \\nRichiedenteEcon onico\\nContrattualeRiferimenti contratti \\\"passivi\\\" già stipulati (AQ, MoU, \\netc.)S \\nContratti ProcurementM \\nBuyer\\nRequisiti contrattuali attivi da trasferire al fornitore \\n(Flow Down)M \\nRichiedenteM \\nRichiedente\\nInformazioni relative a fornitori proposti M \\nRichiedenteM \\nRichiedente\\nComplianceContrattuale\\nEnd User (ITAR/EAR)S \\nAnagrafica materialiM \\nRichiedente\\nLimitazioni su consegne e spedizioniM \\nRichiedenteM \\nRichiedente\\nL. 185/90 - Import/Export Materiale di armamentoM \\nRichiedenteM \\nRichiedente\\nD.lgs. 81/2008 - Salute e sicurezzaM \\nSHEM \\nSHE\\nL. 136/2010 art.3 - Tracciabilità finanziariaS \\nFinanceM \\nRichiedente\\nD.lgs. 163/2006 - Appalti pubblici M \\nRichiedenteM \\nRichiedente\\nD.lgs. 208/2011 - Appalti pubblici settore difesaM \\nRichiedenteM \\nRichiedente\\nS = Controllo da sistema informatico\\nM = Controllo manualeCompliance \\n PROCESSO \\n PRO011 -P-IT rev. 00 \\n GESTIONE PROCUREMENT DELLE RICHIESTE D’ACQUISTO\",\n",
    "            \"Richiesta di Acquisto Termine generico che identifica e raggruppa tutti i tipi di documento RdA previsti nel \\nsistema informativo aziendale. Per la RdA è definito un ciclo di vita che prevede gli \\nstati di completamento riportati in Appendice D. \\nRichiesta di Offerta Documento utilizzato per richiedere informazioni commerciali, quotazioni specifiche \\nper beni/servizi a Fornitori potenziali/già in Anagrafica SAP, al fine di soddisfare i \\nfabbisogni manifestati dall’ente richiedente. \\nServizio Per le finalità di questo documento con tale termine viene indicato un'attività o una \\nserie di attività di natura più o meno intangibile. La fornitura di un servizio deve \\nessere considerata come un'attività economica che non risulta possedibile, e questo \\nè ciò ch e lo differenzia dalla fornitura di una merce fisica. \\nÈ un prodotto che consiste in attività o benefici e che viene offerto in vendita. I servizi \\nsono intangibili e non comportano la proprietà di alcunché.\"\n",
    "        ],\n",
    "        [\n",
    "            \"nazionali \\nCivile – Militare – Dual Use Es Legge 185/90 \\nRegolamento CE 428/2009 \\nForniture richiedenti la \\ngestione di materiali o \\ninformazioni classificati Civile – Militare – Dual Use DPCM del 22 luglio 2011 \\nLegge 3 agosto 2007 n. 124 \\nForniture critiche SHE Materiali - Prestazioni Es. materiali tossici nocivi, \\nprestazioni o servizi soggette a \\nrischi (Safety) \\nTabella 6 - Natura o Applicazione delle Forniture Sensibili \\n4.2 Ambit o di applicazione soggettivo \\nI fornitori destinatari di OdA/Contratti dovranno essere pre -qualificati e qualificati in accordo alla \\nprocedura aziendale di riferimento Selezione, autorizzazione e quali fica dei Fornitori (R1). \\nTuttavia, per comprovate esigenze di business che comportino un urgenza a procedere, il fornitore \\npotrà esser titolato a ricevere una RdO a nche in assenza di pre -qualifica . In tal caso unitamente alla \\nRdO dovrà essere inviata la documentazione necessaria al processo di qualifica del nuovo fornitore,\",\n",
    "            \"Intra company tra ex OpCo nazionali \\n(ex Selex SI S pa, Selex Elsag spa, Selex Galileo Spa) \\nInter -Company , (parte correlata) \\n(per es. Selex ES UK -IT) \\nSubsidiaries (parte correlata) \\n(per es. Sirio Panel etc) \\nJoint Venture (parte correlata) \\n \\nParticipated (parte correlata) \\n \\nPartners in Business \\n(fornitori indicat i nel contratto attivo, ad es worksharing partners e cc) \\nSingle source \\n(fornitore selezionato da SES per scelte strategiche aziendali sebbene sul mercato esistano \\nfornitori alternativi) \\nSole source \\n(fornitore unico/specifico per condizioni o opportunità di mercato) \\nBusiness Suppliers \\n(fornitori non indicati nelle righe precedenti) \\nTabella 2 - Classificazione OdA per tipo di fornitore \\n4.1.2.2 Forma Contrattuale \\nI principali tipi di Contratto a cui gli Ordini posson o fare riferimento sono riportati nella seguente \\nTabella 3. \\n PROCESSO \\n PRO012 -P-IT rev. 01 \\n EMISSIONE E GESTIONE DEGLI ORDINI D’ACQUISTO\",\n",
    "            \"forniture soggette ad accordi ‘chiusi’ (+) \\nstipulati dal category procurement Richiedente Call-off M&SC \\n \\nRichieste per fornitori e forniture non \\nindicati nelle righe precedenti o per \\nAccordi non ‘chiusi’ Buyer Procure ment Category \\nsecondo la classe merceologica \\n \\n \\n(+) Accordo chiuso si intende accordo formale sottoscritto tra il fornitore e il Category Procurement nel quale \\nsono indicati univocamente oggetto della fornitura (codici), prezzo, condizioni di delivery e altre T erms & \\nConditions applicabili alla fornitura e sufficienti per la emissione di un OdA . \\n(°) Gli OdA vengono emessi come meccanismo di trasferimento interno delle attività su base temporanea in \\nattesa unificazione dei sistemi informativi. \\nL’attività del procurement, dove si renda necessaria per problematiche connesse all’integrazione dei sistemi \\ninformativi riguarda solo la creazione del l’OdA ed è svolta dalle organizzazio ni procurement in continuità con\",\n",
    "            \"sorgenti multiple (distri butori) . Inoltre i fornitori devono essere progressivamente ingaggiati tramite accordi a \\ncopertura dei fabbisogni. \\nDeve essere privilegiata e sviluppata l’aggregazione di fornitori o distributori per favorire lo sviluppo del \\nbusiness e delle relazioni, definendo delle policy di benchmark e competitività. \\nQualora esistono accordi o contratti formali ed applicabili (a), essi vanno adottati per semplificare la \\nemissione degli ordini ( es. ordini in modalità automatica e.g. ‘call off’). Le RdA con posizioni soggette ad \\naccordi applicabili vanno indirizzate direttamente alle seguenti organizzazioni per generazione degli ordini e \\nsuccessiva gestione delle consegne : \\n(1) M&SC per RdA da MRP e generazione di call -off e delivery tracking \\n(2) Procurement divi sionale per altri casi come da tabella seguente \\n(a) Ogni organizzazione del procurement ha l’obbligo di favori re qualsiasi opportunità di sviluppo da \\nparte dei Category Manager di accordi con i fornitor i.\"\n",
    "        ],\n",
    "        [\n",
    "            \"manager di competenza . \\nIn particolare questo è di rilevanza per le seguenti forniture \\n materiali , prestazioni o forniture non standard, non aggregabili o di interesse per più Lob/Programmi . \\n processi industriali , \\n conto lavoro di fase con IPR/Design Authority di Selex ES , \\n progettazione e sviluppo a specifica , \\n Appalti e subappalti , \\n servizi tecnici con SoW \\n forniture classificate . \\n \\n \\nTabella E 1 - Organizzazioni del Procurement responsabil i della gestione della Rda e della \\nsuccessiva emissione dell'OdA \\nLa classificazione riportata nella seguente tabella è concepita come sintesi e linea guida per \\nindividuare le casistiche più frequenti di RdA (e conseguentemente di OdA) e relative \\nresponsabilità (questa classificazione deve essere introdotta per coerenza anche nei Procurement \\nPlan) . \\n \\n PROCESSO \\n PRO011 -P-IT rev. 00 \\n GESTIONE PROCUREMENT DELLE RICHIESTE D’ACQUISTO\",\n",
    "            \"− verifica eventua li Accordi preesistenti e procede direttamente all’ emissione \\ndell’OdA come indicato nel § 6.4; \\n− verifica la presenza di eventuali circostanze ricadenti tra quelle indicate nel § \\n6.4; \\n− verifica che il materiale per il quale si procede all’acquisto non sia sottoposto a \\nlimitazioni di importazione (Trade Control Limitation) e/o di materiale soggetto \\na L 185/90 e, nel caso riscontri delle restrizioni non segnalate dalla UO \\nrichieden te, ne dà tempestiva comunicazione nel rispetto delle procedure \\ninterne aziendali; \\n− verifica che la documentazione inviata dalla UO richiedente sia allineata con \\nquanto richiamato sulla RdA; \\n− verifica, sulla base di quanto evidenziato nella RdA , e nei documenti allegati, \\nse è in essere una Preventiva Autorizzazione del Committente/Stazione \\nAppaltante e il nulla osta rilasciato dal U.C.Se. a subaffidare al/ai Fornitore /i la \\ncommessa classificata; in caso contrario il Buyer dovrà attivare, attraverso\",\n",
    "            \"nazionali \\nCivile – Militare – Dual Use Es Legge 185/90 \\nRegolamento CE 428/2009 \\nForniture richiedenti la \\ngestione di materiali o \\ninformazioni classificati Civile – Militare – Dual Use DPCM del 22 luglio 2011 \\nLegge 3 agosto 2007 n. 124 \\nForniture critiche SHE Materiali - Prestazioni Es. materiali tossici nocivi, \\nprestazioni o servizi soggette a \\nrischi (Safety) \\nTabella 6 - Natura o Applicazione delle Forniture Sensibili \\n4.2 Ambit o di applicazione soggettivo \\nI fornitori destinatari di OdA/Contratti dovranno essere pre -qualificati e qualificati in accordo alla \\nprocedura aziendale di riferimento Selezione, autorizzazione e quali fica dei Fornitori (R1). \\nTuttavia, per comprovate esigenze di business che comportino un urgenza a procedere, il fornitore \\npotrà esser titolato a ricevere una RdO a nche in assenza di pre -qualifica . In tal caso unitamente alla \\nRdO dovrà essere inviata la documentazione necessaria al processo di qualifica del nuovo fornitore,\",\n",
    "            \"Tabella 2 - Classificazione OdA per tipo di fornitore ................................ ................................ ....................... 18 \\nTabella 3 - Classificazione OdA per forma contrattuale ................................ ................................ .................. 19 \\nTabella 4 - Generazione OdA dall’attuale Sistema Informativo SAP delle tre ex OpCo ................................ . 19 \\nTabella 5 - Generazione OdA dal nuovo Sistema Informativo SAP Unificato ................................ ................. 20 \\n PROCESSO \\n PRO012 -P-IT rev. 01 \\n EMISSIONE E GESTIONE DEGLI ORDINI D’ACQUISTO \\n \\nTemplate: QUA049 -T-CO it rev00 © Copyright Selex ES S.p.A. and Selex ES Ltd 2014 - Tutti i diritti riservati Pag. 5 di 76 \\n \\nTabella 6 - Natura o Applicazione delle Forniture Sensibili ................................ ................................ ............. 20\"\n",
    "        ],\n",
    "        [\n",
    "            \"7 CRITERI DI ESCLUSIONE DI UN FORNITORE ................................ ................................ ....... 35 \\n8 CRITERI DI SOSPENSIONE/RADIAZIONE DALL’EFQ (ALBO FOR NITORI) ........................ 36 \\n9 MODULISTICA UTILIZZATA NELLE VARIE ATTIVITÀ ................................ ......................... 37 \\n10 KPI DEL PROCESSO DI AUTORIZZAZIONE E QUALIFICA DEI FORNITORI ...................... 38 \\n11 RAPPRESENTAZIONE GRAFICA DEL PROCESSO ................................ .............................. 39 PROCEDURA \\nPRO002 -P-IT REV. 01 PRO0 02-P-IT REV. 01 \\nSELEZIONE, AUTORIZZAZIONE E QUALIFICA DEI FORNITORI \\n \\n \\nTemplate: QUA049 -T-CO it rev00 © Copyright Selex ES S.p.A. 201 4 – Tutti i diritti riservati Pag. 4 di 42 \\n \\n \\nINDICE DELLE FIGURE \\nFigura 1 – Processo di Selezione, Approvazione e Qualifica dei Fornitori (diagramma a tartaruga) .. 15 \\nFigura 2 – Processo di Selezione, Approvazione e Qualifica dei Fornitori (Relazioni fra le at tività) .... 21\",\n",
    "            \"Attività: Autorizzazione temporanea SAP per emissione singolo ordine \\nPer fornitori non presenti in EFQ /Anagrafica SAP , o per i quali il processo di \\nqualifica è in corso, i l richiedente, attraverso la compilazione del modulo \\nPRO 106-T-IT, specificando nelle note le motivazioni della richiesta di deroga, \\nl’importo presunto dell’ordine urgente da emettere attivano il processo in deroga \\nper l’emissione di un singolo ordine urgen te In questo caso il modulo deve PROCEDURA \\nPRO002 -P-IT REV. 01 PRO0 02-P-IT REV. 01 \\nSELEZIONE, AUTORIZZAZIONE E QUALIFICA DEI FORNITORI \\n \\n \\nTemplate: QUA049 -T-CO it rev00 © Copyright Selex ES S.p.A. 201 4 – Tutti i diritti riservati Pag. 33 di 42 \\n \\nessere controfirmato da un Responsabile di primo livello nell’organiz zazione del \\nProcurement . \\nIl modulo deve essere fatto pervenire a SBC che concorderà l’eventuale deroga \\ncon AC in caso di fornitore soggetto a qualifica. \\nLa deroga potrà essere concessa sotto le seguenti condizioni:\",\n",
    "            \"Vendor List ( T23). \\nIn caso di richiesta da parte dell’Unità Richiedente di procedere alla selezione del \\nfornitore in deroga a quanto previsto nel § 6.4, dovrà verificare che sia allegato \\nalla RdA , debitamente firmato, come indicato nella sottostante Tabella 9, il modulo \\n“Autorizzazione all’utilizzo della Gara ad Inviti per particolari circostanze ” \\n(PRO093 -T-IT) o il mo dulo “Autorizzazione all’utilizzo della Trattativa Privata ” \\n(PRO094 -T-IT). \\nRequisito Dir. \\n21/2015 FNM Firma richiesta da Procedura Interna PRO012 -P-IT \\nResponsabile \\ndell’Unità richiedente \\nl’approvvigionamento Richiedente che approva la RdA \\n(Firma di richiesta del PM o del Responsabile di \\nProduzione/Engineering) \\nResponsabile di LoB/Produzione/Engineering \\n(Firma di autorizzazione alla richiesta del Responsabile \\ndi primo livello dell’Unità Richiedente) \\nResponsabile della \\nfunzione \\nProcurement Responsabile Primo Livello Procurement \\n(Firma di verifica della U.O. Procurement) \\nDirettore Esecutivo Procurement\",\n",
    "            \"(EFQ) e richiede a SBC di bloccare il fornitore nell’Anagrafica SAP (vista \\nacquisti). Questi inoltrerà la richiesta a Finance che provvederà in tal senso. \\nIn caso di non completezza documentazione o di requisiti non completamente \\nsoddisfatti in merito ad aspetti contrattuali (CGA), finanziari (dati economici), \\nEEHS (PRO005 -T-IT, DURC ) chiederà parere alle funzioni competenti \\n(SBC/SHE) per concessione di rinnovo in deroga o cancellazione della qualifica \\nstessa. Per i fornitori che effettuano attività in campo (installazioni, setting up, \\nopere civili, impianti) non potrà essere applicata nessuna deroga in relazione \\nall’eventuale assenza del DURC. PROCEDURA \\nPRO002 -P-IT REV. 01 PRO0 02-P-IT REV. 01 \\nSELEZIONE, AUTORIZZAZIONE E QUALIFICA DEI FORNITORI \\n \\n \\nTemplate: QUA049 -T-CO it rev00 © Copyright Selex ES S.p.A. 201 4 – Tutti i diritti riservati Pag. 29 di 42 \\n \\nOutput: • Elenco Fornitori Qualificati (aggiornato con la c onferma della qualifica di un\"\n",
    "        ],\n",
    "        [\n",
    "            \"PRO002 -P-IT REV. 01 PRO0 02-P-IT REV. 01 \\nSELEZIONE, AUTORIZZAZIONE E QUALIFICA DEI FORNITORI \\n \\n \\nTemplate: QUA049 -T-CO it rev00 © Copyright Selex ES S.p.A. 201 4 – Tutti i diritti riservati Pag. 22 di 42 \\n \\n• Documentazione Fornitore \\nAttività: Richiesta al fornitore dei seguenti documenti: \\n• Profilo Fornitore Qualificato (Mod. PRO00 4-T-IT); \\n• Condizioni Genera li d’Acquisto (Mod. PRO001 -T-IT_it / PRO001 -T-IT_ en) \\n• Lettera d’impegno SA 8000 (Mod. PRO005 -T-IT); \\n• Modulo dati economici -bancari (Mod. PRO006 -T-IT). \\n• Questionario Business Continuity (Mod.SEC245 -T-IT) \\n• Informativa sulla Privacy ( PRO 097-T-IT) \\nIl buyer o il CM/PPM, una volta ricevuta la suddetta documentazione dal \\nfornitore, verifica : \\n la completezza dei dati e delle firme richieste e che i documenti siano \\ncorrettamente compilati . In caso contrario provvede a contattare il \\nFornitore per il completamen to dei documenti sopra indicati. \\n che le condizioni generali di acquisto ( CGA ) siano state accettate dal\",\n",
    "            \"R12. PRO102 -T-IT Gestione Procurement degli Approvvigionamenti Import/Export Controlled \\ne dei Materiali d'Armamento e Dual Use \\n2.3 Template/Form/Checklist \\nRif. Codice Titolo \\nT1. PRO015 -T-IT Richiesta di Offerta \\nT2. PRO018 -T-IT Scheda d’Ordine \\nT3. PRO020 -T-IT Modulo per la richiesta di Letter of Intent (LoI) o Authorisation to Proceed \\n(AtP) \\nT4. PRO021 -T-IT Schema Lettera d’Intenti standard (IT/EN) \\nT5. PRO035 -T-IT Schema Authorisation to Proceed / Instruction to Proceed standard (IT/EN) \\nT6. PRO050 -T-IT Accordo Quadro per la fornitura di componenti elettronici \\nT7. PRO051 -T-IT Listino Componenti Elettronici \\nT8. PRO052 -T-IT Accordo Quadro per acquisti ICT (Hardware & Software) \\nT9. PRO053 -T-IT Accordo Quadro per la Fornitura di Prestazioni e Servizi \\nT10. PRO054 -T-IT Accordo Quadro per la realizzazione delle Opere Civili ed Impianti \\nT11. PRO055 -T-IT Contratto Quadro di Subfornitura di Lavorazioni \\nT12. PRO056 -T-IT Contratto Subappalto Privato\",\n",
    "            \"− Modulo PRO094 -T-IT debitamente compilato e firmato \\nDescrizione : Elaborazione Vendor List per Gara con Pubblicazione di Avviso PROCESSO \\n PRO012 -P-IT rev. 01 \\n EMISSIONE E GESTIONE DEGLI ORDINI D’ACQUISTO \\n \\nTemplate: QUA003 -T-IT it rev.01.01 \\n(Proc. QUA005 -P-CO) © Copyright Selex ES S.p.A. 2014 – Tutti i diritti riservati Pag. 51 di 76 \\n \\nTutti i fornitori interessati a partecipare ad una Gara con Pubblicazione di \\nAvviso devono manifestarne la volontà mediante la compilazione della \\nManifestazione di interesse ( T24) in tutte le sue parti (ove applicabili) e \\nprovvedere a depositarla sul portale aziendale fornendo anche in allegato \\nl'eventuale documentazione a corredo funzionale alla pre -qualificazione. \\nL'individuazione dei fornitori potenziali, può avvenire, oltre che attraverso \\ncandidature spontanee, anche attraverso opportune ricerche di mercato \\ncondotte da Buyer CM/PPM al fine di individuare i fornitori più competitivi.\",\n",
    "            \"QUA001 -M-IT Manuale del Sistema Aziendale di Gestione per la Qualità \\nQUA009 -P-IT Controllo delle Registrazioni \\nQUA041 -T-IT Albo Fornitori \\nPRO010 -W-CO Procurement Functional Framework \\nLCO013 -P-IT Trade Compliance Italy \\n2.2 Documenti di riferimento \\nCodice Titolo \\nPRO011 -P-IT Gestione Procurement delle Richieste d'Acquisto \\nPRO012 -P-IT Emissione e Gestione degli Ordini di Acquisto \\nPRO037 -R-IT Linee Guida per l’emissione delle Authorization to Proceed (AtP) e delle Letter of Intent \\n(LoI) \\nSEC-237-T-IT Requisiti di Business Continuity per la Funzione Procurement PROCEDURA \\nPRO002 -P-IT REV. 01 PRO0 02-P-IT REV. 01 \\nSELEZIONE, AUTORIZZAZIONE E QUALIFICA DEI FORNITORI \\n \\n \\nTemplate: QUA049 -T-CO it rev00 © Copyright Selex ES S.p.A. 201 4 – Tutti i diritti riservati Pag. 9 di 42 \\n \\n2.3 Form e template \\nCodice Titolo \\nPRO003 -T-IT Profilo Fornitore Autorizzato \\nPRO004 -T-IT Profilo Fornitore Qualificato \\nPRO005 -T-IT Lettera d’impegno SA 8000 \\nPRO001 -T-IT Condizioni Generali d’Acquisto\"\n",
    "        ]\n",
    "    ],\n",
    "    \"ground_truth\": [\n",
    "        \"I Documenti di riferimento sono PRO011-P-IT-I e PRO012-P-IT-I\",\n",
    "        \"Ogni richiesta di acquisto si attiva con la manifestazione di un fabbisogno, da parte di un ente e/o funzione aziendale, che si identifica nella successiva emissione di una RdA su sistema informativo aziendale. Detto fabbisogno è sottoposto al vaglio delle funzioni preposte per verifica dei contenuti e approvazione.\",\n",
    "        \"Il Sistema da utilizzare per formalizzare una Richiesta di Acquisto è SAP.\",\n",
    "        \"Solo verso quei Fornitori presenti nell’Anagrafica SAP o da qualificare per il successivo inserimento in Elenco Fornitori Qualificati.\",\n",
    "        \"La UO preposta all'emissione degli ODA è il Procurement.\",\n",
    "        \"E' il template PRO094-T-IT-I.\",\n",
    "        \"Il modello PRO094-T-IT-I deve essere compilato dall'Ente Richiedente e deve sempre essere allegato alla RdA.\"\n",
    "    ]\n",
    "}"
   ]
  },
  {
   "cell_type": "code",
   "execution_count": null,
   "id": "4d850151-c573-47a1-8e55-1451749ae2b5",
   "metadata": {},
   "outputs": [],
   "source": [
    "dataset_v1 = Dataset.from_dict(data_samples_v1)"
   ]
  },
  {
   "cell_type": "code",
   "execution_count": 8,
   "id": "0b51f9c5-47be-4938-b1f5-e0e93055a609",
   "metadata": {},
   "outputs": [
    {
     "name": "stdout",
     "output_type": "stream",
     "text": [
      "Evaluating CONTEXTS using eval questions:\n"
     ]
    },
    {
     "name": "stderr",
     "output_type": "stream",
     "text": [
      "Evaluating:   7%|▋         | 1/14 [00:10<02:11, 10.11s/it]Failed to parse output. Returning None.\n",
      "Evaluating:  14%|█▍        | 2/14 [01:06<07:30, 37.57s/it]Failed to parse output. Returning None.\n",
      "Evaluating:  21%|██▏       | 3/14 [01:11<04:08, 22.58s/it]Failed to parse output. Returning None.\n",
      "Evaluating:  36%|███▌      | 5/14 [01:35<02:33, 17.02s/it]Failed to parse output. Returning None.\n",
      "Evaluating:  86%|████████▌ | 12/14 [01:52<00:06,  3.24s/it]Failed to parse output. Returning None.\n",
      "Evaluating:  93%|█████████▎| 13/14 [01:52<00:02,  2.34s/it]Failed to parse output. Returning None.\n",
      "Evaluating: 100%|██████████| 14/14 [01:53<00:00,  8.08s/it]\n"
     ]
    },
    {
     "name": "stdout",
     "output_type": "stream",
     "text": [
      "{'context_recall': 1.0000, 'context_precision': 0.9008}\n"
     ]
    }
   ],
   "source": [
    "# Execute the evaluation.\n",
    "EVALUATE_WHAT = \"CONTEXTS\"\n",
    "print(f\"Evaluating {EVALUATE_WHAT} using eval questions:\")\n",
    "ragas_result = evaluate_ragas_model(\n",
    "                        dataset_v1,\n",
    "                        what_to_evaluate=EVALUATE_WHAT)"
   ]
  },
  {
   "cell_type": "code",
   "execution_count": 9,
   "id": "ce3db551-f1d2-4111-8779-530db986bd11",
   "metadata": {},
   "outputs": [
    {
     "name": "stdout",
     "output_type": "stream",
     "text": [
      "Evaluating ANSWERS using eval questions:\n"
     ]
    },
    {
     "name": "stderr",
     "output_type": "stream",
     "text": [
      "Evaluating:  39%|███▉      | 11/28 [02:08<02:38,  9.33s/it]Failed to parse output. Returning None.\n",
      "Evaluating:  43%|████▎     | 12/28 [02:36<03:35, 13.49s/it]Exception raised in Job[2]: TimeoutError()\n",
      "Evaluating:  46%|████▋     | 13/28 [03:00<03:59, 15.94s/it]Exception raised in Job[27]: TimeoutError()\n",
      "Exception raised in Job[26]: TimeoutError()\n",
      "Exception raised in Job[7]: TimeoutError()\n",
      "Exception raised in Job[8]: TimeoutError()\n",
      "Exception raised in Job[4]: TimeoutError()\n",
      "Exception raised in Job[10]: TimeoutError()\n",
      "Exception raised in Job[15]: TimeoutError()\n",
      "Evaluating:  71%|███████▏  | 20/28 [03:13<00:48,  6.01s/it]Exception raised in Job[20]: TimeoutError()\n",
      "Exception raised in Job[18]: TimeoutError()\n",
      "Evaluating:  79%|███████▊  | 22/28 [03:27<00:37,  6.21s/it]Exception raised in Job[19]: TimeoutError()\n",
      "Evaluating:  86%|████████▌ | 24/28 [04:00<00:34,  8.72s/it]Failed to parse output. Returning None.\n",
      "Failed to parse output. Returning None.\n",
      "Evaluating:  89%|████████▉ | 25/28 [04:33<00:37, 12.40s/it]Failed to parse output. Returning None.\n",
      "Evaluating:  93%|█████████▎| 26/28 [04:37<00:21, 10.88s/it]Failed to parse output. Returning None.\n",
      "Evaluating:  96%|█████████▋| 27/28 [04:39<00:09,  9.02s/it]Failed to parse output. Returning None.\n",
      "Evaluating: 100%|██████████| 28/28 [04:41<00:00, 10.05s/it]\n"
     ]
    },
    {
     "name": "stdout",
     "output_type": "stream",
     "text": [
      "{'answer_relevancy': 0.7571, 'answer_similarity': 0.6314, 'answer_correctness': 0.4982, 'faithfulness': 1.0000}\n"
     ]
    }
   ],
   "source": [
    "EVALUATE_WHAT = \"ANSWERS\"\n",
    "print(f\"Evaluating {EVALUATE_WHAT} using eval questions:\")\n",
    "ragas_result = evaluate_ragas_model(\n",
    "                        dataset_v1,\n",
    "                        what_to_evaluate=EVALUATE_WHAT)"
   ]
  },
  {
   "cell_type": "markdown",
   "id": "325e3744-485e-468b-ae04-1d42dd59118b",
   "metadata": {},
   "source": [
    "### case dataset LED v1 changed - expected to be 0\n",
    "\n",
    "I changed the answer and the context of the orginal dataset provided by LED and make the wrong. The idea is to be sure that in case the contexts and the answer is not correct we actually obtain 0 as a result for each metric.  "
   ]
  },
  {
   "cell_type": "code",
   "execution_count": 5,
   "id": "da0dcc5b-715b-4cce-a043-100036cd285b",
   "metadata": {},
   "outputs": [],
   "source": [
    "data_samples_wrong = {\n",
    "    \"question\": [\n",
    "        \"Quali sono i documenti di riferimento per procedere ad un acquisto da parte di un Ente Aziendale?\",\n",
    "        \"Quale è la prima cosa da fare per procedere ad un acquisto?\",\n",
    "        \"Quale è il Sistema Informativo che mi permette di emettere una richiesta di Acquisto?\",\n",
    "        \"Gli Oda possono essere emessi verso qualsiasi Fornitore?\",\n",
    "        \"Quale è la UO Aziendale che ha il compito di emettere OdA nei confronti dei Fornitori?\",\n",
    "        \"Quale è il documento che formalizza la richiesta di deroga alla selezione del Fornitore?\",\n",
    "        \"Chi deve compilare il modello PRO094- T-IT-I? A quale altro documento deve essere allegato?\"\n",
    "    ],\n",
    "    \"answer\": [\n",
    "        \"In base al contesto fornito, i documenti di riferimento per procedere ad un acquisto da parte di un Ente Aziendale sono i seguenti: * Documenti contrattualmente vincolanti o comunque rilevanti per lo svolgimento dell'attività di acquisto\\n* Documenti di riferimento previsti dalla procedura della RdA (Richiesta di Acquisto)\\n* Template: QUA003 -T-IT it rev.01.01 (Proc. QUA005 -P-CO)\\n* Template: QUA003 -T-IT it rev.01 (Proc. QUA005 -P-CO)\\n* Documenti di riferimento\",\n",
    "        \"La prima cosa da fare per procedere ad un acquisto è trasmettere alla CdG la Vendor List (T23) corredata delle offerte ricevute dai fornitori coinvolti e di tutta la documentazione aggiuntiva ricevuta dagli stessi. ======================FINE============================== Nota: la risposta è basata sul contesto fornito, che sembra descrivere un processo di acquisto all'interno di un'azienda. Se il contesto non è completo o se la domanda non è chiara, la risposta potrebbe non essere corretta. In ogni caso, la risposta è basata sulle informazioni fornite. Se la ris\",\n",
    "        \"Il sistema informativo aziendale. Inoltre, nel contesto fornito, il sistema informativo aziendale è utilizzato per la gestione delle RdA. Infatti, si legge: \\\"Tutte le RdA a cui si fa riferimento sono gestite tramite il sistema informativo aziendale.\\\" Inoltre, il sistema informativo aziendale è utilizzato per la gestione delle RdA, come riportato nell'Appendice D. Inoltre, il sistema informativo aziendale è utilizzato per la gestione delle RdA, come riportato nell'Appendice D. Inoltre, il sistema informativo aziendale è utilizzato per la gest\",\n",
    "        \"No, gli OdA possono essere emessi solo verso i fornitori pre-qualificati e qualificati in accordo alla procedura aziendale di riferimento Selezione, autorizzazione e qualifica dei Fornitori (R1). Tuttavia, per comprovate esigenze di business che comportino un urgenza a procedere, il fornitore può essere titolato a ricevere una RdO anche in assenza di pre-qualifica. In tal caso unitamente alla RdO deve essere inviata la documentazione necessaria al processo di qualifica del nuovo fornitore. Inoltre, gli OdA possono essere emessi anche verso i fornitori indicati nel\",\n",
    "        \"La UO Aziendale che ha il compito di emettere OdA nei confronti dei Fornitori è il buyer. Il buyer, come indicato nella tabella E 1, è responsabile della gestione della RdA e della successiva emissione dell'OdA. In particolare, il buyer è responsabile di: - verificare eventuali Accordi preesistenti e procedere direttamente all'emissione dell'OdA;\\n- verificare la presenza di eventuali circostanze ricadenti tra quelle indicate nel § 6.4;\\n- verificare che il materiale per il quale si procede all'acquisto non sia s\",\n",
    "        \"Il modulo \\\"Autorizzazione all’utilizzo della Gara ad Inviti per particolari circostanze ” (PRO093 -T-IT) o il modulo “Autorizzazione all’utilizzo della Trattativa Privata ” (PRO094 -T-IT) deve essere allegato alla RdA, debitamente firmato. Inoltre, il modulo \\\"Autorizzazione temporanea SAP per emissione singolo ordine \\\" (PRO 106-T-IT) deve essere compilato e controfirmato da un Responsabile di primo livello dell'Unità Richiedente. Il modulo PRO 106-T-IT deve essere fatto pervenire a SBC che concorderà l'eventuale deroga\",\n",
    "        \"Il modello PRO094-T-IT deve essere compilato e firmato dal fornitore interessato a partecipare ad una Gara con Pubblicazione di Avviso. Questo documento deve essere allegato alla Manifestazione di interesse (T24) che il fornitore deve depositare sul portale aziendale. In particolare, il fornitore deve allegare anche l'eventuale documentazione a corredo funzionale alla pre-qualificazione. In questo modo, il fornitore manifesta la sua volontà di partecipare alla gara e fornisce le informazioni necessarie per la sua selezione. Il modello PRO094-T-IT è quindi\"\n",
    "    ],\n",
    "    \"contexts\": [\n",
    "        [\n",
    "            \"no\", \n",
    "            \"no\", \n",
    "            \"no\", \n",
    "            \"no\", \n",
    "        ],\n",
    "        [  \n",
    "            \"no\", \n",
    "            \"no\", \n",
    "            \"no\", \n",
    "            \"no\", \n",
    "            ],\n",
    "        [ \n",
    "            \"no\", \n",
    "            \"no\", \n",
    "            \"no\", \n",
    "            \"no\", \n",
    "            ],\n",
    "        [\n",
    "            \n",
    "            \"no\", \n",
    "            \"no\", \n",
    "            \"no\", \n",
    "            \"no\", \n",
    "            ],\n",
    "        [\n",
    "          \n",
    "            \"no\", \n",
    "            \"no\", \n",
    "            \"no\", \n",
    "            \"no\", \n",
    "             ],\n",
    "        [\n",
    "       \n",
    "            \"no\", \n",
    "            \"no\", \n",
    "            \"no\", \n",
    "            \"no\", \n",
    "             ],\n",
    "        [\n",
    "            \"no\", \n",
    "            \"no\", \n",
    "            \"no\", \n",
    "            \"no\", \n",
    "        ]\n",
    "    ],\n",
    "    \"ground_truth\": [\n",
    "        \"I Documenti di riferimento sono A e B\",\n",
    "        \"Ogni richiesta di acquisto si in automatico.\",\n",
    "        \"Il Sistema da utilizzare per formalizzare una Richiesta di Acquisto è ovvio.\",\n",
    "        \"Tutti i Fornitori .\",\n",
    "        \"La UO preposta all'emissione degli ODA è la mia casa.\",\n",
    "        \"E' il template Pippo.\",\n",
    "        \"Il modello PRO094-T-IT-I deve essere compilato da me che sono un AIgen.\"\n",
    "    ]\n",
    "}"
   ]
  },
  {
   "cell_type": "code",
   "execution_count": 6,
   "id": "b7931c94-9f30-4eac-a165-36cba3d8ae64",
   "metadata": {},
   "outputs": [],
   "source": [
    "dataset_wrong = Dataset.from_dict(data_samples_wrong)"
   ]
  },
  {
   "cell_type": "code",
   "execution_count": 8,
   "id": "2c5459f9-3763-487d-b874-8b62bcc3464d",
   "metadata": {},
   "outputs": [
    {
     "name": "stdout",
     "output_type": "stream",
     "text": [
      "Evaluating CONTEXTS using eval questions:\n"
     ]
    },
    {
     "name": "stderr",
     "output_type": "stream",
     "text": [
      "Evaluating: 100%|██████████| 14/14 [01:05<00:00,  4.65s/it]\n"
     ]
    },
    {
     "name": "stdout",
     "output_type": "stream",
     "text": [
      "{'context_recall': 0.0000, 'context_precision': 0.0000}\n"
     ]
    }
   ],
   "source": [
    "# Execute the evaluation.\n",
    "EVALUATE_WHAT = \"CONTEXTS\"\n",
    "print(f\"Evaluating {EVALUATE_WHAT} using eval questions:\")\n",
    "ragas_result = evaluate_ragas_model(\n",
    "                        dataset_wrong,\n",
    "                        what_to_evaluate=EVALUATE_WHAT)"
   ]
  },
  {
   "cell_type": "code",
   "execution_count": null,
   "id": "d78d2d05-ebc4-4583-8e8f-844303e0c663",
   "metadata": {},
   "outputs": [
    {
     "name": "stdout",
     "output_type": "stream",
     "text": [
      "Evaluating ANSWERS using eval questions:\n"
     ]
    },
    {
     "name": "stderr",
     "output_type": "stream",
     "text": [
      "Evaluating:  14%|█▍        | 4/28 [01:58<12:36, 31.54s/it]"
     ]
    }
   ],
   "source": [
    "# Execute the evaluation.\n",
    "EVALUATE_WHAT = \"ANSWERS\"\n",
    "print(f\"Evaluating {EVALUATE_WHAT} using eval questions:\")\n",
    "ragas_result = evaluate_ragas_model(\n",
    "                        dataset_wrong,\n",
    "                        what_to_evaluate=EVALUATE_WHAT)"
   ]
  },
  {
   "cell_type": "markdown",
   "id": "39afab75-0015-4835-871a-7d8758b0f064",
   "metadata": {},
   "source": [
    "### case test for debugging\n",
    "\n",
    "### run only if needed"
   ]
  },
  {
   "cell_type": "code",
   "execution_count": 6,
   "id": "953058a6-34cc-4d80-a078-6344153f4cd7",
   "metadata": {},
   "outputs": [],
   "source": [
    "########## do not run ############\n",
    "\n",
    "from datasets import Dataset\n",
    "data_samples = {\n",
    "    'question': ['When was the first super bowl?', 'Who won the most super bowls?'],\n",
    "    'answer': ['The first superbowl was held on Jan 15, 1967', 'The most super bowls have been won by The New England Patriots'],\n",
    "    'contexts': [['The First AFL–NFL World Championship Game was an American football game played on January 15, 1967, at the Los Angeles Memorial Coliseum in Los Angeles,'],\n",
    "                 ['The Green Bay Packers...Green Bay, Wisconsin.', 'The Packers compete...Football Conference']],\n",
    "    'ground_truth': ['The first superbowl was held on January 15, 1967', 'The New England Patriots have won the Super Bowl a record six times']\n",
    "}\n",
    "\n",
    "\n",
    "dataset = Dataset.from_dict(data_samples) "
   ]
  },
  {
   "cell_type": "code",
   "execution_count": 11,
   "id": "0f01f511-0b42-49e1-ab54-1abdb64ae142",
   "metadata": {},
   "outputs": [
    {
     "name": "stdout",
     "output_type": "stream",
     "text": [
      "Evaluating CONTEXTS using eval questions:\n"
     ]
    },
    {
     "name": "stderr",
     "output_type": "stream",
     "text": [
      "Evaluating: 100%|██████████| 4/4 [00:04<00:00,  1.16s/it]\n"
     ]
    },
    {
     "name": "stdout",
     "output_type": "stream",
     "text": [
      "{'context_recall': 0.5000, 'context_precision': 0.5000}\n"
     ]
    }
   ],
   "source": [
    "########## do not run ############\n",
    "\n",
    "# Execute the evaluation.\n",
    "EVALUATE_WHAT = \"CONTEXTS\"\n",
    "print(f\"Evaluating {EVALUATE_WHAT} using eval questions:\")\n",
    "ragas_result = evaluate_ragas_model(\n",
    "                        dataset,\n",
    "                        what_to_evaluate=EVALUATE_WHAT)"
   ]
  },
  {
   "cell_type": "code",
   "execution_count": 13,
   "id": "9bd872cf-4399-45eb-8980-f761fd8b791d",
   "metadata": {},
   "outputs": [
    {
     "name": "stdout",
     "output_type": "stream",
     "text": [
      "Evaluating ANSWERS using eval questions:\n"
     ]
    },
    {
     "name": "stderr",
     "output_type": "stream",
     "text": [
      "Evaluating: 100%|██████████| 8/8 [00:36<00:00,  4.52s/it]\n"
     ]
    },
    {
     "name": "stdout",
     "output_type": "stream",
     "text": [
      "{'answer_relevancy': 0.9337, 'answer_similarity': 0.9234, 'answer_correctness': 0.9808, 'faithfulness': 0.5000}\n"
     ]
    }
   ],
   "source": [
    "########## do not run ############\n",
    "\n",
    "EVALUATE_WHAT = \"ANSWERS\"\n",
    "print(f\"Evaluating {EVALUATE_WHAT} using eval questions:\")\n",
    "ragas_result = evaluate_ragas_model(\n",
    "                        dataset,\n",
    "                        what_to_evaluate=EVALUATE_WHAT)"
   ]
  },
  {
   "cell_type": "code",
   "execution_count": null,
   "id": "fffb4d9a-1ac8-415e-a279-e2a4128de26f",
   "metadata": {},
   "outputs": [],
   "source": []
  }
 ],
 "metadata": {
  "kernelspec": {
   "display_name": "ragas_env",
   "language": "python",
   "name": "ragas_env"
  },
  "language_info": {
   "codemirror_mode": {
    "name": "ipython",
    "version": 3
   },
   "file_extension": ".py",
   "mimetype": "text/x-python",
   "name": "python",
   "nbconvert_exporter": "python",
   "pygments_lexer": "ipython3",
   "version": "3.12.5"
  }
 },
 "nbformat": 4,
 "nbformat_minor": 5
}
