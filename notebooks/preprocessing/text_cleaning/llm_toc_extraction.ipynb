{
 "cells": [
  {
   "cell_type": "code",
   "execution_count": 36,
   "id": "f1b02f72-39ba-4fdc-b6f1-ecbeefee803c",
   "metadata": {},
   "outputs": [],
   "source": [
    "from eurocc_v1.paths import DATA_DIR, ROOT_DIR"
   ]
  },
  {
   "cell_type": "code",
   "execution_count": 37,
   "id": "a747042e-891f-4f52-8703-1f6cf7dcb821",
   "metadata": {},
   "outputs": [
    {
     "name": "stdin",
     "output_type": "stream",
     "text": [
      " ········\n"
     ]
    }
   ],
   "source": [
    "import getpass\n",
    "import os\n",
    "\n",
    "os.environ[\"LANGCHAIN_TRACING_V2\"] = \"true\"\n",
    "os.environ[\"LANGCHAIN_API_KEY\"] = getpass.getpass()"
   ]
  },
  {
   "cell_type": "code",
   "execution_count": 39,
   "id": "faf07abb-1ef5-4261-b4c3-d01d240c39b8",
   "metadata": {},
   "outputs": [
    {
     "name": "stdin",
     "output_type": "stream",
     "text": [
      " ········\n"
     ]
    }
   ],
   "source": [
    "from langchain_openai import ChatOpenAI\n",
    "os.environ[\"OPENAI_API_KEY\"] = getpass.getpass()"
   ]
  },
  {
   "cell_type": "code",
   "execution_count": 40,
   "id": "ac96d29d-6620-449a-bedf-fca25769d1cb",
   "metadata": {},
   "outputs": [],
   "source": [
    "model = ChatOpenAI(model=\"gpt-3.5-turbo\")"
   ]
  },
  {
   "cell_type": "code",
   "execution_count": 41,
   "id": "c1c28f70-fe33-47bd-a823-591f843a2a91",
   "metadata": {},
   "outputs": [],
   "source": [
    "with open(ROOT_DIR / \"notebooks\" / \"preprocessing\" / \"text_cleaning\" / \"out\" / \"pdf_miner_page_0-4.txt\", \"r\") as cf:\n",
    "    content = cf.read()"
   ]
  },
  {
   "cell_type": "code",
   "execution_count": 49,
   "id": "e3066c4f-ad26-46b6-bb05-7ae8257a29d0",
   "metadata": {},
   "outputs": [],
   "source": [
    "from langchain_core.messages import HumanMessage, SystemMessage\n",
    "from langchain_core.output_parsers import JsonOutputParser\n",
    "\n",
    "messages = [\n",
    "    SystemMessage(content='In the following document content, find the Table of Content (\"INDICE GENERALE\") and extract the pages number of the main chapters and output them into a json string with the following format: {\"INDICE GENERALE\" : [{\"chapter_number\": 1, \"chapter\": \"INTRODUZIONE\", \"page\": 5}, .. ]} .'),\n",
    "    HumanMessage(content=content),\n",
    "]\n",
    "\n",
    "chain = model | JsonOutputParser()\n"
   ]
  },
  {
   "cell_type": "code",
   "execution_count": 50,
   "id": "1f0f3ede-297c-4a3d-a9e9-b0a254d73f81",
   "metadata": {},
   "outputs": [],
   "source": [
    "output = chain.invoke(messages)"
   ]
  },
  {
   "cell_type": "code",
   "execution_count": 52,
   "id": "82b1bc8c-51c8-4c8b-9d4d-b8509b88bd95",
   "metadata": {},
   "outputs": [
    {
     "data": {
      "text/plain": [
       "dict"
      ]
     },
     "execution_count": 52,
     "metadata": {},
     "output_type": "execute_result"
    }
   ],
   "source": [
    "type(output)"
   ]
  },
  {
   "cell_type": "code",
   "execution_count": 53,
   "id": "de78526b-e248-4792-8382-b7357fd485ba",
   "metadata": {},
   "outputs": [
    {
     "data": {
      "text/plain": [
       "{'INDICE GENERALE': [{'chapter_number': 1,\n",
       "   'chapter': 'INTRODUZIONE',\n",
       "   'page': 5},\n",
       "  {'chapter_number': 2, 'chapter': 'RIFERIMENTI', 'page': 8},\n",
       "  {'chapter_number': 3, 'chapter': 'DEFINIZIONI E ACRONIMI', 'page': 9},\n",
       "  {'chapter_number': 4,\n",
       "   'chapter': 'DESCRIZIONE DEL PROCESSO DI SELEZIONE; APPROVAZIONE E QUALIFICA DEI FORNITORI',\n",
       "   'page': 13},\n",
       "  {'chapter_number': 5, 'chapter': 'DESCRIZIONE DELLE ATTIVITÀ', 'page': 18},\n",
       "  {'chapter_number': 6,\n",
       "   'chapter': 'CRITERI PER LA QUALIFICA (FORNITORI DIRETTI) O PER L’AUTORIZZAZIONE (FORNITORI INDIRETTI)',\n",
       "   'page': 34},\n",
       "  {'chapter_number': 7,\n",
       "   'chapter': 'CRITERI DI ESCLUSIONE DI UN FORNITORE',\n",
       "   'page': 35},\n",
       "  {'chapter_number': 8,\n",
       "   'chapter': 'CRITERI DI SOSPENSIONE/RADIAZIONE DALL’EFQ (ALBO FORNITORI)',\n",
       "   'page': 36},\n",
       "  {'chapter_number': 9,\n",
       "   'chapter': 'MODULISTICA UTILIZZATA NELLE VARIE ATTIVITÀ',\n",
       "   'page': 37},\n",
       "  {'chapter_number': 10,\n",
       "   'chapter': 'KPI DEL PROCESSO DI AUTORIZZAZIONE E QUALIFICA DEI FORNITORI',\n",
       "   'page': 38},\n",
       "  {'chapter_number': 11,\n",
       "   'chapter': 'RAPPRESENTAZIONE GRAFICA DEL PROCESSO',\n",
       "   'page': 39}]}"
      ]
     },
     "execution_count": 53,
     "metadata": {},
     "output_type": "execute_result"
    }
   ],
   "source": [
    "output"
   ]
  },
  {
   "cell_type": "code",
   "execution_count": null,
   "id": "9411d502-3396-462b-8368-ad0ce920db47",
   "metadata": {},
   "outputs": [],
   "source": []
  }
 ],
 "metadata": {
  "kernelspec": {
   "display_name": "Python 3 (ipykernel)",
   "language": "python",
   "name": "python3"
  },
  "language_info": {
   "codemirror_mode": {
    "name": "ipython",
    "version": 3
   },
   "file_extension": ".py",
   "mimetype": "text/x-python",
   "name": "python",
   "nbconvert_exporter": "python",
   "pygments_lexer": "ipython3",
   "version": "3.10.12"
  }
 },
 "nbformat": 4,
 "nbformat_minor": 5
}
