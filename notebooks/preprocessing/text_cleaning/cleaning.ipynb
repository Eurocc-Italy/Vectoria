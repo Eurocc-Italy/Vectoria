{
 "cells": [
  {
   "cell_type": "code",
   "execution_count": 13,
   "id": "567846ac-dfda-41e7-a5f7-38b83fd4b991",
   "metadata": {},
   "outputs": [],
   "source": [
    "from pdfminer.high_level import extract_text"
   ]
  },
  {
   "cell_type": "code",
   "execution_count": 2,
   "id": "7633c377-fbdd-450f-81e1-faca37c0c9f0",
   "metadata": {},
   "outputs": [],
   "source": [
    "from eurocc_v1.paths import DATA_DIR, ROOT_DIR"
   ]
  },
  {
   "cell_type": "code",
   "execution_count": 3,
   "id": "1c0c6b9d-131b-4d08-816b-fa33f29348e5",
   "metadata": {},
   "outputs": [],
   "source": [
    "src_folder = DATA_DIR / \"raw\""
   ]
  },
  {
   "cell_type": "code",
   "execution_count": 6,
   "id": "4b06be7f-e80c-4bbb-8784-e4a0b782811a",
   "metadata": {},
   "outputs": [],
   "source": [
    "out_folder = ROOT_DIR / \"notebooks\" / \"preprocessing\" / \"text_cleaning\" / \"out\"\n",
    "out_folder.mkdir(exist_ok=True)"
   ]
  },
  {
   "cell_type": "code",
   "execution_count": 7,
   "id": "eafb70bc-4386-4790-bb37-a30e937c6226",
   "metadata": {},
   "outputs": [],
   "source": [
    "input_doc = \"PRO002-P-IT rev.01 Selezione  Autorizzazione e Qualifica dei Fornitori cg.pdf\""
   ]
  },
  {
   "cell_type": "code",
   "execution_count": 24,
   "id": "90205be3-e5e4-4211-a869-d86724125e8a",
   "metadata": {},
   "outputs": [],
   "source": [
    "text = extract_text(src_folder / input_doc, page_numbers=[0,1,2,3,4])\n",
    "with open(out_folder / \"pdf_miner_page_0-4.txt\", \"w\") as p:\n",
    "    p.write(text)"
   ]
  },
  {
   "cell_type": "code",
   "execution_count": null,
   "id": "f8d964bc-f814-49d7-8511-9e6dd25fa42c",
   "metadata": {},
   "outputs": [],
   "source": []
  }
 ],
 "metadata": {
  "kernelspec": {
   "display_name": "Python 3 (ipykernel)",
   "language": "python",
   "name": "python3"
  },
  "language_info": {
   "codemirror_mode": {
    "name": "ipython",
    "version": 3
   },
   "file_extension": ".py",
   "mimetype": "text/x-python",
   "name": "python",
   "nbconvert_exporter": "python",
   "pygments_lexer": "ipython3",
   "version": "3.10.12"
  }
 },
 "nbformat": 4,
 "nbformat_minor": 5
}
