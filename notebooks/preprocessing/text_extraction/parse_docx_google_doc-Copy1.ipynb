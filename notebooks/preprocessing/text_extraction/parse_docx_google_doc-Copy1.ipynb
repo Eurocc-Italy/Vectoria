{
 "cells": [
  {
   "cell_type": "code",
   "execution_count": 1,
   "id": "3ebe6838-40d0-4d20-9c41-10a4c7087a72",
   "metadata": {},
   "outputs": [
    {
     "name": "stderr",
     "output_type": "stream",
     "text": [
      "2024-09-19 12:32:02,896 - common - INFO - Module common initialized - __init__.py - 9\n"
     ]
    }
   ],
   "source": [
    "from pathlib import Path\n",
    "from vectoria_lib.common.paths import TEST_DIR\n",
    "from docx import Document\n",
    "\n",
    "document = Document(TEST_DIR / \"data/docx/2.docx\")"
   ]
  },
  {
   "cell_type": "code",
   "execution_count": 2,
   "id": "3ec4dbdb-d79f-4148-9bfc-905f8eba7670",
   "metadata": {},
   "outputs": [
    {
     "data": {
      "text/plain": [
       "{'_parent': <docx.section._Header at 0x7250902f2260>,\n",
       " '_p': <CT_P '<w:p>' at 0x7250917172e0>,\n",
       " '_element': <CT_P '<w:p>' at 0x7250917172e0>}"
      ]
     },
     "execution_count": 2,
     "metadata": {},
     "output_type": "execute_result"
    }
   ],
   "source": [
    "vars(document.sections[0].header.paragraphs[0])"
   ]
  },
  {
   "cell_type": "code",
   "execution_count": 3,
   "id": "63885738-e583-4596-94aa-c323af1c45cf",
   "metadata": {},
   "outputs": [
    {
     "data": {
      "text/plain": [
       "{'_parent': <docx.document._Body at 0x7250902f2680>,\n",
       " '_p': <CT_P '<w:p>' at 0x7250917880e0>,\n",
       " '_element': <CT_P '<w:p>' at 0x7250917880e0>}"
      ]
     },
     "execution_count": 3,
     "metadata": {},
     "output_type": "execute_result"
    }
   ],
   "source": [
    "vars(document.paragraphs[0])"
   ]
  },
  {
   "cell_type": "code",
   "execution_count": 4,
   "id": "5f200233-eea2-42d1-8880-6cac057dcbc8",
   "metadata": {},
   "outputs": [
    {
     "data": {
      "text/plain": [
       "[]"
      ]
     },
     "execution_count": 4,
     "metadata": {},
     "output_type": "execute_result"
    }
   ],
   "source": [
    "document.tables"
   ]
  },
  {
   "cell_type": "code",
   "execution_count": 22,
   "id": "3a0fc526-269c-403c-85d4-48abe4cf9549",
   "metadata": {},
   "outputs": [],
   "source": [
    "\n",
    "# Extract headers and footers\n",
    "def extract_headers_footers(doc):\n",
    "    for section in doc.sections:\n",
    "        header = section.header\n",
    "        footer = section.footer\n",
    "        print(\"Header: \", end=\"\")\n",
    "        for paragraph in header.paragraphs:\n",
    "            print(paragraph.text)\n",
    "\n",
    "        print(\"Footer: \", end=\"\")\n",
    "        for paragraph in footer.paragraphs:\n",
    "            print(paragraph.text)"
   ]
  },
  {
   "cell_type": "code",
   "execution_count": 58,
   "id": "6822b9ef-9449-4002-b343-768bd72c76d3",
   "metadata": {},
   "outputs": [
    {
     "name": "stdout",
     "output_type": "stream",
     "text": [
      "Collecting pypandoc_binary\n",
      "  Downloading pypandoc_binary-1.13-py3-none-manylinux_2_5_x86_64.manylinux1_x86_64.manylinux_2_17_x86_64.manylinux2014_x86_64.whl (17.1 MB)\n",
      "\u001b[2K     \u001b[38;2;114;156;31m━━━━━━━━━━━━━━━━━━━━━━━━━━━━━━━━━━━━━━━━\u001b[0m \u001b[32m17.1/17.1 MB\u001b[0m \u001b[31m6.8 MB/s\u001b[0m eta \u001b[36m0:00:00\u001b[0mm eta \u001b[36m0:00:01\u001b[0m[36m0:00:01\u001b[0m\n",
      "\u001b[?25hInstalling collected packages: pypandoc_binary\n",
      "Successfully installed pypandoc_binary-1.13\n"
     ]
    }
   ],
   "source": [
    "! pip install pypandoc_binary"
   ]
  },
  {
   "cell_type": "code",
   "execution_count": 59,
   "id": "0e425a7a-a3a0-4d16-a269-89a98ab4e568",
   "metadata": {},
   "outputs": [
    {
     "name": "stdout",
     "output_type": "stream",
     "text": [
      "/home/leobaro/workspace/labs/eurocc/ecc-env/bin/python3: No module named pypandoc.__main__; 'pypandoc' is a package and cannot be directly executed\n"
     ]
    }
   ],
   "source": [
    "! python3 -m pypandoc --help"
   ]
  },
  {
   "cell_type": "code",
   "execution_count": 48,
   "id": "a1d7b9d3-c682-42fb-bc1f-bf645934ed3d",
   "metadata": {},
   "outputs": [
    {
     "name": "stdout",
     "output_type": "stream",
     "text": [
      "Requirement already satisfied: beautifulsoup4 in /home/leobaro/workspace/labs/eurocc/ecc-env/lib/python3.10/site-packages (4.12.3)\n",
      "Requirement already satisfied: soupsieve>1.2 in /home/leobaro/workspace/labs/eurocc/ecc-env/lib/python3.10/site-packages (from beautifulsoup4) (2.5)\n"
     ]
    }
   ],
   "source": [
    "! pip install beautifulsoup4"
   ]
  },
  {
   "cell_type": "code",
   "execution_count": 49,
   "id": "193a6c99-e539-4a9a-b8b5-e86b791dc0df",
   "metadata": {},
   "outputs": [],
   "source": [
    "import pypandoc\n",
    "from bs4 import BeautifulSoup\n"
   ]
  },
  {
   "cell_type": "code",
   "execution_count": 63,
   "id": "d1333ade-b336-41dc-a2f7-d4edbc9621ec",
   "metadata": {},
   "outputs": [],
   "source": [
    "# Extract Table of Contents (TOC)\n",
    "def extract_toc(doc):    \n",
    "    # Convert Word document to HTML\n",
    "    output = pypandoc.convert_file(doc, 'html')\n",
    "    \n",
    "    # Parse the HTML to find the TOC section\n",
    "    soup = BeautifulSoup(output, 'html.parser')\n",
    "    print(soup)\n",
    "    # Example: Search for <div> or <p> tags that might contain TOC\n",
    "    for toc in soup.find_all('p'):\n",
    "        if 'TOC' in toc.text:\n",
    "            print(toc.text)\n",
    "\n",
    "    return toc"
   ]
  },
  {
   "cell_type": "code",
   "execution_count": 66,
   "id": "cc7c2129-de52-48c1-b0c1-a4e9b3622c5f",
   "metadata": {},
   "outputs": [
    {
     "name": "stdout",
     "output_type": "stream",
     "text": [
      "\n",
      "Extracting Table of Contents (TOC)...\n",
      "<p><a href=\"#first-chapter\"><strong>First chapter</strong></a>\n",
      "<strong>1</strong></p>\n",
      "<p><a href=\"#_heading=\"><strong>Second Chapter</strong></a>\n",
      "<strong>1</strong></p>\n",
      "<blockquote>\n",
      "<p><a href=\"#image\">Image</a> 2</p>\n",
      "</blockquote>\n",
      "<h1 id=\"first-chapter\">First chapter</h1>\n",
      "<p>🥰 First Lorem ipsum</p>\n",
      "<h1 id=\"second-chapter\">Second Chapter</h1>\n",
      "<p>Second Lorem ipsum</p>\n",
      "<p><span class=\"math inline\"><em>f</em>(<em>y</em>) = <em>x</em> * 2</span></p>\n",
      "<table>\n",
      "<colgroup>\n",
      "<col style=\"width: 50%\"/>\n",
      "<col style=\"width: 50%\"/>\n",
      "</colgroup>\n",
      "<thead>\n",
      "<tr class=\"header\">\n",
      "<th>Lorem 1 ipsum 1</th>\n",
      "<th>Lorem 1 ipsum 2</th>\n",
      "</tr>\n",
      "<tr class=\"odd\">\n",
      "<th>Lorem 2 ipsum 1</th>\n",
      "<th>Lorem 2 ipsum 2</th>\n",
      "</tr>\n",
      "</thead>\n",
      "<tbody>\n",
      "</tbody>\n",
      "</table>\n",
      "<h3 id=\"image\">Image</h3>\n",
      "<p><img alt=\"Go away\" src=\"media/image2.jpg\" style=\"width:6.21875in;height:4.14583in\"/></p>\n",
      "\n"
     ]
    },
    {
     "data": {
      "text/plain": [
       "<p><img alt=\"Go away\" src=\"media/image2.jpg\" style=\"width:6.21875in;height:4.14583in\"/></p>"
      ]
     },
     "execution_count": 66,
     "metadata": {},
     "output_type": "execute_result"
    }
   ],
   "source": [
    "print(\"\\nExtracting Table of Contents (TOC)...\")\n",
    "extract_toc(TEST_DIR / \"data/docx/2.docx\")"
   ]
  },
  {
   "cell_type": "code",
   "execution_count": 51,
   "id": "a5a796e2-2566-44c0-a632-01905d536be7",
   "metadata": {},
   "outputs": [],
   "source": [
    "# A helper function to determine the level of a heading based on style\n",
    "def get_heading_level(paragraph):\n",
    "    if paragraph.style.name.startswith(\"Heading\"):\n",
    "        return int(paragraph.style.name.split()[-1])  # Extract the heading level (e.g., Heading 1 -> 1)\n",
    "    return None  # Not a heading\n",
    "\n",
    "# Extract paragraphs with style and hierarchy\n",
    "def extract_paragraphs_with_hierarchy(doc):\n",
    "    hierarchy = []  # To keep track of the hierarchy\n",
    "\n",
    "    for paragraph in doc.paragraphs:\n",
    "        style = paragraph.style.name\n",
    "\n",
    "        # Determine if the paragraph is a heading\n",
    "        heading_level = get_heading_level(paragraph)\n",
    "\n",
    "        if heading_level:\n",
    "            hierarchy.append((heading_level, paragraph.text, style))\n",
    "        else:\n",
    "            # If it's not a heading, assume it's normal content\n",
    "            hierarchy.append((None, paragraph.text, style))\n",
    "\n",
    "    return hierarchy\n",
    "\n",
    "# Function to print hierarchy with indentation for better visualization\n",
    "def print_hierarchy(hierarchy):\n",
    "    for item in hierarchy:\n",
    "        level, text, style = item\n",
    "        if level is None:\n",
    "            # Print normal content with default indentation\n",
    "            print(f\"   Content (Style: {style}): {text}\")\n",
    "        else:\n",
    "            # Indent heading according to its level\n",
    "            indent = \"    \" * (level - 1)\n",
    "            print(f\"{indent}Heading {level} (Style: {style}): {text}\")\n"
   ]
  },
  {
   "cell_type": "code",
   "execution_count": 25,
   "id": "84322f7b-44d8-4ef8-93b6-20ef2fc45596",
   "metadata": {},
   "outputs": [],
   "source": [
    "# Extract tables\n",
    "def extract_tables(doc):\n",
    "    for table in doc.tables:\n",
    "        for row in table.rows:\n",
    "            for cell in row.cells:\n",
    "                print(cell.text, end=\"\\t\")\n",
    "            print()"
   ]
  },
  {
   "cell_type": "code",
   "execution_count": 26,
   "id": "cf6ae08b-3b88-4a4b-bf4f-b5c3b513f74e",
   "metadata": {},
   "outputs": [],
   "source": [
    "# Extract images\n",
    "def extract_images(doc):\n",
    "    rels = doc.part.rels\n",
    "    for rel in rels:\n",
    "        if \"image\" in rels[rel].target_ref:\n",
    "            image_part = rels[rel].target_part\n",
    "            image_data = image_part.blob\n",
    "            image_filename = rels[rel].target_ref.split(\"/\")[-1]\n",
    "            with open(image_filename, \"wb\") as img_file:\n",
    "                img_file.write(image_data)\n",
    "                print(f\"Saved image: {image_filename}\")"
   ]
  },
  {
   "cell_type": "code",
   "execution_count": 27,
   "id": "a0304bc1-41a7-421e-a71d-5cb96ce32900",
   "metadata": {},
   "outputs": [],
   "source": [
    "# Extract equations (as plain text since python-docx cannot handle MathML)\n",
    "def extract_equations(doc):\n",
    "    for paragraph in doc.paragraphs:\n",
    "        if any(run.font.size == Pt(16) for run in paragraph.runs):  # Arbitrary size check for equations\n",
    "            print(\"Equation:\", paragraph.text)"
   ]
  },
  {
   "cell_type": "code",
   "execution_count": 28,
   "id": "8b6b713c-3d94-48d0-9710-00e9c077f612",
   "metadata": {},
   "outputs": [],
   "source": [
    "import docx\n",
    "from docx.shared import Pt"
   ]
  },
  {
   "cell_type": "code",
   "execution_count": 30,
   "id": "4e0e5af2-c090-4802-a458-a911f46380d7",
   "metadata": {},
   "outputs": [
    {
     "name": "stdout",
     "output_type": "stream",
     "text": [
      "Extracting Headers and Footers...\n",
      "Header: Lorem ipsum header\n",
      "Footer: Lorem ipsum footer\n",
      "\n"
     ]
    }
   ],
   "source": [
    "\n",
    "# Run extraction functions\n",
    "print(\"Extracting Headers and Footers...\")\n",
    "extract_headers_footers(document)"
   ]
  },
  {
   "cell_type": "code",
   "execution_count": 62,
   "id": "973395a7-a744-47bb-8bb6-bae2de99a876",
   "metadata": {},
   "outputs": [
    {
     "name": "stdout",
     "output_type": "stream",
     "text": [
      "\n",
      "Extracting Table of Contents (TOC)...\n"
     ]
    },
    {
     "data": {
      "text/plain": [
       "<p><img alt=\"Go away\" src=\"media/image2.jpg\" style=\"width:6.21875in;height:4.14583in\"/></p>"
      ]
     },
     "execution_count": 62,
     "metadata": {},
     "output_type": "execute_result"
    }
   ],
   "source": []
  },
  {
   "cell_type": "code",
   "execution_count": 45,
   "id": "c16fe8ce-9416-4d48-b1be-45c0bade39c8",
   "metadata": {},
   "outputs": [
    {
     "name": "stdout",
     "output_type": "stream",
     "text": [
      "Extracting Paragraphs with Style and Hierarchy...\n",
      "   Content (Style: Title): Test document 2\n",
      "Heading 1 (Style: Heading 1): \n",
      "Heading 1 (Style: Heading 1): First chapter\n",
      "   Content (Style: Normal): 🥰 First Lorem ipsum\n",
      "Heading 1 (Style: Heading 1): Second Chapter\n",
      "   Content (Style: Normal): Second Lorem ipsum \n",
      "   Content (Style: Normal): \n",
      "   Content (Style: Normal): \n",
      "   Content (Style: Normal): \n",
      "   Content (Style: Normal): \n",
      "        Heading 3 (Style: Heading 3): Image\n",
      "   Content (Style: Normal): \n"
     ]
    }
   ],
   "source": [
    "print(\"Extracting Paragraphs with Style and Hierarchy...\")\n",
    "hierarchy = extract_paragraphs_with_hierarchy(document)\n",
    "print_hierarchy(hierarchy)"
   ]
  },
  {
   "cell_type": "code",
   "execution_count": 37,
   "id": "b43adaa7-e640-4504-a3dd-b87dd8887a2e",
   "metadata": {},
   "outputs": [
    {
     "name": "stdout",
     "output_type": "stream",
     "text": [
      "\n",
      "Extracting Tables...\n"
     ]
    }
   ],
   "source": [
    "print(\"\\nExtracting Tables...\")\n",
    "extract_tables(document)"
   ]
  },
  {
   "cell_type": "code",
   "execution_count": 41,
   "id": "75a82b95-2527-41ac-9dee-632f6714905f",
   "metadata": {},
   "outputs": [
    {
     "name": "stdout",
     "output_type": "stream",
     "text": [
      "\n",
      "Extracting Images...\n",
      "Saved image: image2.jpg\n"
     ]
    }
   ],
   "source": [
    "print(\"\\nExtracting Images...\")\n",
    "extract_images(document)"
   ]
  },
  {
   "cell_type": "code",
   "execution_count": 40,
   "id": "f61e7d33-c4ef-4de5-99eb-c5d54f30722d",
   "metadata": {},
   "outputs": [
    {
     "name": "stdout",
     "output_type": "stream",
     "text": [
      "\n",
      "Extracting Equations...\n"
     ]
    }
   ],
   "source": [
    "print(\"\\nExtracting Equations...\")\n",
    "extract_equations(document)"
   ]
  },
  {
   "cell_type": "code",
   "execution_count": null,
   "id": "d6ad4930-9ef7-4e1f-9c91-5263fb1af923",
   "metadata": {},
   "outputs": [],
   "source": []
  }
 ],
 "metadata": {
  "kernelspec": {
   "display_name": "Python 3 (ipykernel)",
   "language": "python",
   "name": "python3"
  },
  "language_info": {
   "codemirror_mode": {
    "name": "ipython",
    "version": 3
   },
   "file_extension": ".py",
   "mimetype": "text/x-python",
   "name": "python",
   "nbconvert_exporter": "python",
   "pygments_lexer": "ipython3",
   "version": "3.10.12"
  }
 },
 "nbformat": 4,
 "nbformat_minor": 5
}
