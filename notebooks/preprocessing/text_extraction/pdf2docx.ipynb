{
 "cells": [
  {
   "cell_type": "code",
   "execution_count": 2,
   "id": "32b3aa40-6b60-44c0-a977-ba1d4f08ce26",
   "metadata": {},
   "outputs": [],
   "source": [
    "from pdf2docx import Converter"
   ]
  },
  {
   "cell_type": "code",
   "execution_count": 3,
   "id": "6877f2b8-8391-436b-9c72-8d7edd9adb34",
   "metadata": {},
   "outputs": [],
   "source": [
    "from eurocc_v1.paths import DATA_DIR, ROOT_DIR"
   ]
  },
  {
   "cell_type": "code",
   "execution_count": 4,
   "id": "3823c448-547a-4b32-b103-76585cbc2d82",
   "metadata": {},
   "outputs": [],
   "source": [
    "src_folder = DATA_DIR / \"raw\""
   ]
  },
  {
   "cell_type": "code",
   "execution_count": 5,
   "id": "4cfc94b2-64d0-4cbd-b85d-147a73f016fc",
   "metadata": {},
   "outputs": [],
   "source": [
    "out_folder = ROOT_DIR / \"notebooks\" / \"preprocessing\" / \"text_extraction\" / \"out\" / \"pypdf\"\n",
    "out_folder.mkdir(exist_ok=True)"
   ]
  },
  {
   "cell_type": "code",
   "execution_count": 6,
   "id": "773d6d8d-1d54-4203-ab91-d04f4a5dc45f",
   "metadata": {},
   "outputs": [],
   "source": [
    "input_doc = \"PRO002-P-IT rev.01 Selezione  Autorizzazione e Qualifica dei Fornitori cg.pdf\""
   ]
  },
  {
   "cell_type": "code",
   "execution_count": 7,
   "id": "259a02ea-1aad-449b-b851-ace9d4a695e8",
   "metadata": {},
   "outputs": [],
   "source": [
    "pdf_file = src_folder / input_doc\n",
    "docx_file = (src_folder / input_doc).with_suffix(\".docx\")"
   ]
  },
  {
   "cell_type": "code",
   "execution_count": 8,
   "id": "3c159867-a9a5-479d-8f41-677c33a6cf2c",
   "metadata": {},
   "outputs": [
    {
     "data": {
      "text/plain": [
       "PosixPath('/home/leobaro/workspace/labs/eurocc/llm_eucc/eurocc/data/raw/PRO002-P-IT rev.01 Selezione  Autorizzazione e Qualifica dei Fornitori cg.docx')"
      ]
     },
     "execution_count": 8,
     "metadata": {},
     "output_type": "execute_result"
    }
   ],
   "source": [
    "docx_file"
   ]
  },
  {
   "cell_type": "code",
   "execution_count": 9,
   "id": "8788197c-3e18-4f73-899b-648a7c6798f2",
   "metadata": {},
   "outputs": [
    {
     "name": "stderr",
     "output_type": "stream",
     "text": [
      "[INFO] Start to convert /home/leobaro/workspace/labs/eurocc/llm_eucc/eurocc/data/raw/PRO002-P-IT rev.01 Selezione  Autorizzazione e Qualifica dei Fornitori cg.pdf\n",
      "[INFO] \u001b[1;36m[1/4] Opening document...\u001b[0m\n",
      "[INFO] \u001b[1;36m[2/4] Analyzing document...\u001b[0m\n",
      "[INFO] \u001b[1;36m[3/4] Parsing pages...\u001b[0m\n",
      "[INFO] (1/42) Page 1\n",
      "[INFO] (2/42) Page 2\n",
      "[INFO] (3/42) Page 3\n",
      "[INFO] (4/42) Page 4\n",
      "[INFO] (5/42) Page 5\n",
      "[INFO] (6/42) Page 6\n",
      "[INFO] (7/42) Page 7\n",
      "[INFO] (8/42) Page 8\n",
      "[INFO] (9/42) Page 9\n",
      "[INFO] (10/42) Page 10\n",
      "[INFO] (11/42) Page 11\n",
      "[INFO] (12/42) Page 12\n",
      "[INFO] (13/42) Page 13\n",
      "[INFO] (14/42) Page 14\n",
      "[INFO] (15/42) Page 15\n",
      "[INFO] (16/42) Page 16\n",
      "[INFO] (17/42) Page 17\n",
      "[INFO] (18/42) Page 18\n",
      "[INFO] (19/42) Page 19\n",
      "[INFO] (20/42) Page 20\n",
      "[INFO] (21/42) Page 21\n",
      "[INFO] (22/42) Page 22\n",
      "[INFO] (23/42) Page 23\n",
      "[INFO] (24/42) Page 24\n",
      "[INFO] (25/42) Page 25\n",
      "[INFO] (26/42) Page 26\n",
      "[INFO] (27/42) Page 27\n",
      "[INFO] (28/42) Page 28\n",
      "[INFO] (29/42) Page 29\n",
      "[INFO] (30/42) Page 30\n",
      "[INFO] (31/42) Page 31\n",
      "[INFO] (32/42) Page 32\n",
      "[INFO] (33/42) Page 33\n",
      "[INFO] (34/42) Page 34\n",
      "[INFO] (35/42) Page 35\n",
      "[INFO] (36/42) Page 36\n",
      "[INFO] (37/42) Page 37\n",
      "[INFO] (38/42) Page 38\n",
      "[INFO] (39/42) Page 39\n",
      "[INFO] (40/42) Page 40\n",
      "[INFO] (41/42) Page 41\n",
      "[INFO] (42/42) Page 42\n",
      "[INFO] \u001b[1;36m[4/4] Creating pages...\u001b[0m\n",
      "[INFO] (1/42) Page 1\n",
      "[INFO] (2/42) Page 2\n",
      "[INFO] (3/42) Page 3\n",
      "[INFO] (4/42) Page 4\n",
      "[INFO] (5/42) Page 5\n",
      "[INFO] (6/42) Page 6\n",
      "[INFO] (7/42) Page 7\n",
      "[INFO] (8/42) Page 8\n",
      "[INFO] (9/42) Page 9\n",
      "[INFO] (10/42) Page 10\n",
      "[INFO] (11/42) Page 11\n",
      "[INFO] (12/42) Page 12\n",
      "[INFO] (13/42) Page 13\n",
      "[INFO] (14/42) Page 14\n",
      "[INFO] (15/42) Page 15\n",
      "[INFO] (16/42) Page 16\n",
      "[INFO] (17/42) Page 17\n",
      "[INFO] (18/42) Page 18\n",
      "[INFO] (19/42) Page 19\n",
      "[INFO] (20/42) Page 20\n",
      "[INFO] (21/42) Page 21\n",
      "[INFO] (22/42) Page 22\n",
      "[INFO] (23/42) Page 23\n",
      "[INFO] (24/42) Page 24\n",
      "[INFO] (25/42) Page 25\n",
      "[INFO] (26/42) Page 26\n",
      "[INFO] (27/42) Page 27\n",
      "[INFO] (28/42) Page 28\n",
      "[INFO] (29/42) Page 29\n",
      "[INFO] (30/42) Page 30\n",
      "[INFO] (31/42) Page 31\n",
      "[INFO] (32/42) Page 32\n",
      "[INFO] (33/42) Page 33\n",
      "[INFO] (34/42) Page 34\n",
      "[INFO] (35/42) Page 35\n",
      "[INFO] (36/42) Page 36\n",
      "[INFO] (37/42) Page 37\n",
      "[INFO] (38/42) Page 38\n",
      "[INFO] (39/42) Page 39\n",
      "[INFO] (40/42) Page 40\n",
      "[INFO] (41/42) Page 41\n",
      "[INFO] (42/42) Page 42\n",
      "[INFO] Terminated in 20.44s.\n"
     ]
    }
   ],
   "source": [
    "cv = Converter(pdf_file)\n",
    "cv.convert(docx_file)      # all pages by default\n",
    "cv.close()"
   ]
  },
  {
   "cell_type": "code",
   "execution_count": 14,
   "id": "68fb14c8-7193-4dc7-acab-56a3059faada",
   "metadata": {},
   "outputs": [
    {
     "name": "stderr",
     "output_type": "stream",
     "text": [
      "[INFO] \u001b[1;36m[1/4] Opening document...\u001b[0m\n",
      "[INFO] \u001b[1;36m[2/4] Analyzing document...\u001b[0m\n",
      "[INFO] \u001b[1;36m[3/4] Parsing pages...\u001b[0m\n",
      "[INFO] (1/10) Page 1\n",
      "[INFO] (2/10) Page 2\n",
      "[INFO] (3/10) Page 3\n",
      "[INFO] (4/10) Page 4\n",
      "[INFO] (5/10) Page 5\n",
      "[INFO] (6/10) Page 6\n",
      "[INFO] (7/10) Page 7\n",
      "[INFO] (8/10) Page 8\n",
      "[INFO] (9/10) Page 9\n",
      "[INFO] (10/10) Page 10\n"
     ]
    },
    {
     "name": "stdout",
     "output_type": "stream",
     "text": [
      "['Central  Quality/Audit & Certification ', 'C. Di Goro ']\n",
      "['Procurement Strategy, Processes & Initiatives ', 'P. Giovannoni ']\n",
      "['Procurement Strategy, Processes & Initiatives ', 'L. Berna ']\n"
     ]
    }
   ],
   "source": [
    "from pdf2docx import Converter\n",
    "cv = Converter(pdf_file)\n",
    "tables = cv.extract_tables(start=0, end=10)\n",
    "cv.close()\n",
    "\n",
    "for table in tables:\n",
    "    for row in table:\n",
    "        print(row)"
   ]
  },
  {
   "cell_type": "code",
   "execution_count": null,
   "id": "a6d2e28d-055a-47e4-a481-f1341a63d116",
   "metadata": {},
   "outputs": [],
   "source": []
  }
 ],
 "metadata": {
  "kernelspec": {
   "display_name": "Python 3 (ipykernel)",
   "language": "python",
   "name": "python3"
  },
  "language_info": {
   "codemirror_mode": {
    "name": "ipython",
    "version": 3
   },
   "file_extension": ".py",
   "mimetype": "text/x-python",
   "name": "python",
   "nbconvert_exporter": "python",
   "pygments_lexer": "ipython3",
   "version": "3.10.12"
  }
 },
 "nbformat": 4,
 "nbformat_minor": 5
}
