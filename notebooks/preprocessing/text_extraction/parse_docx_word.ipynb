{
 "cells": [
  {
   "cell_type": "code",
   "execution_count": 10,
   "id": "3ebe6838-40d0-4d20-9c41-10a4c7087a72",
   "metadata": {},
   "outputs": [],
   "source": [
    "from pathlib import Path\n",
    "from vectoria_lib.common.paths import TEST_DIR\n",
    "from docx import Document\n",
    "import docx\n",
    "from docx.shared import Pt"
   ]
  },
  {
   "cell_type": "code",
   "execution_count": 11,
   "id": "44440fd7-f27e-40d6-a49d-ad9845210436",
   "metadata": {},
   "outputs": [],
   "source": [
    "document = Document(TEST_DIR / \"data/docx/2_from_word.docx\")"
   ]
  },
  {
   "cell_type": "markdown",
   "id": "ae8345cb-4dd2-4fd9-af84-62e9625d89a7",
   "metadata": {},
   "source": [
    "## Header / Footer"
   ]
  },
  {
   "cell_type": "code",
   "execution_count": 8,
   "id": "3a0fc526-269c-403c-85d4-48abe4cf9549",
   "metadata": {},
   "outputs": [],
   "source": [
    "# Extract headers and footers\n",
    "def extract_headers_footers(doc):\n",
    "    for section in doc.sections:\n",
    "        header = section.header\n",
    "        footer = section.footer\n",
    "        print(\"Header: \", end=\"\")\n",
    "        for paragraph in header.paragraphs:\n",
    "            print(paragraph.text)\n",
    "\n",
    "        print(\"Footer: \", end=\"\")\n",
    "        for paragraph in footer.paragraphs:\n",
    "            print(paragraph.text)"
   ]
  },
  {
   "cell_type": "code",
   "execution_count": 9,
   "id": "5f99c17e-c85c-4c99-b257-c361b9a6c498",
   "metadata": {},
   "outputs": [
    {
     "name": "stdout",
     "output_type": "stream",
     "text": [
      "Extracting Headers and Footers...\n",
      "Header: header\n",
      "\n",
      "Footer: footer\n",
      "\n"
     ]
    }
   ],
   "source": [
    "# Run extraction functions\n",
    "print(\"Extracting Headers and Footers...\")\n",
    "extract_headers_footers(document)"
   ]
  },
  {
   "cell_type": "markdown",
   "id": "96f6c7ed-78ac-46df-84e7-79da0a606cbf",
   "metadata": {},
   "source": [
    "## Content"
   ]
  },
  {
   "cell_type": "code",
   "execution_count": null,
   "id": "581b8a3f-d885-4d85-bea6-14d9533dfcb5",
   "metadata": {},
   "outputs": [],
   "source": [
    "# A helper function to determine the level of a heading based on style\n",
    "def get_heading_level(paragraph):\n",
    "    if paragraph.style.name.startswith(\"Heading\"):\n",
    "        return int(paragraph.style.name.split()[-1])  # Extract heading level number\n",
    "    return None  # Not a heading\n",
    "\n",
    "# Extract document structure: paragraphs, tables, and their heading context\n",
    "def extract_content_with_tables(doc):\n",
    "    current_heading = None  # Track the current heading\n",
    "    structure = []  # Store content structure\n",
    "\n",
    "    for element in doc.element.body:\n",
    "        if element.tag.endswith('p'):  # It's a paragraph\n",
    "            paragraph = docx.text.paragraph.Paragraph(element, doc)\n",
    "            heading_level = get_heading_level(paragraph)\n",
    "            if heading_level:\n",
    "                current_heading = paragraph.text  # Update current heading\n",
    "                structure.append((f\"Heading {heading_level}\", paragraph.text))\n",
    "            else:\n",
    "                structure.append((\"Paragraph\", paragraph.text))\n",
    "        \n",
    "        elif element.tag.endswith('tbl'):  # It's a table\n",
    "            table = docx.table.Table(element, doc)\n",
    "            table_data = []\n",
    "            for row in table.rows:\n",
    "                row_data = [cell.text for cell in row.cells]\n",
    "                table_data.append(row_data)\n",
    "            structure.append((\"Table\", table_data, current_heading))\n",
    "\n",
    "    return structure\n",
    "\n",
    "# Print the document structure, including where tables are located\n",
    "def print_document_structure(structure):\n",
    "    for element in structure:\n",
    "        if element[0].startswith(\"Heading\"):\n",
    "            print(f\"{element[0]}: {element[1]}\")\n",
    "        elif element[0] == \"Paragraph\":\n",
    "            print(f\"   Paragraph: {element[1]}\")\n",
    "        elif element[0] == \"Table\":\n",
    "            print(f\"   Table under Heading: {element[2]}\")\n",
    "            for row in element[1]:\n",
    "                print(f\"      {row}\")\n",
    "\n"
   ]
  },
  {
   "cell_type": "code",
   "execution_count": 32,
   "id": "283df682-7d0c-46d0-925d-78951817b26b",
   "metadata": {},
   "outputs": [
    {
     "name": "stdout",
     "output_type": "stream",
     "text": [
      "Extracting document structure with tables and headings...\n"
     ]
    }
   ],
   "source": [
    "print(\"Extracting document structure with tables and headings...\")\n",
    "structure = extract_content_with_tables(document)\n"
   ]
  },
  {
   "cell_type": "code",
   "execution_count": 35,
   "id": "03adb689-3c32-45b0-80b7-b105ffff2161",
   "metadata": {},
   "outputs": [
    {
     "data": {
      "text/plain": [
       "[('Paragraph', 'Test document 2'),\n",
       " ('Heading 1', 'First chapter'),\n",
       " ('Paragraph',\n",
       "  'Lorem ipsum Lorem ipsum Lorem ipsum Lorem ipsum Lorem ipsum Lorem ipsum Lorem ipsum Lorem ipsum Lorem ipsum Lorem ipsum Lorem ipsum Lorem ipsum Lorem ipsum Lorem ipsum Lorem ipsum Lorem ipsum Lorem ipsum Lorem ipsum Lorem ipsum Lorem ipsum Lorem ipsum Lorem ipsum Lorem ipsum Lorem ipsum Lorem ipsum Lorem ipsum Lorem ipsum Lorem ipsum Lorem ipsum Lorem ipsum Lorem ipsum Lorem ipsum Lorem ipsum Lorem ipsum Lorem ipsum Lorem ipsum Lorem ipsum Lorem ipsum Lorem ipsum Lorem ipsum Lorem ipsum Lorem ipsum Lorem ipsum Lorem ipsum Lorem ipsum Lorem ipsum Lorem ipsum Lorem ipsum Lorem ipsum Lorem ipsum Lorem ipsum Lorem ipsum'),\n",
       " ('Heading 1', 'Second Chapter'),\n",
       " ('Paragraph',\n",
       "  'Lorem ipsum Lorem ipsum Lorem ipsum Lorem ipsum Lorem ipsum Lorem ipsum Lorem ipsum Lorem ipsum Lorem ipsum Lorem ipsum Lorem ipsum Lorem ipsum Lorem ipsum Lorem ipsum Lorem ipsum Lorem ipsum Lorem ipsum Lorem ipsum Lorem ipsum Lorem ipsum'),\n",
       " ('Table', [['Tab 11', 'Tab 12'], ['Tab 21', 'Tab 22']], 'Second Chapter'),\n",
       " ('Paragraph', ''),\n",
       " ('Paragraph', '')]"
      ]
     },
     "execution_count": 35,
     "metadata": {},
     "output_type": "execute_result"
    }
   ],
   "source": [
    "structure"
   ]
  },
  {
   "cell_type": "code",
   "execution_count": 33,
   "id": "b843df9d-2ab9-445f-9c4a-87dfb4da426a",
   "metadata": {},
   "outputs": [
    {
     "name": "stdout",
     "output_type": "stream",
     "text": [
      "   Paragraph: Test document 2\n",
      "Heading 1: First chapter\n",
      "   Paragraph: Lorem ipsum Lorem ipsum Lorem ipsum Lorem ipsum Lorem ipsum Lorem ipsum Lorem ipsum Lorem ipsum Lorem ipsum Lorem ipsum Lorem ipsum Lorem ipsum Lorem ipsum Lorem ipsum Lorem ipsum Lorem ipsum Lorem ipsum Lorem ipsum Lorem ipsum Lorem ipsum Lorem ipsum Lorem ipsum Lorem ipsum Lorem ipsum Lorem ipsum Lorem ipsum Lorem ipsum Lorem ipsum Lorem ipsum Lorem ipsum Lorem ipsum Lorem ipsum Lorem ipsum Lorem ipsum Lorem ipsum Lorem ipsum Lorem ipsum Lorem ipsum Lorem ipsum Lorem ipsum Lorem ipsum Lorem ipsum Lorem ipsum Lorem ipsum Lorem ipsum Lorem ipsum Lorem ipsum Lorem ipsum Lorem ipsum Lorem ipsum Lorem ipsum Lorem ipsum\n",
      "Heading 1: Second Chapter\n",
      "   Paragraph: Lorem ipsum Lorem ipsum Lorem ipsum Lorem ipsum Lorem ipsum Lorem ipsum Lorem ipsum Lorem ipsum Lorem ipsum Lorem ipsum Lorem ipsum Lorem ipsum Lorem ipsum Lorem ipsum Lorem ipsum Lorem ipsum Lorem ipsum Lorem ipsum Lorem ipsum Lorem ipsum\n",
      "   Table under Heading: Second Chapter\n",
      "      ['Tab 11', 'Tab 12']\n",
      "      ['Tab 21', 'Tab 22']\n",
      "   Paragraph: \n",
      "   Paragraph: \n"
     ]
    }
   ],
   "source": [
    "print_document_structure(structure)"
   ]
  },
  {
   "cell_type": "markdown",
   "id": "ad7ec6bc-8cfa-4c77-aaaa-219589c267c7",
   "metadata": {},
   "source": [
    "## Tables"
   ]
  },
  {
   "cell_type": "code",
   "execution_count": 28,
   "id": "12b5c8f9-d408-481f-ac7f-c3023abbfb6a",
   "metadata": {},
   "outputs": [
    {
     "data": {
      "text/plain": [
       "<docx.table._Rows at 0x7ac99dccf4f0>"
      ]
     },
     "execution_count": 28,
     "metadata": {},
     "output_type": "execute_result"
    }
   ],
   "source": [
    "document.tables[0]"
   ]
  },
  {
   "cell_type": "code",
   "execution_count": 15,
   "id": "84322f7b-44d8-4ef8-93b6-20ef2fc45596",
   "metadata": {},
   "outputs": [],
   "source": [
    "# Extract tables\n",
    "def extract_tables(doc):\n",
    "    for table in doc.tables:\n",
    "        for row in table.rows:\n",
    "            for cell in row.cells:\n",
    "                print(cell.text, end=\"\\t\")\n",
    "            print()"
   ]
  },
  {
   "cell_type": "code",
   "execution_count": 16,
   "id": "8659b8a0-ba7c-44f3-8ae3-c6290d0bb5c4",
   "metadata": {},
   "outputs": [
    {
     "name": "stdout",
     "output_type": "stream",
     "text": [
      "\n",
      "Extracting Tables...\n",
      "Tab 11\tTab 12\t\n",
      "Tab 21\tTab 22\t\n"
     ]
    }
   ],
   "source": [
    "print(\"\\nExtracting Tables...\")\n",
    "extract_tables(document)"
   ]
  },
  {
   "cell_type": "markdown",
   "id": "4f423811-7310-428e-9f30-4e7f1356bfa3",
   "metadata": {},
   "source": [
    "## Images"
   ]
  },
  {
   "cell_type": "code",
   "execution_count": 18,
   "id": "cf6ae08b-3b88-4a4b-bf4f-b5c3b513f74e",
   "metadata": {},
   "outputs": [],
   "source": [
    "# Extract images\n",
    "def extract_images(doc):\n",
    "    rels = doc.part.rels\n",
    "    for rel in rels:\n",
    "        if \"image\" in rels[rel].target_ref:\n",
    "            image_part = rels[rel].target_part\n",
    "            image_data = image_part.blob\n",
    "            image_filename = rels[rel].target_ref.split(\"/\")[-1]\n",
    "            with open(image_filename, \"wb\") as img_file:\n",
    "                img_file.write(image_data)\n",
    "                print(f\"Saved image: {image_filename}\")"
   ]
  },
  {
   "cell_type": "code",
   "execution_count": 19,
   "id": "fe1c83c1-ab60-4739-ab38-6ab4bf0dee0c",
   "metadata": {},
   "outputs": [
    {
     "name": "stdout",
     "output_type": "stream",
     "text": [
      "\n",
      "Extracting Images...\n",
      "Saved image: image1.jpg\n"
     ]
    }
   ],
   "source": [
    "print(\"\\nExtracting Images...\")\n",
    "extract_images(document)"
   ]
  },
  {
   "cell_type": "code",
   "execution_count": null,
   "id": "e1acb096-b358-4155-9193-bcfea8f41c8f",
   "metadata": {},
   "outputs": [],
   "source": []
  }
 ],
 "metadata": {
  "kernelspec": {
   "display_name": "Python 3 (ipykernel)",
   "language": "python",
   "name": "python3"
  },
  "language_info": {
   "codemirror_mode": {
    "name": "ipython",
    "version": 3
   },
   "file_extension": ".py",
   "mimetype": "text/x-python",
   "name": "python",
   "nbconvert_exporter": "python",
   "pygments_lexer": "ipython3",
   "version": "3.10.12"
  }
 },
 "nbformat": 4,
 "nbformat_minor": 5
}
