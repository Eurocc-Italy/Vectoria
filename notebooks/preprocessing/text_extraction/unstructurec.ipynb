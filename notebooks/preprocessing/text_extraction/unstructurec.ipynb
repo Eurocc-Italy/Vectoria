{
 "cells": [
  {
   "cell_type": "code",
   "execution_count": 1,
   "id": "32b3aa40-6b60-44c0-a977-ba1d4f08ce26",
   "metadata": {},
   "outputs": [
    {
     "name": "stderr",
     "output_type": "stream",
     "text": [
      "/home/leobaro/workspace/labs/eurocc/ecc-env/lib/python3.10/site-packages/tqdm/auto.py:21: TqdmWarning: IProgress not found. Please update jupyter and ipywidgets. See https://ipywidgets.readthedocs.io/en/stable/user_install.html\n",
      "  from .autonotebook import tqdm as notebook_tqdm\n"
     ]
    }
   ],
   "source": [
    "from unstructured.partition.auto import partition"
   ]
  },
  {
   "cell_type": "code",
   "execution_count": 2,
   "id": "6877f2b8-8391-436b-9c72-8d7edd9adb34",
   "metadata": {},
   "outputs": [],
   "source": [
    "from eurocc_v1.paths import DATA_DIR, ROOT_DIR"
   ]
  },
  {
   "cell_type": "code",
   "execution_count": 3,
   "id": "3823c448-547a-4b32-b103-76585cbc2d82",
   "metadata": {},
   "outputs": [],
   "source": [
    "src_folder = DATA_DIR / \"raw\""
   ]
  },
  {
   "cell_type": "code",
   "execution_count": 4,
   "id": "4cfc94b2-64d0-4cbd-b85d-147a73f016fc",
   "metadata": {},
   "outputs": [],
   "source": [
    "out_folder = ROOT_DIR / \"notebooks\" / \"preprocessing\" / \"text_extraction\" / \"out\" / \"pypdf\"\n",
    "out_folder.mkdir(exist_ok=True)"
   ]
  },
  {
   "cell_type": "code",
   "execution_count": 5,
   "id": "773d6d8d-1d54-4203-ab91-d04f4a5dc45f",
   "metadata": {},
   "outputs": [],
   "source": [
    "input_doc = \"PRO002-P-IT rev.01 Selezione  Autorizzazione e Qualifica dei Fornitori cg.pdf\""
   ]
  },
  {
   "cell_type": "code",
   "execution_count": 7,
   "id": "2c1f9c96-9c5a-43ea-9f9a-a41a3fffcdae",
   "metadata": {},
   "outputs": [
    {
     "name": "stderr",
     "output_type": "stream",
     "text": [
      "[nltk_data] Downloading package punkt to /home/leobaro/nltk_data...\n",
      "[nltk_data]   Unzipping tokenizers/punkt.zip.\n",
      "[nltk_data] Downloading package averaged_perceptron_tagger to\n",
      "[nltk_data]     /home/leobaro/nltk_data...\n",
      "[nltk_data]   Unzipping taggers/averaged_perceptron_tagger.zip.\n"
     ]
    }
   ],
   "source": [
    "elements = partition(src_folder / input_doc)"
   ]
  },
  {
   "cell_type": "code",
   "execution_count": 25,
   "id": "fcbb3d6f-4bbb-4afe-8e66-a5a6e89eb819",
   "metadata": {},
   "outputs": [
    {
     "name": "stdout",
     "output_type": "stream",
     "text": [
      "{'_known_field_names': frozenset({'attached_to_filename',\n",
      "                                  'category_depth',\n",
      "                                  'coordinates',\n",
      "                                  'data_source',\n",
      "                                  'detection_class_prob',\n",
      "                                  'detection_origin',\n",
      "                                  'emphasized_text_contents',\n",
      "                                  'emphasized_text_tags',\n",
      "                                  'file_directory',\n",
      "                                  'filename',\n",
      "                                  'filetype',\n",
      "                                  'header_footer_type',\n",
      "                                  'image_base64',\n",
      "                                  'image_mime_type',\n",
      "                                  'image_path',\n",
      "                                  'is_continuation',\n",
      "                                  'key_value_pairs',\n",
      "                                  'languages',\n",
      "                                  'last_modified',\n",
      "                                  'link_start_indexes',\n",
      "                                  'link_texts',\n",
      "                                  'link_urls',\n",
      "                                  'links',\n",
      "                                  'orig_elements',\n",
      "                                  'page_name',\n",
      "                                  'page_number',\n",
      "                                  'parent_id',\n",
      "                                  'regex_metadata',\n",
      "                                  'sent_from',\n",
      "                                  'sent_to',\n",
      "                                  'signature',\n",
      "                                  'subject',\n",
      "                                  'table_as_cells',\n",
      "                                  'text_as_html',\n",
      "                                  'url'}),\n",
      " 'coordinates': CoordinatesMetadata(points=((53.04, 167.71159999999998),\n",
      "                                            (53.04, 177.6715999999999),\n",
      "                                            (122.30888, 177.6715999999999),\n",
      "                                            (122.30888, 167.71159999999998)),\n",
      "                                    system=<unstructured.documents.coordinates.PixelSpace object at 0x71cee7932e90>),\n",
      " 'file_directory': '/home/leobaro/workspace/labs/eurocc/llm_eucc/eurocc/data/raw',\n",
      " 'filename': 'PRO002-P-IT rev.01 Selezione  Autorizzazione e Qualifica dei '\n",
      "             'Fornitori cg.pdf',\n",
      " 'filetype': 'application/pdf',\n",
      " 'languages': ['eng'],\n",
      " 'last_modified': '2024-05-24T17:32:10',\n",
      " 'links': [],\n",
      " 'page_number': 1}\n"
     ]
    }
   ],
   "source": [
    "from pprint import pprint\n",
    "for e in elements:\n",
    "    pprint(vars(e.metadata))\n",
    "    break"
   ]
  },
  {
   "cell_type": "code",
   "execution_count": null,
   "id": "d122b5e4-3593-49e6-8881-985104abc1cf",
   "metadata": {},
   "outputs": [],
   "source": []
  }
 ],
 "metadata": {
  "kernelspec": {
   "display_name": "Python 3 (ipykernel)",
   "language": "python",
   "name": "python3"
  },
  "language_info": {
   "codemirror_mode": {
    "name": "ipython",
    "version": 3
   },
   "file_extension": ".py",
   "mimetype": "text/x-python",
   "name": "python",
   "nbconvert_exporter": "python",
   "pygments_lexer": "ipython3",
   "version": "3.10.12"
  }
 },
 "nbformat": 4,
 "nbformat_minor": 5
}
