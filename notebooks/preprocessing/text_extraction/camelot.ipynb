{
 "cells": [
  {
   "cell_type": "code",
   "execution_count": 1,
   "id": "32b3aa40-6b60-44c0-a977-ba1d4f08ce26",
   "metadata": {},
   "outputs": [],
   "source": [
    "import camelot # needs \"pypdf2<3\" "
   ]
  },
  {
   "cell_type": "code",
   "execution_count": 2,
   "id": "6877f2b8-8391-436b-9c72-8d7edd9adb34",
   "metadata": {},
   "outputs": [],
   "source": [
    "from eurocc_v1.paths import DATA_DIR, ROOT_DIR"
   ]
  },
  {
   "cell_type": "code",
   "execution_count": 3,
   "id": "3823c448-547a-4b32-b103-76585cbc2d82",
   "metadata": {},
   "outputs": [],
   "source": [
    "src_folder = DATA_DIR / \"raw\""
   ]
  },
  {
   "cell_type": "code",
   "execution_count": 4,
   "id": "4cfc94b2-64d0-4cbd-b85d-147a73f016fc",
   "metadata": {},
   "outputs": [],
   "source": [
    "out_folder = ROOT_DIR / \"notebooks\" / \"preprocessing\" / \"text_extraction\" / \"out\" / \"pypdf\"\n",
    "out_folder.mkdir(exist_ok=True)"
   ]
  },
  {
   "cell_type": "code",
   "execution_count": 5,
   "id": "773d6d8d-1d54-4203-ab91-d04f4a5dc45f",
   "metadata": {},
   "outputs": [],
   "source": [
    "input_doc = \"PRO002-P-IT rev.01 Selezione  Autorizzazione e Qualifica dei Fornitori cg.pdf\""
   ]
  },
  {
   "cell_type": "code",
   "execution_count": 8,
   "id": "d122b5e4-3593-49e6-8881-985104abc1cf",
   "metadata": {},
   "outputs": [],
   "source": [
    "tables = camelot.read_pdf(str(src_folder / input_doc), pages='2')"
   ]
  },
  {
   "cell_type": "code",
   "execution_count": 11,
   "id": "66bc901a-da7a-4022-8ea9-2b82e23e4dda",
   "metadata": {},
   "outputs": [
    {
     "name": "stdout",
     "output_type": "stream",
     "text": [
      "<Table shape=(3, 2)>\n",
      "<Table shape=(4, 4)>\n"
     ]
    }
   ],
   "source": [
    "for t in tables:\n",
    "    print(t)"
   ]
  },
  {
   "cell_type": "code",
   "execution_count": 12,
   "id": "47854190-adf6-4b4a-8db1-25ba1ef93722",
   "metadata": {},
   "outputs": [
    {
     "name": "stdout",
     "output_type": "stream",
     "text": [
      "{'accuracy': 100.0, 'whitespace': 66.67, 'order': 1, 'page': 2}\n",
      "{'accuracy': 99.83, 'whitespace': 25.0, 'order': 2, 'page': 2}\n"
     ]
    }
   ],
   "source": [
    "for t in tables:\n",
    "    print(t.parsing_report)"
   ]
  },
  {
   "cell_type": "code",
   "execution_count": 15,
   "id": "26a0a434-7eb8-4c92-a62e-0d39ddaa5c9d",
   "metadata": {},
   "outputs": [
    {
     "data": {
      "text/html": [
       "<div>\n",
       "<style scoped>\n",
       "    .dataframe tbody tr th:only-of-type {\n",
       "        vertical-align: middle;\n",
       "    }\n",
       "\n",
       "    .dataframe tbody tr th {\n",
       "        vertical-align: top;\n",
       "    }\n",
       "\n",
       "    .dataframe thead th {\n",
       "        text-align: right;\n",
       "    }\n",
       "</style>\n",
       "<table border=\"1\" class=\"dataframe\">\n",
       "  <thead>\n",
       "    <tr style=\"text-align: right;\">\n",
       "      <th></th>\n",
       "      <th>0</th>\n",
       "      <th>1</th>\n",
       "    </tr>\n",
       "  </thead>\n",
       "  <tbody>\n",
       "    <tr>\n",
       "      <th>0</th>\n",
       "      <td>Central  Quality/Audit &amp; Certification \\nProcu...</td>\n",
       "      <td>C. Di Goro \\nP. Giovannoni  \\nL. Berna</td>\n",
       "    </tr>\n",
       "    <tr>\n",
       "      <th>1</th>\n",
       "      <td></td>\n",
       "      <td></td>\n",
       "    </tr>\n",
       "    <tr>\n",
       "      <th>2</th>\n",
       "      <td></td>\n",
       "      <td></td>\n",
       "    </tr>\n",
       "  </tbody>\n",
       "</table>\n",
       "</div>"
      ],
      "text/plain": [
       "                                                   0  \\\n",
       "0  Central  Quality/Audit & Certification \\nProcu...   \n",
       "1                                                      \n",
       "2                                                      \n",
       "\n",
       "                                        1  \n",
       "0  C. Di Goro \\nP. Giovannoni  \\nL. Berna  \n",
       "1                                          \n",
       "2                                          "
      ]
     },
     "execution_count": 15,
     "metadata": {},
     "output_type": "execute_result"
    }
   ],
   "source": [
    "tables[0].df"
   ]
  },
  {
   "cell_type": "code",
   "execution_count": 16,
   "id": "07c52f7d-aae6-40c2-be6b-25ed14845725",
   "metadata": {},
   "outputs": [
    {
     "data": {
      "text/html": [
       "<div>\n",
       "<style scoped>\n",
       "    .dataframe tbody tr th:only-of-type {\n",
       "        vertical-align: middle;\n",
       "    }\n",
       "\n",
       "    .dataframe tbody tr th {\n",
       "        vertical-align: top;\n",
       "    }\n",
       "\n",
       "    .dataframe thead th {\n",
       "        text-align: right;\n",
       "    }\n",
       "</style>\n",
       "<table border=\"1\" class=\"dataframe\">\n",
       "  <thead>\n",
       "    <tr style=\"text-align: right;\">\n",
       "      <th></th>\n",
       "      <th>0</th>\n",
       "      <th>1</th>\n",
       "      <th>2</th>\n",
       "      <th>3</th>\n",
       "    </tr>\n",
       "  </thead>\n",
       "  <tbody>\n",
       "    <tr>\n",
       "      <th>0</th>\n",
       "      <td>Rev.</td>\n",
       "      <td>Data</td>\n",
       "      <td>Descrizione</td>\n",
       "      <td>Autore</td>\n",
       "    </tr>\n",
       "    <tr>\n",
       "      <th>1</th>\n",
       "      <td>00</td>\n",
       "      <td>19/04/2013</td>\n",
       "      <td>Prima emissione</td>\n",
       "      <td>C. Di Goro, I. B. Bonvino, L. Berna, \\nG. Mari...</td>\n",
       "    </tr>\n",
       "    <tr>\n",
       "      <th>2</th>\n",
       "      <td>01</td>\n",
       "      <td>30/12/2015</td>\n",
       "      <td>Seconda emissione per: \\nadeguamento  del  pro...</td>\n",
       "      <td>C. Di Goro, P. Giovannoni, L. Berna, \\nA. Mini...</td>\n",
       "    </tr>\n",
       "    <tr>\n",
       "      <th>3</th>\n",
       "      <td></td>\n",
       "      <td></td>\n",
       "      <td></td>\n",
       "      <td></td>\n",
       "    </tr>\n",
       "  </tbody>\n",
       "</table>\n",
       "</div>"
      ],
      "text/plain": [
       "      0           1                                                  2  \\\n",
       "0  Rev.        Data                                        Descrizione   \n",
       "1    00  19/04/2013                                    Prima emissione   \n",
       "2    01  30/12/2015  Seconda emissione per: \\nadeguamento  del  pro...   \n",
       "3                                                                        \n",
       "\n",
       "                                                   3  \n",
       "0                                             Autore  \n",
       "1  C. Di Goro, I. B. Bonvino, L. Berna, \\nG. Mari...  \n",
       "2  C. Di Goro, P. Giovannoni, L. Berna, \\nA. Mini...  \n",
       "3                                                     "
      ]
     },
     "execution_count": 16,
     "metadata": {},
     "output_type": "execute_result"
    }
   ],
   "source": [
    "tables[1].df"
   ]
  },
  {
   "cell_type": "code",
   "execution_count": 17,
   "id": "52a2fc27-3a75-4306-9e5a-2f70f33add83",
   "metadata": {},
   "outputs": [
    {
     "name": "stderr",
     "output_type": "stream",
     "text": [
      "/tmp/ipykernel_6583/3259206825.py:1: UserWarning: FigureCanvasAgg is non-interactive, and thus cannot be shown\n",
      "  camelot.plot(tables[0], kind='text').show()\n"
     ]
    },
    {
     "data": {
      "image/png": "[encoded data removed]",
      "text/plain": [
       "<Figure size 640x480 with 1 Axes>"
      ]
     },
     "metadata": {},
     "output_type": "display_data"
    }
   ],
   "source": [
    "camelot.plot(tables[0], kind='text').show()"
   ]
  },
  {
   "cell_type": "code",
   "execution_count": 18,
   "id": "af51cc89-363f-4bc5-b151-2983c1686a19",
   "metadata": {},
   "outputs": [
    {
     "name": "stderr",
     "output_type": "stream",
     "text": [
      "/tmp/ipykernel_6583/2080387097.py:1: UserWarning: FigureCanvasAgg is non-interactive, and thus cannot be shown\n",
      "  camelot.plot(tables[1], kind='text').show()\n"
     ]
    },
    {
     "data": {
      "image/png": "[encoded data removed]",
      "text/plain": [
       "<Figure size 640x480 with 1 Axes>"
      ]
     },
     "metadata": {},
     "output_type": "display_data"
    }
   ],
   "source": [
    "camelot.plot(tables[1], kind='text').show()"
   ]
  },
  {
   "cell_type": "code",
   "execution_count": 19,
   "id": "a5fe096b-7430-40a3-874c-6e6f73b51743",
   "metadata": {},
   "outputs": [
    {
     "name": "stderr",
     "output_type": "stream",
     "text": [
      "/tmp/ipykernel_6583/311955129.py:1: UserWarning: FigureCanvasAgg is non-interactive, and thus cannot be shown\n",
      "  camelot.plot(tables[0], kind='grid').show()\n"
     ]
    },
    {
     "data": {
      "image/png": "[encoded data removed]",
      "text/plain": [
       "<Figure size 640x480 with 1 Axes>"
      ]
     },
     "metadata": {},
     "output_type": "display_data"
    }
   ],
   "source": [
    "camelot.plot(tables[0], kind='grid').show()"
   ]
  },
  {
   "cell_type": "code",
   "execution_count": 20,
   "id": "ae6a572d-b091-4b54-b1b7-78e3191f4954",
   "metadata": {},
   "outputs": [
    {
     "name": "stderr",
     "output_type": "stream",
     "text": [
      "/tmp/ipykernel_6583/741030849.py:1: UserWarning: FigureCanvasAgg is non-interactive, and thus cannot be shown\n",
      "  camelot.plot(tables[1], kind='grid').show()\n"
     ]
    },
    {
     "data": {
      "image/png": "[encoded data removed]",
      "text/plain": [
       "<Figure size 640x480 with 1 Axes>"
      ]
     },
     "metadata": {},
     "output_type": "display_data"
    }
   ],
   "source": [
    "camelot.plot(tables[1], kind='grid').show()"
   ]
  },
  {
   "cell_type": "code",
   "execution_count": null,
   "id": "259a02ea-1aad-449b-b851-ace9d4a695e8",
   "metadata": {},
   "outputs": [],
   "source": []
  }
 ],
 "metadata": {
  "kernelspec": {
   "display_name": "Python 3 (ipykernel)",
   "language": "python",
   "name": "python3"
  },
  "language_info": {
   "codemirror_mode": {
    "name": "ipython",
    "version": 3
   },
   "file_extension": ".py",
   "mimetype": "text/x-python",
   "name": "python",
   "nbconvert_exporter": "python",
   "pygments_lexer": "ipython3",
   "version": "3.10.12"
  }
 },
 "nbformat": 4,
 "nbformat_minor": 5
}
