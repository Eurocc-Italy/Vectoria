{
 "cells": [
  {
   "cell_type": "code",
   "execution_count": 7,
   "id": "32b3aa40-6b60-44c0-a977-ba1d4f08ce26",
   "metadata": {},
   "outputs": [],
   "source": [
    "from pypdf import PdfReader\n",
    "from pypdf.errors import PdfReadError"
   ]
  },
  {
   "cell_type": "code",
   "execution_count": 12,
   "id": "6877f2b8-8391-436b-9c72-8d7edd9adb34",
   "metadata": {},
   "outputs": [],
   "source": [
    "from eurocc_v1.paths import DATA_DIR, ROOT_DIR"
   ]
  },
  {
   "cell_type": "code",
   "execution_count": 13,
   "id": "3823c448-547a-4b32-b103-76585cbc2d82",
   "metadata": {},
   "outputs": [],
   "source": [
    "src_folder = DATA_DIR / \"raw\""
   ]
  },
  {
   "cell_type": "code",
   "execution_count": 24,
   "id": "4cfc94b2-64d0-4cbd-b85d-147a73f016fc",
   "metadata": {},
   "outputs": [],
   "source": [
    "out_folder = ROOT_DIR / \"notebooks\" / \"preprocessing\" / \"text_extraction\" / \"out\" / \"pypdf\"\n",
    "out_folder.mkdir(exist_ok=True)"
   ]
  },
  {
   "cell_type": "code",
   "execution_count": 25,
   "id": "773d6d8d-1d54-4203-ab91-d04f4a5dc45f",
   "metadata": {},
   "outputs": [],
   "source": [
    "input_doc = \"PRO002-P-IT rev.01 Selezione  Autorizzazione e Qualifica dei Fornitori cg.pdf\""
   ]
  },
  {
   "cell_type": "code",
   "execution_count": 26,
   "id": "71b32506-f823-4c30-93c4-18f4d8872a3f",
   "metadata": {},
   "outputs": [],
   "source": [
    "reader = PdfReader(src_folder / input_doc)"
   ]
  },
  {
   "cell_type": "markdown",
   "id": "6daeca29-138c-4a73-a7f3-26b499bd99cc",
   "metadata": {},
   "source": [
    "### Why text extraction is hard\n",
    "https://pypdf.readthedocs.io/en/stable/user/extract-text.html#why-text-extraction-is-hard"
   ]
  },
  {
   "cell_type": "markdown",
   "id": "1ba6acda-24cb-4126-9487-66b184660d27",
   "metadata": {},
   "source": [
    "## Read the first page"
   ]
  },
  {
   "cell_type": "code",
   "execution_count": 22,
   "id": "fb3852dd-3909-4205-87eb-4bcc10f78b9c",
   "metadata": {},
   "outputs": [],
   "source": [
    "curr_text = reader.pages[0].extract_text()\n",
    "with open(out_folder / \"pypdf_page_0.txt\", \"w\") as p:\n",
    "    p.write(curr_text)"
   ]
  },
  {
   "cell_type": "markdown",
   "id": "1fc1675b-00b9-4b39-afbf-bd9011e00262",
   "metadata": {},
   "source": [
    "## Read a page with a table"
   ]
  },
  {
   "cell_type": "code",
   "execution_count": 27,
   "id": "886596ea-4b6b-4fb1-9ebf-75c64b0b14fd",
   "metadata": {},
   "outputs": [],
   "source": [
    "curr_text = reader.pages[5].extract_text()\n",
    "with open(out_folder / \"pypdf_page_5.txt\", \"w\") as p:\n",
    "    p.write(curr_text)"
   ]
  },
  {
   "cell_type": "markdown",
   "id": "a84888db-8b0c-4d19-bbcc-ac6623b5823d",
   "metadata": {},
   "source": [
    "## Read a page with a table-like structure"
   ]
  },
  {
   "cell_type": "code",
   "execution_count": 28,
   "id": "b44e3cc9-d6a2-4e3c-b415-0b0febe38f41",
   "metadata": {},
   "outputs": [],
   "source": [
    "curr_text = reader.pages[14].extract_text()\n",
    "with open(out_folder / \"pypdf_page_14.txt\", \"w\") as p:\n",
    "    p.write(curr_text)"
   ]
  },
  {
   "cell_type": "markdown",
   "id": "4dc2c635-6bc2-436b-a200-be5cc835493a",
   "metadata": {},
   "source": [
    "## Read TOC"
   ]
  },
  {
   "cell_type": "code",
   "execution_count": 31,
   "id": "24077b7c-4415-4bf9-934a-7095127c1873",
   "metadata": {},
   "outputs": [],
   "source": [
    "curr_text = reader.pages[2].extract_text()\n",
    "with open(out_folder / \"pypdf_page_2.txt\", \"w\") as p:\n",
    "    p.write(curr_text)"
   ]
  },
  {
   "cell_type": "code",
   "execution_count": null,
   "id": "2c1f9c96-9c5a-43ea-9f9a-a41a3fffcdae",
   "metadata": {},
   "outputs": [],
   "source": []
  }
 ],
 "metadata": {
  "kernelspec": {
   "display_name": "Python 3 (ipykernel)",
   "language": "python",
   "name": "python3"
  },
  "language_info": {
   "codemirror_mode": {
    "name": "ipython",
    "version": 3
   },
   "file_extension": ".py",
   "mimetype": "text/x-python",
   "name": "python",
   "nbconvert_exporter": "python",
   "pygments_lexer": "ipython3",
   "version": "3.10.12"
  }
 },
 "nbformat": 4,
 "nbformat_minor": 5
}
