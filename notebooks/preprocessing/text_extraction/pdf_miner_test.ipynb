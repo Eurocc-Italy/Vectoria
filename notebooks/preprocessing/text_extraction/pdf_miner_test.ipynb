{
 "cells": [
  {
   "cell_type": "code",
   "execution_count": 9,
   "id": "e99a7e5c-c132-4b74-8622-ffda6bdf2adf",
   "metadata": {},
   "outputs": [],
   "source": [
    "from tqdm import tqdm\n",
    "from pdfminer.high_level import extract_text"
   ]
  },
  {
   "cell_type": "code",
   "execution_count": 10,
   "id": "f900c6ad-ac47-4c34-a736-95b92e9e80a6",
   "metadata": {},
   "outputs": [],
   "source": [
    "from eurocc_v1.paths import DATA_DIR, ROOT_DIR"
   ]
  },
  {
   "cell_type": "code",
   "execution_count": 11,
   "id": "43a72469-be6b-4e11-8d15-74856f053dca",
   "metadata": {},
   "outputs": [],
   "source": [
    "src_folder = DATA_DIR / \"raw\""
   ]
  },
  {
   "cell_type": "code",
   "execution_count": 12,
   "id": "9b5183d2-5948-4041-b1bf-f1ed4bf177a9",
   "metadata": {},
   "outputs": [],
   "source": [
    "out_folder = ROOT_DIR / \"notebooks\" / \"preprocessing\" / \"text_extraction\" / \"out\" / \"pdf_miner\"\n",
    "out_folder.mkdir(exist_ok=True)"
   ]
  },
  {
   "cell_type": "code",
   "execution_count": 13,
   "id": "72df8062-f2e2-4f37-bb36-b4d5d44ca43c",
   "metadata": {},
   "outputs": [],
   "source": [
    "input_doc = \"PRO002-P-IT rev.01 Selezione  Autorizzazione e Qualifica dei Fornitori cg.pdf\""
   ]
  },
  {
   "cell_type": "markdown",
   "id": "8b105fe1-cc32-423e-bb86-a115ef228591",
   "metadata": {},
   "source": [
    "## Read the first page"
   ]
  },
  {
   "cell_type": "code",
   "execution_count": 25,
   "id": "4374376e-134d-4e7d-8e6c-b1268c9a8a11",
   "metadata": {},
   "outputs": [],
   "source": [
    "text = extract_text(src_folder / input_doc, maxpages=1)\n",
    "with open(out_folder / \"pdf_minder_page_0.txt\", \"w\") as p:\n",
    "    p.write(text)"
   ]
  },
  {
   "cell_type": "markdown",
   "id": "fdea33e7-5063-4398-8f60-8f7761b56394",
   "metadata": {},
   "source": [
    "## Read a page with a table"
   ]
  },
  {
   "cell_type": "code",
   "execution_count": 26,
   "id": "bd8b8fab-f283-4983-9a05-90f8c80c40a0",
   "metadata": {},
   "outputs": [],
   "source": [
    "text = extract_text(src_folder / input_doc, maxpages=1, page_numbers=[5])\n",
    "with open(out_folder / \"pdf_minder_page_5.txt\", \"w\") as p:\n",
    "    p.write(text)"
   ]
  },
  {
   "cell_type": "markdown",
   "id": "b77cf11a-9b4d-4bb5-87a0-a2395f46b17f",
   "metadata": {},
   "source": [
    "## Read a page with a table-like structure"
   ]
  },
  {
   "cell_type": "code",
   "execution_count": 30,
   "id": "e26ad739-5760-4f23-992f-fd3f61779081",
   "metadata": {},
   "outputs": [],
   "source": [
    "text = extract_text(src_folder / input_doc, maxpages=1, page_numbers=[14])\n",
    "with open(out_folder / \"pdf_miner_page_14.txt\", \"w\") as p:\n",
    "    p.write(text)"
   ]
  },
  {
   "cell_type": "markdown",
   "id": "7bedd3f0-385e-44aa-a191-147b2e51b85f",
   "metadata": {},
   "source": [
    "## Read TOC"
   ]
  },
  {
   "cell_type": "code",
   "execution_count": 32,
   "id": "bc38e39e-8bd0-48e8-8750-fc4255993a3e",
   "metadata": {},
   "outputs": [],
   "source": [
    "text = extract_text(src_folder / input_doc, maxpages=1, page_numbers=[2])\n",
    "with open(out_folder / \"pdf_miner_page_2.txt\", \"w\") as p:\n",
    "    p.write(text)"
   ]
  },
  {
   "cell_type": "markdown",
   "id": "6e545d0b-751c-45a2-814c-0d000279c05e",
   "metadata": {},
   "source": [
    "## Read layout"
   ]
  },
  {
   "cell_type": "code",
   "execution_count": 28,
   "id": "d9e1d4f9-4213-4ec1-858b-640b56969a57",
   "metadata": {},
   "outputs": [
    {
     "name": "stdout",
     "output_type": "stream",
     "text": [
      "<LTTextBoxHorizontal(0) 53.040,664.248,122.309,674.208 'IDENTIFICATIVO: \\n'>\n",
      "<LTTextBoxHorizontal(1) 145.220,664.248,246.419,674.208 'PRO002-P-IT Rev. 01 \\n'>\n",
      "<LTTextBoxHorizontal(2) 53.040,643.608,81.393,653.568 'DATA: \\n'>\n",
      "<LTTextBoxHorizontal(3) 145.220,643.608,198.059,653.568 '30/12/2015 \\n'>\n",
      "<LTTextBoxHorizontal(4) 53.040,622.848,212.459,632.808 'TIPO DOCUMENTO:  PROCEDURA \\n'>\n",
      "<LTTextBoxHorizontal(5) 53.040,601.968,118.229,611.928 'APPLICAZIONE: \\n'>\n",
      "<LTTextBoxHorizontal(6) 145.220,600.408,221.339,610.368 'Selex ES S.p.A. \\n'>\n",
      "<LTTextBoxHorizontal(7) 61.584,447.070,539.496,498.670 'Selezione, Autorizzazione e Qualifica dei \\nFornitori  \\n'>\n",
      "<LTTextBoxHorizontal(8) 54.984,219.718,106.349,229.678 'SOMMARIO: \\n'>\n",
      "<LTTextBoxHorizontal(9) 54.984,187.408,548.577,209.368 'Il  presente  documento  descrive  le  attività  di  selezione,  autorizzazione  e  qualifica  dei  fornitori  utilizzabili  in \\nSelex ES S.p.A e la gestione degli stessi nell’Elenco Fornitori Qualificati (EFQ) e nell’Anagrafica Fornitori SAP. \\n'>\n",
      "<LTTextBoxHorizontal(10) 60.024,49.352,546.282,84.992 'Le informazioni contenute nel presente documento sono di proprietà di Selex ES S.p.A. e non possono, al pari di tale documento, essere \\nriprodotte, utilizzate o divulgate in tutto o in parte a terzi senza preventiva autorizzazione scritta di Selex ES S.p.A. \\nIl documento è disponibile nell’Intranet Aziendale/BMS di Selex ES S.p.A. Le copie, sia in formato elettronico che cartaceo dovranno \\nessere verificate, prima dell’utilizzo, con la versione vigente disponibile su Intranet. \\n'>\n",
      "<LTTextBoxHorizontal(11) 195.890,32.376,410.722,41.430 '© Copyright Selex ES S.p.A. 2014 - Tutti i diritti riservati \\n'>\n",
      "<LTFigure(Image5) 25.800,699.170,587.550,723.220 matrix=[561.75,0.00,0.00,24.05, (25.80,699.17)]>\n",
      "<LTCurve 82.939,183.460,182.820,281.600>\n",
      "<LTCurve 155.420,244.600,247.700,328.720>\n",
      "<LTCurve 209.830,271.190,291.940,373.820>\n",
      "<LTCurve 232.640,313.280,281.290,362.800>\n",
      "<LTCurve 273.750,354.530,347.860,427.840>\n",
      "<LTCurve 285.000,382.120,319.480,416.820>\n",
      "<LTCurve 318.180,399.200,378.050,476.320>\n",
      "<LTCurve 358.870,436.330,445.690,516.650>\n",
      "<LTCurve 391.550,448.580,419.400,489.780>\n",
      "<LTCurve 393.830,493.040,476.110,565.300>\n",
      "<LTCurve 441.210,522.200,514.120,596.180>\n",
      "<LTCurve 452.820,533.840,503.570,584.590>\n",
      "<LTRect 55.224,32.400,549.004,43.344>\n",
      "<LTRect 51.240,95.784,552.960,96.264>\n",
      "<LTFigure(Image25) 46.500,718.920,248.250,795.120 matrix=[201.75,0.00,0.00,76.20, (46.50,718.92)]>\n",
      "<LTTextLineHorizontal 56.664,786.682,59.733,797.722 ' \\n'>\n",
      "<LTTextLineHorizontal 302.110,88.232,303.211,92.192 ' \\n'>\n",
      "<LTTextLineHorizontal 56.664,24.338,58.599,31.298 ' \\n'>\n",
      "<LTTextLineHorizontal 53.040,580.728,55.809,590.688 ' \\n'>\n",
      "<LTTextLineHorizontal 145.220,579.168,147.989,589.128 ' \\n'>\n",
      "<LTTextLineHorizontal 56.664,562.352,59.733,573.392 ' \\n'>\n",
      "<LTTextLineHorizontal 56.664,547.352,59.733,558.392 ' \\n'>\n",
      "<LTTextLineHorizontal 56.664,532.352,59.733,543.392 ' \\n'>\n",
      "<LTTextLineHorizontal 56.664,517.352,59.733,528.392 ' \\n'>\n",
      "<LTTextLineHorizontal 297.670,421.322,301.573,435.362 ' \\n'>\n",
      "<LTTextLineHorizontal 56.664,399.512,59.733,410.552 ' \\n'>\n",
      "<LTTextLineHorizontal 56.664,384.492,59.733,395.532 ' \\n'>\n",
      "<LTTextLineHorizontal 56.664,369.492,59.733,380.532 ' \\n'>\n",
      "<LTTextLineHorizontal 56.664,354.492,59.733,365.532 ' \\n'>\n",
      "<LTTextLineHorizontal 56.664,339.492,59.733,350.532 ' \\n'>\n",
      "<LTTextLineHorizontal 56.664,324.492,59.733,335.532 ' \\n'>\n",
      "<LTTextLineHorizontal 56.664,309.492,59.733,320.532 ' \\n'>\n",
      "<LTTextLineHorizontal 56.664,294.492,59.733,305.532 ' \\n'>\n",
      "<LTTextLineHorizontal 56.664,279.492,59.733,290.532 ' \\n'>\n",
      "<LTTextLineHorizontal 56.664,264.492,59.733,275.532 ' \\n'>\n",
      "<LTTextLineHorizontal 56.664,249.492,59.733,260.532 ' \\n'>\n",
      "<LTTextLineHorizontal 56.664,234.492,59.733,245.532 ' \\n'>\n",
      "<LTTextLineHorizontal 56.664,172.662,59.733,183.702 ' \\n'>\n",
      "<LTTextLineHorizontal 56.664,157.662,59.733,168.702 ' \\n'>\n",
      "<LTTextLineHorizontal 56.664,142.662,59.733,153.702 ' \\n'>\n"
     ]
    }
   ],
   "source": [
    "from pdfminer.high_level import extract_pages\n",
    "for page_layout in extract_pages(src_folder / input_doc, maxpages=1, page_numbers=[0]):\n",
    "    for element in page_layout:\n",
    "        print(element)"
   ]
  },
  {
   "cell_type": "code",
   "execution_count": null,
   "id": "a115214b-3afe-4f92-ac2d-c1fd01228a3c",
   "metadata": {},
   "outputs": [],
   "source": []
  }
 ],
 "metadata": {
  "kernelspec": {
   "display_name": "Python 3 (ipykernel)",
   "language": "python",
   "name": "python3"
  },
  "language_info": {
   "codemirror_mode": {
    "name": "ipython",
    "version": 3
   },
   "file_extension": ".py",
   "mimetype": "text/x-python",
   "name": "python",
   "nbconvert_exporter": "python",
   "pygments_lexer": "ipython3",
   "version": "3.10.12"
  }
 },
 "nbformat": 4,
 "nbformat_minor": 5
}
